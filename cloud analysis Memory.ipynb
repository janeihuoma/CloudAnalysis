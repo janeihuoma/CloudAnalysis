{
 "cells": [
  {
   "cell_type": "markdown",
   "metadata": {},
   "source": [
    "# Preparing"
   ]
  },
  {
   "cell_type": "markdown",
   "metadata": {},
   "source": [
    "## Import"
   ]
  },
  {
   "cell_type": "code",
   "execution_count": 1,
   "metadata": {
    "ExecuteTime": {
     "end_time": "2021-06-30T09:25:09.699726Z",
     "start_time": "2021-06-30T09:25:08.296223Z"
    }
   },
   "outputs": [],
   "source": [
    "import numpy as np\n",
    "import pandas as pd\n",
    "import seaborn as sns\n",
    "import matplotlib\n",
    "import matplotlib.pyplot as plt\n",
    "\n",
    "#from utils import *\n",
    "pd.set_option('display.max_colwidth', 1000)\n",
    "pd.set_option('display.max_columns', 100)\n",
    "matplotlib.rcParams.update({\"font.size\": 16,'lines.linewidth': 2.5})\n",
    "# matplotlib.rcdefaults()"
   ]
  },
  {
   "cell_type": "code",
   "execution_count": 2,
   "metadata": {},
   "outputs": [
    {
     "data": {
      "text/plain": [
       "\"\\nLOGDIR = '../trace-data'\\nDATE_FORMAT_STR = '%Y-%m-%d %H:%M:%S'\\nMINUTES_PER_DAY = (24 * 60)\\nMICROSECONDS_PER_MINUTE = (60 * 1000)\\n\""
      ]
     },
     "execution_count": 2,
     "metadata": {},
     "output_type": "execute_result"
    }
   ],
   "source": [
    "'''\n",
    "LOGDIR = '../trace-data'\n",
    "DATE_FORMAT_STR = '%Y-%m-%d %H:%M:%S'\n",
    "MINUTES_PER_DAY = (24 * 60)\n",
    "MICROSECONDS_PER_MINUTE = (60 * 1000)\n",
    "'''"
   ]
  },
  {
   "cell_type": "code",
   "execution_count": 3,
   "metadata": {},
   "outputs": [
    {
     "data": {
      "text/plain": [
       "'\\ndef parse_date(date_str):\\n    \"\"\"Parses a date string and returns a datetime object if possible.\\n    \\n       Args:\\n           date_str: A string representing a date.\\n        \\n       Returns:\\n           A datetime object if the input string could be successfully\\n           parsed, None otherwise.\\n    \"\"\"\\n    if date_str is None or date_str == \\'\\' or date_str == \\'None\\':\\n        return None\\n    return datetime.datetime.strptime(date_str, DATE_FORMAT_STR)\\n\\ndef timedelta_to_minutes(timedelta):\\n    \"\"\"Converts a datetime timedelta object to minutes.\\n    \\n       Args:\\n           timedelta: The timedelta to convert.\\n           \\n       Returns:\\n           The number of minutes captured in the timedelta.\\n    \"\"\"\\n    minutes = 0.0\\n    minutes += timedelta.days * MINUTES_PER_DAY\\n    minutes += timedelta.seconds / 60.0\\n    minutes += timedelta.microseconds / MICROSECONDS_PER_MINUTE\\n    return minutes\\n\\ndef round_to_nearest_minute(t):\\n    \"\"\"Rounds a datetime object down to the nearest minute.\\n    \\n       Args:\\n           t: A datetime object.\\n           \\n        Returns:\\n            A new rounded down datetime object.\\n    \"\"\"\\n    return t - datetime.timedelta(seconds=t.second, microseconds=t.microsecond)\\n\\ndef add_minute(t):\\n    \"\"\"Adds a single minute to a datetime object.\\n    \\n       Args:\\n           t: A datetime object.\\n           \\n        Returns:\\n            A new datetime object with an additional minute.\\n    \"\"\"\\n    return t + datetime.timedelta(seconds=60)\\n'"
      ]
     },
     "execution_count": 3,
     "metadata": {},
     "output_type": "execute_result"
    }
   ],
   "source": [
    "'''\n",
    "def parse_date(date_str):\n",
    "    \"\"\"Parses a date string and returns a datetime object if possible.\n",
    "    \n",
    "       Args:\n",
    "           date_str: A string representing a date.\n",
    "        \n",
    "       Returns:\n",
    "           A datetime object if the input string could be successfully\n",
    "           parsed, None otherwise.\n",
    "    \"\"\"\n",
    "    if date_str is None or date_str == '' or date_str == 'None':\n",
    "        return None\n",
    "    return datetime.datetime.strptime(date_str, DATE_FORMAT_STR)\n",
    "\n",
    "def timedelta_to_minutes(timedelta):\n",
    "    \"\"\"Converts a datetime timedelta object to minutes.\n",
    "    \n",
    "       Args:\n",
    "           timedelta: The timedelta to convert.\n",
    "           \n",
    "       Returns:\n",
    "           The number of minutes captured in the timedelta.\n",
    "    \"\"\"\n",
    "    minutes = 0.0\n",
    "    minutes += timedelta.days * MINUTES_PER_DAY\n",
    "    minutes += timedelta.seconds / 60.0\n",
    "    minutes += timedelta.microseconds / MICROSECONDS_PER_MINUTE\n",
    "    return minutes\n",
    "\n",
    "def round_to_nearest_minute(t):\n",
    "    \"\"\"Rounds a datetime object down to the nearest minute.\n",
    "    \n",
    "       Args:\n",
    "           t: A datetime object.\n",
    "           \n",
    "        Returns:\n",
    "            A new rounded down datetime object.\n",
    "    \"\"\"\n",
    "    return t - datetime.timedelta(seconds=t.second, microseconds=t.microsecond)\n",
    "\n",
    "def add_minute(t):\n",
    "    \"\"\"Adds a single minute to a datetime object.\n",
    "    \n",
    "       Args:\n",
    "           t: A datetime object.\n",
    "           \n",
    "        Returns:\n",
    "            A new datetime object with an additional minute.\n",
    "    \"\"\"\n",
    "    return t + datetime.timedelta(seconds=60)\n",
    "'''"
   ]
  },
  {
   "cell_type": "code",
   "execution_count": 4,
   "metadata": {
    "ExecuteTime": {
     "end_time": "2021-06-30T09:25:56.804953Z",
     "start_time": "2021-06-30T09:25:09.701286Z"
    }
   },
   "outputs": [],
   "source": [
    "#Load the 7 datasets into dataframes\n",
    "dfj=pd.read_csv(r\"C:\\Users\\Dell\\Documents\\Jane\\data\\pai_job_table.csv\")\n",
    "dft=pd.read_csv(r\"C:\\Users\\Dell\\Documents\\Jane\\data\\pai_task_table.csv\")\n",
    "dfi=pd.read_csv(r\"C:\\Users\\Dell\\Documents\\Jane\\data\\pai_instance_table.csv\")\n",
    "dfs=pd.read_csv(r\"C:\\Users\\Dell\\Documents\\Jane\\data\\pai_sensor_table.csv\")\n",
    "dfg=pd.read_csv(r\"C:\\Users\\Dell\\Documents\\Jane\\data\\pai_group_tag_table.csv\")\n",
    "dfp=pd.read_csv(r\"C:\\Users\\Dell\\Documents\\Jane\\data\\pai_machine_spec.csv\")\n",
    "dfm=pd.read_csv(r\"C:\\Users\\Dell\\Documents\\Jane\\data\\pai_machine_metric.csv\")"
   ]
  },
  {
   "cell_type": "code",
   "execution_count": 5,
   "metadata": {},
   "outputs": [],
   "source": [
    "dfb=pd.concat([dfi,dfs],ignore_index=True)"
   ]
  },
  {
   "cell_type": "code",
   "execution_count": 6,
   "metadata": {},
   "outputs": [
    {
     "data": {
      "text/html": [
       "<div>\n",
       "<style scoped>\n",
       "    .dataframe tbody tr th:only-of-type {\n",
       "        vertical-align: middle;\n",
       "    }\n",
       "\n",
       "    .dataframe tbody tr th {\n",
       "        vertical-align: top;\n",
       "    }\n",
       "\n",
       "    .dataframe thead th {\n",
       "        text-align: right;\n",
       "    }\n",
       "</style>\n",
       "<table border=\"1\" class=\"dataframe\">\n",
       "  <thead>\n",
       "    <tr style=\"text-align: right;\">\n",
       "      <th></th>\n",
       "      <th>job_name</th>\n",
       "      <th>task_name</th>\n",
       "      <th>inst_name</th>\n",
       "      <th>worker_name</th>\n",
       "      <th>inst_id</th>\n",
       "      <th>status</th>\n",
       "      <th>start_time</th>\n",
       "      <th>end_time</th>\n",
       "      <th>machine</th>\n",
       "      <th>gpu_name</th>\n",
       "      <th>cpu_usage</th>\n",
       "      <th>gpu_wrk_util</th>\n",
       "      <th>avg_mem</th>\n",
       "      <th>max_mem</th>\n",
       "      <th>avg_gpu_wrk_mem</th>\n",
       "      <th>max_gpu_wrk_mem</th>\n",
       "      <th>read</th>\n",
       "      <th>write</th>\n",
       "      <th>read_count</th>\n",
       "      <th>write_count</th>\n",
       "    </tr>\n",
       "  </thead>\n",
       "  <tbody>\n",
       "    <tr>\n",
       "      <th>0</th>\n",
       "      <td>54670e2998350a9f0e4868d5</td>\n",
       "      <td>worker</td>\n",
       "      <td>c47ee192deea8c5aa87d8d7c2e02120cd03f75304a69dde378ac4abad45c</td>\n",
       "      <td>05b1590648df3f4c6deea2496bbbefd4d3ae93347669f764d466128a150f</td>\n",
       "      <td>68889727c2257f702108d185e5eed342a39807a2893d4bac00987159d00c</td>\n",
       "      <td>Terminated</td>\n",
       "      <td>3272995.0</td>\n",
       "      <td>3273065.0</td>\n",
       "      <td>165261853e188ca69c4fbcdf</td>\n",
       "      <td>NaN</td>\n",
       "      <td>NaN</td>\n",
       "      <td>NaN</td>\n",
       "      <td>NaN</td>\n",
       "      <td>NaN</td>\n",
       "      <td>NaN</td>\n",
       "      <td>NaN</td>\n",
       "      <td>NaN</td>\n",
       "      <td>NaN</td>\n",
       "      <td>NaN</td>\n",
       "      <td>NaN</td>\n",
       "    </tr>\n",
       "    <tr>\n",
       "      <th>1</th>\n",
       "      <td>54670e2998350a9f0e4868d5</td>\n",
       "      <td>worker</td>\n",
       "      <td>92759a73039692b2d3e0929cadf55f5b07b40d6582c36fdf15c6c1cb493a</td>\n",
       "      <td>cbc1bc591c53301bceafa44dc626288fd92d2fc5dca43813d9ff7f8d56ae</td>\n",
       "      <td>68889727c2257f702108d185e5eed342a39807a2893d4bac00987159d00c</td>\n",
       "      <td>Terminated</td>\n",
       "      <td>3272995.0</td>\n",
       "      <td>3273056.0</td>\n",
       "      <td>31dbf829549b10917e7193a6</td>\n",
       "      <td>NaN</td>\n",
       "      <td>NaN</td>\n",
       "      <td>NaN</td>\n",
       "      <td>NaN</td>\n",
       "      <td>NaN</td>\n",
       "      <td>NaN</td>\n",
       "      <td>NaN</td>\n",
       "      <td>NaN</td>\n",
       "      <td>NaN</td>\n",
       "      <td>NaN</td>\n",
       "      <td>NaN</td>\n",
       "    </tr>\n",
       "    <tr>\n",
       "      <th>2</th>\n",
       "      <td>54670e2998350a9f0e4868d5</td>\n",
       "      <td>worker</td>\n",
       "      <td>b3e42abde4c35da06ff4746802b82678b1bf56b28efaa1b4994b1abbdc88</td>\n",
       "      <td>09d41bf627188adc004b2db7c0a47578325952cc3340af02a351480dae90</td>\n",
       "      <td>68889727c2257f702108d185e5eed342a39807a2893d4bac00987159d00c</td>\n",
       "      <td>Terminated</td>\n",
       "      <td>3272995.0</td>\n",
       "      <td>3273067.0</td>\n",
       "      <td>31dbf829549b10917e7193a6</td>\n",
       "      <td>NaN</td>\n",
       "      <td>NaN</td>\n",
       "      <td>NaN</td>\n",
       "      <td>NaN</td>\n",
       "      <td>NaN</td>\n",
       "      <td>NaN</td>\n",
       "      <td>NaN</td>\n",
       "      <td>NaN</td>\n",
       "      <td>NaN</td>\n",
       "      <td>NaN</td>\n",
       "      <td>NaN</td>\n",
       "    </tr>\n",
       "    <tr>\n",
       "      <th>3</th>\n",
       "      <td>54670e2998350a9f0e4868d5</td>\n",
       "      <td>worker</td>\n",
       "      <td>d0f2e1f76ff463bcd08302370cc2f9bf0ec1333a3b25e325bc1b57debff7</td>\n",
       "      <td>1a631e8be3fd787c2891c15b9e9bac6df4f177efc9ec7b954283c8648554</td>\n",
       "      <td>68889727c2257f702108d185e5eed342a39807a2893d4bac00987159d00c</td>\n",
       "      <td>Terminated</td>\n",
       "      <td>3272995.0</td>\n",
       "      <td>3273058.0</td>\n",
       "      <td>3765d45e2eca88d1d1da7cef</td>\n",
       "      <td>NaN</td>\n",
       "      <td>NaN</td>\n",
       "      <td>NaN</td>\n",
       "      <td>NaN</td>\n",
       "      <td>NaN</td>\n",
       "      <td>NaN</td>\n",
       "      <td>NaN</td>\n",
       "      <td>NaN</td>\n",
       "      <td>NaN</td>\n",
       "      <td>NaN</td>\n",
       "      <td>NaN</td>\n",
       "    </tr>\n",
       "    <tr>\n",
       "      <th>4</th>\n",
       "      <td>54670e2998350a9f0e4868d5</td>\n",
       "      <td>worker</td>\n",
       "      <td>0243b1305fd38f228634b23f69de5ed5ce801360eeffdc990834becc78b4</td>\n",
       "      <td>59aea81c00cccb5cd01ca2f7f72877d6bc73b427821986ce84858c51c4d8</td>\n",
       "      <td>68889727c2257f702108d185e5eed342a39807a2893d4bac00987159d00c</td>\n",
       "      <td>Terminated</td>\n",
       "      <td>3272995.0</td>\n",
       "      <td>3273059.0</td>\n",
       "      <td>c0d6760f6248ea8260e36fa5</td>\n",
       "      <td>NaN</td>\n",
       "      <td>NaN</td>\n",
       "      <td>NaN</td>\n",
       "      <td>NaN</td>\n",
       "      <td>NaN</td>\n",
       "      <td>NaN</td>\n",
       "      <td>NaN</td>\n",
       "      <td>NaN</td>\n",
       "      <td>NaN</td>\n",
       "      <td>NaN</td>\n",
       "      <td>NaN</td>\n",
       "    </tr>\n",
       "    <tr>\n",
       "      <th>...</th>\n",
       "      <td>...</td>\n",
       "      <td>...</td>\n",
       "      <td>...</td>\n",
       "      <td>...</td>\n",
       "      <td>...</td>\n",
       "      <td>...</td>\n",
       "      <td>...</td>\n",
       "      <td>...</td>\n",
       "      <td>...</td>\n",
       "      <td>...</td>\n",
       "      <td>...</td>\n",
       "      <td>...</td>\n",
       "      <td>...</td>\n",
       "      <td>...</td>\n",
       "      <td>...</td>\n",
       "      <td>...</td>\n",
       "      <td>...</td>\n",
       "      <td>...</td>\n",
       "      <td>...</td>\n",
       "      <td>...</td>\n",
       "    </tr>\n",
       "    <tr>\n",
       "      <th>4069722</th>\n",
       "      <td>d0e0a3558abce5d45072863a</td>\n",
       "      <td>PyTorchWorker</td>\n",
       "      <td>NaN</td>\n",
       "      <td>000a541be117d8643e6d830c287b4cd872d59b1cfb47cfbf6a89d841f26b</td>\n",
       "      <td>c99f2b75c7ad053a485cfb87ca55adee17efd3d52bd52d367ba41d4d15a2</td>\n",
       "      <td>NaN</td>\n",
       "      <td>NaN</td>\n",
       "      <td>NaN</td>\n",
       "      <td>1aafda90cc6f46f0f4f90e32</td>\n",
       "      <td>/dev/nvidia0</td>\n",
       "      <td>79.750000</td>\n",
       "      <td>0.0</td>\n",
       "      <td>0.429199</td>\n",
       "      <td>0.747070</td>\n",
       "      <td>0.0</td>\n",
       "      <td>0.0</td>\n",
       "      <td>1.922363e+08</td>\n",
       "      <td>2.869013e+08</td>\n",
       "      <td>21165.800000</td>\n",
       "      <td>19090.600000</td>\n",
       "    </tr>\n",
       "    <tr>\n",
       "      <th>4069723</th>\n",
       "      <td>7ff3e872b8be51537beeefde</td>\n",
       "      <td>PyTorchWorker</td>\n",
       "      <td>NaN</td>\n",
       "      <td>4e0e26f837a6c8882a1e672ffd3c3484d1e2d8a83a816d6215b993333cf6</td>\n",
       "      <td>b99050ffacf3f321400a836d0e9f9183d49fa4b695aada7c4f6f29b74f59</td>\n",
       "      <td>NaN</td>\n",
       "      <td>NaN</td>\n",
       "      <td>NaN</td>\n",
       "      <td>12bcc4fceea93a30d7d0f324</td>\n",
       "      <td>/dev/nvidia0</td>\n",
       "      <td>112.500000</td>\n",
       "      <td>0.0</td>\n",
       "      <td>0.329102</td>\n",
       "      <td>0.641602</td>\n",
       "      <td>0.0</td>\n",
       "      <td>0.0</td>\n",
       "      <td>1.696908e+08</td>\n",
       "      <td>2.661021e+08</td>\n",
       "      <td>16798.000000</td>\n",
       "      <td>16447.666667</td>\n",
       "    </tr>\n",
       "    <tr>\n",
       "      <th>4069724</th>\n",
       "      <td>a155d69dca6bfd2dfb78ef0d</td>\n",
       "      <td>JupyterTask</td>\n",
       "      <td>NaN</td>\n",
       "      <td>7245da946677b8ed70a486cffd5bb93a2296d652286ecb361b35f2c2486c</td>\n",
       "      <td>267c02fbda06c42fb83fc8034d2be1c51149127deb22921131c009967abf</td>\n",
       "      <td>NaN</td>\n",
       "      <td>NaN</td>\n",
       "      <td>NaN</td>\n",
       "      <td>943fe1a04fa90bf140cb9d85</td>\n",
       "      <td>/dev/nvidia7</td>\n",
       "      <td>6.725577</td>\n",
       "      <td>0.0</td>\n",
       "      <td>2.187771</td>\n",
       "      <td>3.404297</td>\n",
       "      <td>0.0</td>\n",
       "      <td>0.0</td>\n",
       "      <td>9.655890e+06</td>\n",
       "      <td>1.389712e+07</td>\n",
       "      <td>1762.840284</td>\n",
       "      <td>1969.509317</td>\n",
       "    </tr>\n",
       "    <tr>\n",
       "      <th>4069725</th>\n",
       "      <td>f11820cc3d678bcdc37faf08</td>\n",
       "      <td>PyTorchWorker</td>\n",
       "      <td>NaN</td>\n",
       "      <td>3fc512df15638907eb4b04a67c28fe77132aed60a53a97bea21e727362a7</td>\n",
       "      <td>d50242c89f3a25bd20ef700701777823c415ad0321dcb37097914bb7cb0b</td>\n",
       "      <td>NaN</td>\n",
       "      <td>NaN</td>\n",
       "      <td>NaN</td>\n",
       "      <td>14c1d6a040a33046698786e1</td>\n",
       "      <td>/dev/nvidia2</td>\n",
       "      <td>73.000000</td>\n",
       "      <td>0.0</td>\n",
       "      <td>0.143555</td>\n",
       "      <td>0.270508</td>\n",
       "      <td>0.0</td>\n",
       "      <td>0.0</td>\n",
       "      <td>6.101400e+07</td>\n",
       "      <td>7.727868e+07</td>\n",
       "      <td>4462.333333</td>\n",
       "      <td>3738.333333</td>\n",
       "    </tr>\n",
       "    <tr>\n",
       "      <th>4069726</th>\n",
       "      <td>ee3480523c1bf79b0d02c260</td>\n",
       "      <td>JupyterTask</td>\n",
       "      <td>NaN</td>\n",
       "      <td>ef091da4e66eae8a76e2b7c61c17bb23793a31d529a20249e721f464ed47</td>\n",
       "      <td>6c6338d4ac59fd1157e569fd6b5de6b70975c65112e9ba787e5b644e8159</td>\n",
       "      <td>NaN</td>\n",
       "      <td>NaN</td>\n",
       "      <td>NaN</td>\n",
       "      <td>406434e56cf426692a4762b6</td>\n",
       "      <td>/dev/nvidia5</td>\n",
       "      <td>2.535326</td>\n",
       "      <td>0.0</td>\n",
       "      <td>0.248111</td>\n",
       "      <td>0.265625</td>\n",
       "      <td>0.0</td>\n",
       "      <td>0.0</td>\n",
       "      <td>1.521280e+05</td>\n",
       "      <td>7.716149e+04</td>\n",
       "      <td>105.113821</td>\n",
       "      <td>38.170732</td>\n",
       "    </tr>\n",
       "  </tbody>\n",
       "</table>\n",
       "<p>4069727 rows × 20 columns</p>\n",
       "</div>"
      ],
      "text/plain": [
       "                         job_name      task_name  \\\n",
       "0        54670e2998350a9f0e4868d5         worker   \n",
       "1        54670e2998350a9f0e4868d5         worker   \n",
       "2        54670e2998350a9f0e4868d5         worker   \n",
       "3        54670e2998350a9f0e4868d5         worker   \n",
       "4        54670e2998350a9f0e4868d5         worker   \n",
       "...                           ...            ...   \n",
       "4069722  d0e0a3558abce5d45072863a  PyTorchWorker   \n",
       "4069723  7ff3e872b8be51537beeefde  PyTorchWorker   \n",
       "4069724  a155d69dca6bfd2dfb78ef0d    JupyterTask   \n",
       "4069725  f11820cc3d678bcdc37faf08  PyTorchWorker   \n",
       "4069726  ee3480523c1bf79b0d02c260    JupyterTask   \n",
       "\n",
       "                                                            inst_name  \\\n",
       "0        c47ee192deea8c5aa87d8d7c2e02120cd03f75304a69dde378ac4abad45c   \n",
       "1        92759a73039692b2d3e0929cadf55f5b07b40d6582c36fdf15c6c1cb493a   \n",
       "2        b3e42abde4c35da06ff4746802b82678b1bf56b28efaa1b4994b1abbdc88   \n",
       "3        d0f2e1f76ff463bcd08302370cc2f9bf0ec1333a3b25e325bc1b57debff7   \n",
       "4        0243b1305fd38f228634b23f69de5ed5ce801360eeffdc990834becc78b4   \n",
       "...                                                               ...   \n",
       "4069722                                                           NaN   \n",
       "4069723                                                           NaN   \n",
       "4069724                                                           NaN   \n",
       "4069725                                                           NaN   \n",
       "4069726                                                           NaN   \n",
       "\n",
       "                                                          worker_name  \\\n",
       "0        05b1590648df3f4c6deea2496bbbefd4d3ae93347669f764d466128a150f   \n",
       "1        cbc1bc591c53301bceafa44dc626288fd92d2fc5dca43813d9ff7f8d56ae   \n",
       "2        09d41bf627188adc004b2db7c0a47578325952cc3340af02a351480dae90   \n",
       "3        1a631e8be3fd787c2891c15b9e9bac6df4f177efc9ec7b954283c8648554   \n",
       "4        59aea81c00cccb5cd01ca2f7f72877d6bc73b427821986ce84858c51c4d8   \n",
       "...                                                               ...   \n",
       "4069722  000a541be117d8643e6d830c287b4cd872d59b1cfb47cfbf6a89d841f26b   \n",
       "4069723  4e0e26f837a6c8882a1e672ffd3c3484d1e2d8a83a816d6215b993333cf6   \n",
       "4069724  7245da946677b8ed70a486cffd5bb93a2296d652286ecb361b35f2c2486c   \n",
       "4069725  3fc512df15638907eb4b04a67c28fe77132aed60a53a97bea21e727362a7   \n",
       "4069726  ef091da4e66eae8a76e2b7c61c17bb23793a31d529a20249e721f464ed47   \n",
       "\n",
       "                                                              inst_id  \\\n",
       "0        68889727c2257f702108d185e5eed342a39807a2893d4bac00987159d00c   \n",
       "1        68889727c2257f702108d185e5eed342a39807a2893d4bac00987159d00c   \n",
       "2        68889727c2257f702108d185e5eed342a39807a2893d4bac00987159d00c   \n",
       "3        68889727c2257f702108d185e5eed342a39807a2893d4bac00987159d00c   \n",
       "4        68889727c2257f702108d185e5eed342a39807a2893d4bac00987159d00c   \n",
       "...                                                               ...   \n",
       "4069722  c99f2b75c7ad053a485cfb87ca55adee17efd3d52bd52d367ba41d4d15a2   \n",
       "4069723  b99050ffacf3f321400a836d0e9f9183d49fa4b695aada7c4f6f29b74f59   \n",
       "4069724  267c02fbda06c42fb83fc8034d2be1c51149127deb22921131c009967abf   \n",
       "4069725  d50242c89f3a25bd20ef700701777823c415ad0321dcb37097914bb7cb0b   \n",
       "4069726  6c6338d4ac59fd1157e569fd6b5de6b70975c65112e9ba787e5b644e8159   \n",
       "\n",
       "             status  start_time   end_time                   machine  \\\n",
       "0        Terminated   3272995.0  3273065.0  165261853e188ca69c4fbcdf   \n",
       "1        Terminated   3272995.0  3273056.0  31dbf829549b10917e7193a6   \n",
       "2        Terminated   3272995.0  3273067.0  31dbf829549b10917e7193a6   \n",
       "3        Terminated   3272995.0  3273058.0  3765d45e2eca88d1d1da7cef   \n",
       "4        Terminated   3272995.0  3273059.0  c0d6760f6248ea8260e36fa5   \n",
       "...             ...         ...        ...                       ...   \n",
       "4069722         NaN         NaN        NaN  1aafda90cc6f46f0f4f90e32   \n",
       "4069723         NaN         NaN        NaN  12bcc4fceea93a30d7d0f324   \n",
       "4069724         NaN         NaN        NaN  943fe1a04fa90bf140cb9d85   \n",
       "4069725         NaN         NaN        NaN  14c1d6a040a33046698786e1   \n",
       "4069726         NaN         NaN        NaN  406434e56cf426692a4762b6   \n",
       "\n",
       "             gpu_name   cpu_usage  gpu_wrk_util   avg_mem   max_mem  \\\n",
       "0                 NaN         NaN           NaN       NaN       NaN   \n",
       "1                 NaN         NaN           NaN       NaN       NaN   \n",
       "2                 NaN         NaN           NaN       NaN       NaN   \n",
       "3                 NaN         NaN           NaN       NaN       NaN   \n",
       "4                 NaN         NaN           NaN       NaN       NaN   \n",
       "...               ...         ...           ...       ...       ...   \n",
       "4069722  /dev/nvidia0   79.750000           0.0  0.429199  0.747070   \n",
       "4069723  /dev/nvidia0  112.500000           0.0  0.329102  0.641602   \n",
       "4069724  /dev/nvidia7    6.725577           0.0  2.187771  3.404297   \n",
       "4069725  /dev/nvidia2   73.000000           0.0  0.143555  0.270508   \n",
       "4069726  /dev/nvidia5    2.535326           0.0  0.248111  0.265625   \n",
       "\n",
       "         avg_gpu_wrk_mem  max_gpu_wrk_mem          read         write  \\\n",
       "0                    NaN              NaN           NaN           NaN   \n",
       "1                    NaN              NaN           NaN           NaN   \n",
       "2                    NaN              NaN           NaN           NaN   \n",
       "3                    NaN              NaN           NaN           NaN   \n",
       "4                    NaN              NaN           NaN           NaN   \n",
       "...                  ...              ...           ...           ...   \n",
       "4069722              0.0              0.0  1.922363e+08  2.869013e+08   \n",
       "4069723              0.0              0.0  1.696908e+08  2.661021e+08   \n",
       "4069724              0.0              0.0  9.655890e+06  1.389712e+07   \n",
       "4069725              0.0              0.0  6.101400e+07  7.727868e+07   \n",
       "4069726              0.0              0.0  1.521280e+05  7.716149e+04   \n",
       "\n",
       "           read_count   write_count  \n",
       "0                 NaN           NaN  \n",
       "1                 NaN           NaN  \n",
       "2                 NaN           NaN  \n",
       "3                 NaN           NaN  \n",
       "4                 NaN           NaN  \n",
       "...               ...           ...  \n",
       "4069722  21165.800000  19090.600000  \n",
       "4069723  16798.000000  16447.666667  \n",
       "4069724   1762.840284   1969.509317  \n",
       "4069725   4462.333333   3738.333333  \n",
       "4069726    105.113821     38.170732  \n",
       "\n",
       "[4069727 rows x 20 columns]"
      ]
     },
     "execution_count": 6,
     "metadata": {},
     "output_type": "execute_result"
    }
   ],
   "source": [
    "dfb"
   ]
  },
  {
   "cell_type": "code",
   "execution_count": 7,
   "metadata": {},
   "outputs": [],
   "source": [
    "#dfc=dfb.loc[dfb['job_name']=='a155d69dca6bfd2dfb78ef0d']"
   ]
  },
  {
   "cell_type": "code",
   "execution_count": 8,
   "metadata": {},
   "outputs": [],
   "source": [
    "dfd=(pd.merge(dft,dfs, on='job_name'))"
   ]
  },
  {
   "cell_type": "code",
   "execution_count": 9,
   "metadata": {},
   "outputs": [
    {
     "data": {
      "text/html": [
       "<div>\n",
       "<style scoped>\n",
       "    .dataframe tbody tr th:only-of-type {\n",
       "        vertical-align: middle;\n",
       "    }\n",
       "\n",
       "    .dataframe tbody tr th {\n",
       "        vertical-align: top;\n",
       "    }\n",
       "\n",
       "    .dataframe thead th {\n",
       "        text-align: right;\n",
       "    }\n",
       "</style>\n",
       "<table border=\"1\" class=\"dataframe\">\n",
       "  <thead>\n",
       "    <tr style=\"text-align: right;\">\n",
       "      <th></th>\n",
       "      <th>job_name</th>\n",
       "      <th>task_name_x</th>\n",
       "      <th>inst_num</th>\n",
       "      <th>status</th>\n",
       "      <th>start_time</th>\n",
       "      <th>end_time</th>\n",
       "      <th>plan_cpu</th>\n",
       "      <th>plan_mem</th>\n",
       "      <th>plan_gpu</th>\n",
       "      <th>gpu_type</th>\n",
       "      <th>task_name_y</th>\n",
       "      <th>worker_name</th>\n",
       "      <th>inst_id</th>\n",
       "      <th>machine</th>\n",
       "      <th>gpu_name</th>\n",
       "      <th>cpu_usage</th>\n",
       "      <th>gpu_wrk_util</th>\n",
       "      <th>avg_mem</th>\n",
       "      <th>max_mem</th>\n",
       "      <th>avg_gpu_wrk_mem</th>\n",
       "      <th>max_gpu_wrk_mem</th>\n",
       "      <th>read</th>\n",
       "      <th>write</th>\n",
       "      <th>read_count</th>\n",
       "      <th>write_count</th>\n",
       "    </tr>\n",
       "  </thead>\n",
       "  <tbody>\n",
       "    <tr>\n",
       "      <th>0</th>\n",
       "      <td>c936346f45eccd34bf748541</td>\n",
       "      <td>tensorflow</td>\n",
       "      <td>1.0</td>\n",
       "      <td>Terminated</td>\n",
       "      <td>2693235.0</td>\n",
       "      <td>2695847.0</td>\n",
       "      <td>600.0</td>\n",
       "      <td>29.296875</td>\n",
       "      <td>50.0</td>\n",
       "      <td>MISC</td>\n",
       "      <td>tensorflow</td>\n",
       "      <td>48c6a3df1e046ca0fb5331b18c1d23f47312e806a623a4395fb45d77c786</td>\n",
       "      <td>990f1799a5093b62142b101c0227875b81c7f0329301df98af1148ec8724</td>\n",
       "      <td>91c8c202d797d341235ee765</td>\n",
       "      <td>/dev/nvidia6</td>\n",
       "      <td>350.353167</td>\n",
       "      <td>77.468451</td>\n",
       "      <td>24.306558</td>\n",
       "      <td>30.613281</td>\n",
       "      <td>4.184025</td>\n",
       "      <td>4.354492</td>\n",
       "      <td>3.515053e+08</td>\n",
       "      <td>2.545430e+06</td>\n",
       "      <td>16733.320000</td>\n",
       "      <td>4261.215238</td>\n",
       "    </tr>\n",
       "    <tr>\n",
       "      <th>1</th>\n",
       "      <td>455c3dec270f4777ad67721c</td>\n",
       "      <td>tensorflow</td>\n",
       "      <td>1.0</td>\n",
       "      <td>Terminated</td>\n",
       "      <td>3399583.0</td>\n",
       "      <td>3399732.0</td>\n",
       "      <td>600.0</td>\n",
       "      <td>29.296875</td>\n",
       "      <td>100.0</td>\n",
       "      <td>MISC</td>\n",
       "      <td>tensorflow</td>\n",
       "      <td>60fa808be024e77c81c13a5ae2b336ad35fd837e59cc80621274940e96d0</td>\n",
       "      <td>d94b4b01a6dd6c1865972cd628abe206422143ef37e6d449d4b2e862e574</td>\n",
       "      <td>d73dbda0dd25f3b3ee3e1bba</td>\n",
       "      <td>/dev/nvidia7</td>\n",
       "      <td>117.888889</td>\n",
       "      <td>0.333333</td>\n",
       "      <td>1.870295</td>\n",
       "      <td>2.862305</td>\n",
       "      <td>0.069743</td>\n",
       "      <td>0.836914</td>\n",
       "      <td>8.321684e+08</td>\n",
       "      <td>1.448389e+09</td>\n",
       "      <td>39241.307692</td>\n",
       "      <td>65482.538462</td>\n",
       "    </tr>\n",
       "    <tr>\n",
       "      <th>2</th>\n",
       "      <td>ba64aa2f0feff18428923e92</td>\n",
       "      <td>tensorflow</td>\n",
       "      <td>1.0</td>\n",
       "      <td>Terminated</td>\n",
       "      <td>2152271.0</td>\n",
       "      <td>2158213.0</td>\n",
       "      <td>600.0</td>\n",
       "      <td>29.296875</td>\n",
       "      <td>50.0</td>\n",
       "      <td>MISC</td>\n",
       "      <td>tensorflow</td>\n",
       "      <td>6b409158890a93dc245e0860fc9bd18c05e0adb2502fb756485e27f5e9e1</td>\n",
       "      <td>af71dfe31db0378561e1bea2c26605f67cb7611f0d38661b43881a1c6006</td>\n",
       "      <td>9d860e17c50f8226eb853943</td>\n",
       "      <td>/dev/nvidia0</td>\n",
       "      <td>139.502103</td>\n",
       "      <td>4.408403</td>\n",
       "      <td>12.811959</td>\n",
       "      <td>13.503906</td>\n",
       "      <td>4.212840</td>\n",
       "      <td>4.258789</td>\n",
       "      <td>8.437303e+06</td>\n",
       "      <td>5.633549e+07</td>\n",
       "      <td>1812.241611</td>\n",
       "      <td>2192.090604</td>\n",
       "    </tr>\n",
       "    <tr>\n",
       "      <th>3</th>\n",
       "      <td>704783be2a4b7f88b8d2e4ee</td>\n",
       "      <td>worker</td>\n",
       "      <td>100.0</td>\n",
       "      <td>Failed</td>\n",
       "      <td>2172980.0</td>\n",
       "      <td>NaN</td>\n",
       "      <td>600.0</td>\n",
       "      <td>9.765625</td>\n",
       "      <td>10.0</td>\n",
       "      <td>MISC</td>\n",
       "      <td>worker</td>\n",
       "      <td>8af8d63050be4502eb06a7a03571fcfb9b112c6da3fc0516b530dc0bf3f7</td>\n",
       "      <td>a63da076c1210109040acf759e2c1d00b8abc2d84305990a5941d0142690</td>\n",
       "      <td>6f60902edf28bdea3fb8b164</td>\n",
       "      <td>/dev/nvidia2</td>\n",
       "      <td>90.543478</td>\n",
       "      <td>9.829787</td>\n",
       "      <td>16.871221</td>\n",
       "      <td>42.729492</td>\n",
       "      <td>0.431267</td>\n",
       "      <td>1.084961</td>\n",
       "      <td>5.272268e+07</td>\n",
       "      <td>1.382984e+07</td>\n",
       "      <td>2102.687500</td>\n",
       "      <td>967.125000</td>\n",
       "    </tr>\n",
       "    <tr>\n",
       "      <th>4</th>\n",
       "      <td>704783be2a4b7f88b8d2e4ee</td>\n",
       "      <td>worker</td>\n",
       "      <td>100.0</td>\n",
       "      <td>Failed</td>\n",
       "      <td>2172980.0</td>\n",
       "      <td>NaN</td>\n",
       "      <td>600.0</td>\n",
       "      <td>9.765625</td>\n",
       "      <td>10.0</td>\n",
       "      <td>MISC</td>\n",
       "      <td>worker</td>\n",
       "      <td>c5fe51a2774fd6629699887f2887059e9f61972958913b82b32bca37a715</td>\n",
       "      <td>a63da076c1210109040acf759e2c1d00b8abc2d84305990a5941d0142690</td>\n",
       "      <td>fac33985ac739cf02b7dc2df</td>\n",
       "      <td>/dev/nvidia7</td>\n",
       "      <td>89.739130</td>\n",
       "      <td>20.170213</td>\n",
       "      <td>18.169752</td>\n",
       "      <td>74.735352</td>\n",
       "      <td>0.433511</td>\n",
       "      <td>1.084961</td>\n",
       "      <td>5.276807e+07</td>\n",
       "      <td>1.383096e+07</td>\n",
       "      <td>2319.645833</td>\n",
       "      <td>969.833333</td>\n",
       "    </tr>\n",
       "    <tr>\n",
       "      <th>...</th>\n",
       "      <td>...</td>\n",
       "      <td>...</td>\n",
       "      <td>...</td>\n",
       "      <td>...</td>\n",
       "      <td>...</td>\n",
       "      <td>...</td>\n",
       "      <td>...</td>\n",
       "      <td>...</td>\n",
       "      <td>...</td>\n",
       "      <td>...</td>\n",
       "      <td>...</td>\n",
       "      <td>...</td>\n",
       "      <td>...</td>\n",
       "      <td>...</td>\n",
       "      <td>...</td>\n",
       "      <td>...</td>\n",
       "      <td>...</td>\n",
       "      <td>...</td>\n",
       "      <td>...</td>\n",
       "      <td>...</td>\n",
       "      <td>...</td>\n",
       "      <td>...</td>\n",
       "      <td>...</td>\n",
       "      <td>...</td>\n",
       "      <td>...</td>\n",
       "    </tr>\n",
       "    <tr>\n",
       "      <th>4934587</th>\n",
       "      <td>31271edf22fc09d66691b610</td>\n",
       "      <td>tensorflow</td>\n",
       "      <td>1.0</td>\n",
       "      <td>Terminated</td>\n",
       "      <td>4725236.0</td>\n",
       "      <td>4727490.0</td>\n",
       "      <td>100.0</td>\n",
       "      <td>29.296875</td>\n",
       "      <td>25.0</td>\n",
       "      <td>MISC</td>\n",
       "      <td>tensorflow</td>\n",
       "      <td>ca40e4836c48d312980d93a29facbd14cd981dc8fd5384fa166e044da098</td>\n",
       "      <td>c784fb15b3236a8dc792b0eab24f5f473b03d25d76dc1ed83fd62c6159c3</td>\n",
       "      <td>e251b20ea2e0819ecb8c9a78</td>\n",
       "      <td>/dev/nvidia0</td>\n",
       "      <td>63.042222</td>\n",
       "      <td>0.000000</td>\n",
       "      <td>3.048873</td>\n",
       "      <td>3.234375</td>\n",
       "      <td>0.198406</td>\n",
       "      <td>0.200195</td>\n",
       "      <td>7.457338e+08</td>\n",
       "      <td>9.979172e+05</td>\n",
       "      <td>181462.988987</td>\n",
       "      <td>3993.581498</td>\n",
       "    </tr>\n",
       "    <tr>\n",
       "      <th>4934588</th>\n",
       "      <td>f79493b18df6dabdaa578dac</td>\n",
       "      <td>tensorflow</td>\n",
       "      <td>1.0</td>\n",
       "      <td>Failed</td>\n",
       "      <td>4788805.0</td>\n",
       "      <td>NaN</td>\n",
       "      <td>600.0</td>\n",
       "      <td>29.296875</td>\n",
       "      <td>100.0</td>\n",
       "      <td>P100</td>\n",
       "      <td>tensorflow</td>\n",
       "      <td>ca9162f8cc898c758c9764dcb31adb6193ddc26de4474f2cf75eec418497</td>\n",
       "      <td>5dce09bd3b48900c4907976028dde42fd1e15b08e27d4264b75bb4751ff3</td>\n",
       "      <td>692cea068543d1655aab44b0</td>\n",
       "      <td>/dev/nvidia1</td>\n",
       "      <td>93.666667</td>\n",
       "      <td>0.187500</td>\n",
       "      <td>2.704799</td>\n",
       "      <td>4.506836</td>\n",
       "      <td>0.157288</td>\n",
       "      <td>0.838867</td>\n",
       "      <td>9.130185e+08</td>\n",
       "      <td>1.206071e+09</td>\n",
       "      <td>113226.375000</td>\n",
       "      <td>82233.500000</td>\n",
       "    </tr>\n",
       "    <tr>\n",
       "      <th>4934589</th>\n",
       "      <td>d14050801987e35369e03724</td>\n",
       "      <td>tensorflow</td>\n",
       "      <td>1.0</td>\n",
       "      <td>Failed</td>\n",
       "      <td>4800428.0</td>\n",
       "      <td>NaN</td>\n",
       "      <td>600.0</td>\n",
       "      <td>29.296875</td>\n",
       "      <td>100.0</td>\n",
       "      <td>P100</td>\n",
       "      <td>tensorflow</td>\n",
       "      <td>285f390c71ddcef3c6d00eac0248c74801ac6fd9f53296d797fc67b84324</td>\n",
       "      <td>61a9ba84b9d32db3a970e3eee322633e039fdb429d89ce92894ef2122ad1</td>\n",
       "      <td>42c59685947400363b47a59b</td>\n",
       "      <td>/dev/nvidia1</td>\n",
       "      <td>73.461538</td>\n",
       "      <td>2.625000</td>\n",
       "      <td>1.946219</td>\n",
       "      <td>3.369141</td>\n",
       "      <td>0.365112</td>\n",
       "      <td>0.973633</td>\n",
       "      <td>1.214225e+09</td>\n",
       "      <td>1.653604e+09</td>\n",
       "      <td>160178.625000</td>\n",
       "      <td>113813.000000</td>\n",
       "    </tr>\n",
       "    <tr>\n",
       "      <th>4934590</th>\n",
       "      <td>906db91bc6f3321e94a6b472</td>\n",
       "      <td>tensorflow</td>\n",
       "      <td>1.0</td>\n",
       "      <td>Terminated</td>\n",
       "      <td>4732036.0</td>\n",
       "      <td>4739163.0</td>\n",
       "      <td>600.0</td>\n",
       "      <td>29.296875</td>\n",
       "      <td>10.0</td>\n",
       "      <td>MISC</td>\n",
       "      <td>tensorflow</td>\n",
       "      <td>7383bf1e3c5d2f40dc7899167aa1567c017211e60246512790e614ae4680</td>\n",
       "      <td>07396d56aac1ecf5d65f22b5f53f2a72327dce42195872b0eb8ee973f6b6</td>\n",
       "      <td>16b3cec68193e8b041dcd447</td>\n",
       "      <td>/dev/nvidia4</td>\n",
       "      <td>1637.419698</td>\n",
       "      <td>0.000000</td>\n",
       "      <td>15.379433</td>\n",
       "      <td>38.113281</td>\n",
       "      <td>0.133434</td>\n",
       "      <td>0.133789</td>\n",
       "      <td>3.894292e+06</td>\n",
       "      <td>1.146775e+06</td>\n",
       "      <td>2143.480990</td>\n",
       "      <td>979.076923</td>\n",
       "    </tr>\n",
       "    <tr>\n",
       "      <th>4934591</th>\n",
       "      <td>14ea663f749cfe55be1bc088</td>\n",
       "      <td>tensorflow</td>\n",
       "      <td>1.0</td>\n",
       "      <td>Failed</td>\n",
       "      <td>4732294.0</td>\n",
       "      <td>NaN</td>\n",
       "      <td>600.0</td>\n",
       "      <td>29.296875</td>\n",
       "      <td>10.0</td>\n",
       "      <td>MISC</td>\n",
       "      <td>tensorflow</td>\n",
       "      <td>d053f4477441c1997ba95a6343d3baa03bec350b18fb24185f322a7a97ea</td>\n",
       "      <td>1fe8ef06583086ed606f1fc683a4b6f1c7636b802fe6b2b8b76906fdad91</td>\n",
       "      <td>36c1e69289442a9a10281123</td>\n",
       "      <td>/dev/nvidia5</td>\n",
       "      <td>105.236838</td>\n",
       "      <td>0.000000</td>\n",
       "      <td>10.438064</td>\n",
       "      <td>18.815430</td>\n",
       "      <td>0.133766</td>\n",
       "      <td>0.133789</td>\n",
       "      <td>6.008637e+05</td>\n",
       "      <td>2.117970e+05</td>\n",
       "      <td>325.858458</td>\n",
       "      <td>130.513546</td>\n",
       "    </tr>\n",
       "  </tbody>\n",
       "</table>\n",
       "<p>4934592 rows × 25 columns</p>\n",
       "</div>"
      ],
      "text/plain": [
       "                         job_name task_name_x  inst_num      status  \\\n",
       "0        c936346f45eccd34bf748541  tensorflow       1.0  Terminated   \n",
       "1        455c3dec270f4777ad67721c  tensorflow       1.0  Terminated   \n",
       "2        ba64aa2f0feff18428923e92  tensorflow       1.0  Terminated   \n",
       "3        704783be2a4b7f88b8d2e4ee      worker     100.0      Failed   \n",
       "4        704783be2a4b7f88b8d2e4ee      worker     100.0      Failed   \n",
       "...                           ...         ...       ...         ...   \n",
       "4934587  31271edf22fc09d66691b610  tensorflow       1.0  Terminated   \n",
       "4934588  f79493b18df6dabdaa578dac  tensorflow       1.0      Failed   \n",
       "4934589  d14050801987e35369e03724  tensorflow       1.0      Failed   \n",
       "4934590  906db91bc6f3321e94a6b472  tensorflow       1.0  Terminated   \n",
       "4934591  14ea663f749cfe55be1bc088  tensorflow       1.0      Failed   \n",
       "\n",
       "         start_time   end_time  plan_cpu   plan_mem  plan_gpu gpu_type  \\\n",
       "0         2693235.0  2695847.0     600.0  29.296875      50.0     MISC   \n",
       "1         3399583.0  3399732.0     600.0  29.296875     100.0     MISC   \n",
       "2         2152271.0  2158213.0     600.0  29.296875      50.0     MISC   \n",
       "3         2172980.0        NaN     600.0   9.765625      10.0     MISC   \n",
       "4         2172980.0        NaN     600.0   9.765625      10.0     MISC   \n",
       "...             ...        ...       ...        ...       ...      ...   \n",
       "4934587   4725236.0  4727490.0     100.0  29.296875      25.0     MISC   \n",
       "4934588   4788805.0        NaN     600.0  29.296875     100.0     P100   \n",
       "4934589   4800428.0        NaN     600.0  29.296875     100.0     P100   \n",
       "4934590   4732036.0  4739163.0     600.0  29.296875      10.0     MISC   \n",
       "4934591   4732294.0        NaN     600.0  29.296875      10.0     MISC   \n",
       "\n",
       "        task_name_y  \\\n",
       "0        tensorflow   \n",
       "1        tensorflow   \n",
       "2        tensorflow   \n",
       "3            worker   \n",
       "4            worker   \n",
       "...             ...   \n",
       "4934587  tensorflow   \n",
       "4934588  tensorflow   \n",
       "4934589  tensorflow   \n",
       "4934590  tensorflow   \n",
       "4934591  tensorflow   \n",
       "\n",
       "                                                          worker_name  \\\n",
       "0        48c6a3df1e046ca0fb5331b18c1d23f47312e806a623a4395fb45d77c786   \n",
       "1        60fa808be024e77c81c13a5ae2b336ad35fd837e59cc80621274940e96d0   \n",
       "2        6b409158890a93dc245e0860fc9bd18c05e0adb2502fb756485e27f5e9e1   \n",
       "3        8af8d63050be4502eb06a7a03571fcfb9b112c6da3fc0516b530dc0bf3f7   \n",
       "4        c5fe51a2774fd6629699887f2887059e9f61972958913b82b32bca37a715   \n",
       "...                                                               ...   \n",
       "4934587  ca40e4836c48d312980d93a29facbd14cd981dc8fd5384fa166e044da098   \n",
       "4934588  ca9162f8cc898c758c9764dcb31adb6193ddc26de4474f2cf75eec418497   \n",
       "4934589  285f390c71ddcef3c6d00eac0248c74801ac6fd9f53296d797fc67b84324   \n",
       "4934590  7383bf1e3c5d2f40dc7899167aa1567c017211e60246512790e614ae4680   \n",
       "4934591  d053f4477441c1997ba95a6343d3baa03bec350b18fb24185f322a7a97ea   \n",
       "\n",
       "                                                              inst_id  \\\n",
       "0        990f1799a5093b62142b101c0227875b81c7f0329301df98af1148ec8724   \n",
       "1        d94b4b01a6dd6c1865972cd628abe206422143ef37e6d449d4b2e862e574   \n",
       "2        af71dfe31db0378561e1bea2c26605f67cb7611f0d38661b43881a1c6006   \n",
       "3        a63da076c1210109040acf759e2c1d00b8abc2d84305990a5941d0142690   \n",
       "4        a63da076c1210109040acf759e2c1d00b8abc2d84305990a5941d0142690   \n",
       "...                                                               ...   \n",
       "4934587  c784fb15b3236a8dc792b0eab24f5f473b03d25d76dc1ed83fd62c6159c3   \n",
       "4934588  5dce09bd3b48900c4907976028dde42fd1e15b08e27d4264b75bb4751ff3   \n",
       "4934589  61a9ba84b9d32db3a970e3eee322633e039fdb429d89ce92894ef2122ad1   \n",
       "4934590  07396d56aac1ecf5d65f22b5f53f2a72327dce42195872b0eb8ee973f6b6   \n",
       "4934591  1fe8ef06583086ed606f1fc683a4b6f1c7636b802fe6b2b8b76906fdad91   \n",
       "\n",
       "                          machine      gpu_name    cpu_usage  gpu_wrk_util  \\\n",
       "0        91c8c202d797d341235ee765  /dev/nvidia6   350.353167     77.468451   \n",
       "1        d73dbda0dd25f3b3ee3e1bba  /dev/nvidia7   117.888889      0.333333   \n",
       "2        9d860e17c50f8226eb853943  /dev/nvidia0   139.502103      4.408403   \n",
       "3        6f60902edf28bdea3fb8b164  /dev/nvidia2    90.543478      9.829787   \n",
       "4        fac33985ac739cf02b7dc2df  /dev/nvidia7    89.739130     20.170213   \n",
       "...                           ...           ...          ...           ...   \n",
       "4934587  e251b20ea2e0819ecb8c9a78  /dev/nvidia0    63.042222      0.000000   \n",
       "4934588  692cea068543d1655aab44b0  /dev/nvidia1    93.666667      0.187500   \n",
       "4934589  42c59685947400363b47a59b  /dev/nvidia1    73.461538      2.625000   \n",
       "4934590  16b3cec68193e8b041dcd447  /dev/nvidia4  1637.419698      0.000000   \n",
       "4934591  36c1e69289442a9a10281123  /dev/nvidia5   105.236838      0.000000   \n",
       "\n",
       "           avg_mem    max_mem  avg_gpu_wrk_mem  max_gpu_wrk_mem          read  \\\n",
       "0        24.306558  30.613281         4.184025         4.354492  3.515053e+08   \n",
       "1         1.870295   2.862305         0.069743         0.836914  8.321684e+08   \n",
       "2        12.811959  13.503906         4.212840         4.258789  8.437303e+06   \n",
       "3        16.871221  42.729492         0.431267         1.084961  5.272268e+07   \n",
       "4        18.169752  74.735352         0.433511         1.084961  5.276807e+07   \n",
       "...            ...        ...              ...              ...           ...   \n",
       "4934587   3.048873   3.234375         0.198406         0.200195  7.457338e+08   \n",
       "4934588   2.704799   4.506836         0.157288         0.838867  9.130185e+08   \n",
       "4934589   1.946219   3.369141         0.365112         0.973633  1.214225e+09   \n",
       "4934590  15.379433  38.113281         0.133434         0.133789  3.894292e+06   \n",
       "4934591  10.438064  18.815430         0.133766         0.133789  6.008637e+05   \n",
       "\n",
       "                write     read_count    write_count  \n",
       "0        2.545430e+06   16733.320000    4261.215238  \n",
       "1        1.448389e+09   39241.307692   65482.538462  \n",
       "2        5.633549e+07    1812.241611    2192.090604  \n",
       "3        1.382984e+07    2102.687500     967.125000  \n",
       "4        1.383096e+07    2319.645833     969.833333  \n",
       "...               ...            ...            ...  \n",
       "4934587  9.979172e+05  181462.988987    3993.581498  \n",
       "4934588  1.206071e+09  113226.375000   82233.500000  \n",
       "4934589  1.653604e+09  160178.625000  113813.000000  \n",
       "4934590  1.146775e+06    2143.480990     979.076923  \n",
       "4934591  2.117970e+05     325.858458     130.513546  \n",
       "\n",
       "[4934592 rows x 25 columns]"
      ]
     },
     "execution_count": 9,
     "metadata": {},
     "output_type": "execute_result"
    }
   ],
   "source": [
    "dfd"
   ]
  },
  {
   "cell_type": "code",
   "execution_count": 10,
   "metadata": {},
   "outputs": [],
   "source": [
    "#dfe=dfd.loc[dfd['job_name']=='c936346f45eccd34bf748541']"
   ]
  },
  {
   "cell_type": "code",
   "execution_count": null,
   "metadata": {},
   "outputs": [],
   "source": []
  },
  {
   "cell_type": "markdown",
   "metadata": {},
   "source": [
    "## Join tables"
   ]
  },
  {
   "cell_type": "markdown",
   "metadata": {},
   "source": [
    "`dfa`: DataFrame of Tasks"
   ]
  },
  {
   "cell_type": "code",
   "execution_count": 11,
   "metadata": {
    "ExecuteTime": {
     "end_time": "2021-06-30T09:29:53.730417Z",
     "start_time": "2021-06-30T09:25:56.806753Z"
    }
   },
   "outputs": [],
   "source": [
    "#Concatenate (combine) some of the dataframes of tasks to get dataframe dfa\n",
    "dfa=pd.concat([dft,dfj,dfi,dfg],ignore_index=True)\n",
    "\n",
    "# dfa.to_csv('dfa.csv') # optional"
   ]
  },
  {
   "cell_type": "markdown",
   "metadata": {},
   "source": [
    "`dfw`: DataFrame of Workers"
   ]
  },
  {
   "cell_type": "code",
   "execution_count": 12,
   "metadata": {
    "ExecuteTime": {
     "end_time": "2021-06-30T09:32:20.205880Z",
     "start_time": "2021-06-30T09:29:53.732175Z"
    }
   },
   "outputs": [],
   "source": [
    "#Concatenate (combine) some of the dataframes of workers to get dataframe dfw\n",
    "dfw=pd.concat([dfi, dft, dfg],ignore_index=True)\n",
    "\n",
    "# dfw.to_csv('dfw.csv') # optional"
   ]
  },
  {
   "cell_type": "code",
   "execution_count": 13,
   "metadata": {},
   "outputs": [
    {
     "data": {
      "text/html": [
       "<div>\n",
       "<style scoped>\n",
       "    .dataframe tbody tr th:only-of-type {\n",
       "        vertical-align: middle;\n",
       "    }\n",
       "\n",
       "    .dataframe tbody tr th {\n",
       "        vertical-align: top;\n",
       "    }\n",
       "\n",
       "    .dataframe thead th {\n",
       "        text-align: right;\n",
       "    }\n",
       "</style>\n",
       "<table border=\"1\" class=\"dataframe\">\n",
       "  <thead>\n",
       "    <tr style=\"text-align: right;\">\n",
       "      <th></th>\n",
       "      <th>job_name</th>\n",
       "      <th>task_name</th>\n",
       "      <th>inst_num</th>\n",
       "      <th>status</th>\n",
       "      <th>start_time</th>\n",
       "      <th>end_time</th>\n",
       "      <th>plan_cpu</th>\n",
       "      <th>plan_mem</th>\n",
       "      <th>plan_gpu</th>\n",
       "      <th>gpu_type</th>\n",
       "      <th>inst_id</th>\n",
       "      <th>user</th>\n",
       "      <th>inst_name</th>\n",
       "      <th>worker_name</th>\n",
       "      <th>machine</th>\n",
       "      <th>gpu_type_spec</th>\n",
       "      <th>group</th>\n",
       "      <th>workload</th>\n",
       "    </tr>\n",
       "  </thead>\n",
       "  <tbody>\n",
       "    <tr>\n",
       "      <th>0</th>\n",
       "      <td>c936346f45eccd34bf748541</td>\n",
       "      <td>tensorflow</td>\n",
       "      <td>1.0</td>\n",
       "      <td>Terminated</td>\n",
       "      <td>2693235.0</td>\n",
       "      <td>2695847.0</td>\n",
       "      <td>600.0</td>\n",
       "      <td>29.296875</td>\n",
       "      <td>50.0</td>\n",
       "      <td>MISC</td>\n",
       "      <td>NaN</td>\n",
       "      <td>NaN</td>\n",
       "      <td>NaN</td>\n",
       "      <td>NaN</td>\n",
       "      <td>NaN</td>\n",
       "      <td>NaN</td>\n",
       "      <td>NaN</td>\n",
       "      <td>NaN</td>\n",
       "    </tr>\n",
       "    <tr>\n",
       "      <th>1</th>\n",
       "      <td>455c3dec270f4777ad67721c</td>\n",
       "      <td>tensorflow</td>\n",
       "      <td>1.0</td>\n",
       "      <td>Terminated</td>\n",
       "      <td>3399583.0</td>\n",
       "      <td>3399732.0</td>\n",
       "      <td>600.0</td>\n",
       "      <td>29.296875</td>\n",
       "      <td>100.0</td>\n",
       "      <td>MISC</td>\n",
       "      <td>NaN</td>\n",
       "      <td>NaN</td>\n",
       "      <td>NaN</td>\n",
       "      <td>NaN</td>\n",
       "      <td>NaN</td>\n",
       "      <td>NaN</td>\n",
       "      <td>NaN</td>\n",
       "      <td>NaN</td>\n",
       "    </tr>\n",
       "    <tr>\n",
       "      <th>2</th>\n",
       "      <td>ba64aa2f0feff18428923e92</td>\n",
       "      <td>tensorflow</td>\n",
       "      <td>1.0</td>\n",
       "      <td>Terminated</td>\n",
       "      <td>2152271.0</td>\n",
       "      <td>2158213.0</td>\n",
       "      <td>600.0</td>\n",
       "      <td>29.296875</td>\n",
       "      <td>50.0</td>\n",
       "      <td>MISC</td>\n",
       "      <td>NaN</td>\n",
       "      <td>NaN</td>\n",
       "      <td>NaN</td>\n",
       "      <td>NaN</td>\n",
       "      <td>NaN</td>\n",
       "      <td>NaN</td>\n",
       "      <td>NaN</td>\n",
       "      <td>NaN</td>\n",
       "    </tr>\n",
       "    <tr>\n",
       "      <th>3</th>\n",
       "      <td>704783be2a4b7f88b8d2e4ee</td>\n",
       "      <td>worker</td>\n",
       "      <td>100.0</td>\n",
       "      <td>Failed</td>\n",
       "      <td>2172980.0</td>\n",
       "      <td>NaN</td>\n",
       "      <td>600.0</td>\n",
       "      <td>9.765625</td>\n",
       "      <td>10.0</td>\n",
       "      <td>MISC</td>\n",
       "      <td>NaN</td>\n",
       "      <td>NaN</td>\n",
       "      <td>NaN</td>\n",
       "      <td>NaN</td>\n",
       "      <td>NaN</td>\n",
       "      <td>NaN</td>\n",
       "      <td>NaN</td>\n",
       "      <td>NaN</td>\n",
       "    </tr>\n",
       "    <tr>\n",
       "      <th>4</th>\n",
       "      <td>bce3b9c55772f9d1e85fe796</td>\n",
       "      <td>PyTorchWorker</td>\n",
       "      <td>4.0</td>\n",
       "      <td>Failed</td>\n",
       "      <td>2374681.0</td>\n",
       "      <td>NaN</td>\n",
       "      <td>400.0</td>\n",
       "      <td>10.000000</td>\n",
       "      <td>100.0</td>\n",
       "      <td>V100</td>\n",
       "      <td>NaN</td>\n",
       "      <td>NaN</td>\n",
       "      <td>NaN</td>\n",
       "      <td>NaN</td>\n",
       "      <td>NaN</td>\n",
       "      <td>NaN</td>\n",
       "      <td>NaN</td>\n",
       "      <td>NaN</td>\n",
       "    </tr>\n",
       "  </tbody>\n",
       "</table>\n",
       "</div>"
      ],
      "text/plain": [
       "                   job_name      task_name  inst_num      status  start_time  \\\n",
       "0  c936346f45eccd34bf748541     tensorflow       1.0  Terminated   2693235.0   \n",
       "1  455c3dec270f4777ad67721c     tensorflow       1.0  Terminated   3399583.0   \n",
       "2  ba64aa2f0feff18428923e92     tensorflow       1.0  Terminated   2152271.0   \n",
       "3  704783be2a4b7f88b8d2e4ee         worker     100.0      Failed   2172980.0   \n",
       "4  bce3b9c55772f9d1e85fe796  PyTorchWorker       4.0      Failed   2374681.0   \n",
       "\n",
       "    end_time  plan_cpu   plan_mem  plan_gpu gpu_type inst_id user inst_name  \\\n",
       "0  2695847.0     600.0  29.296875      50.0     MISC     NaN  NaN       NaN   \n",
       "1  3399732.0     600.0  29.296875     100.0     MISC     NaN  NaN       NaN   \n",
       "2  2158213.0     600.0  29.296875      50.0     MISC     NaN  NaN       NaN   \n",
       "3        NaN     600.0   9.765625      10.0     MISC     NaN  NaN       NaN   \n",
       "4        NaN     400.0  10.000000     100.0     V100     NaN  NaN       NaN   \n",
       "\n",
       "  worker_name machine gpu_type_spec group workload  \n",
       "0         NaN     NaN           NaN   NaN      NaN  \n",
       "1         NaN     NaN           NaN   NaN      NaN  \n",
       "2         NaN     NaN           NaN   NaN      NaN  \n",
       "3         NaN     NaN           NaN   NaN      NaN  \n",
       "4         NaN     NaN           NaN   NaN      NaN  "
      ]
     },
     "execution_count": 13,
     "metadata": {},
     "output_type": "execute_result"
    }
   ],
   "source": [
    "#Show the last 5 rows in dfa\n",
    "dfa.head()"
   ]
  },
  {
   "cell_type": "code",
   "execution_count": 14,
   "metadata": {},
   "outputs": [
    {
     "data": {
      "text/plain": [
       "0          54670e2998350a9f0e4868d5\n",
       "1          54670e2998350a9f0e4868d5\n",
       "2          54670e2998350a9f0e4868d5\n",
       "3          54670e2998350a9f0e4868d5\n",
       "4          54670e2998350a9f0e4868d5\n",
       "                     ...           \n",
       "3352572                         NaN\n",
       "3352573                         NaN\n",
       "3352574                         NaN\n",
       "3352575                         NaN\n",
       "3352576                         NaN\n",
       "Name: job_name, Length: 3352577, dtype: object"
      ]
     },
     "execution_count": 14,
     "metadata": {},
     "output_type": "execute_result"
    }
   ],
   "source": [
    "#Show the last 5 rows in dfw\n",
    "dfw['job_name']"
   ]
  },
  {
   "cell_type": "markdown",
   "metadata": {},
   "source": [
    "`dfws`: DataFrame of Worker with sensor data"
   ]
  },
  {
   "cell_type": "code",
   "execution_count": 15,
   "metadata": {
    "ExecuteTime": {
     "end_time": "2021-06-30T09:32:47.256647Z",
     "start_time": "2021-06-30T09:32:20.207451Z"
    }
   },
   "outputs": [],
   "source": [
    "#Create a dataframe 'dfws' of workers with sensor data\n",
    "dfws = dfw.merge(dfp.drop(columns={'gpu_type'}), on='machine', how='left')\n",
    "dfws = dfws.merge(dfs.drop(columns=['job_name','task_name','inst_id','machine']), on='worker_name')\n",
    "# dfws.to_csv('dfws.csv') # optional"
   ]
  },
  {
   "cell_type": "code",
   "execution_count": 16,
   "metadata": {},
   "outputs": [
    {
     "data": {
      "text/html": [
       "<div>\n",
       "<style scoped>\n",
       "    .dataframe tbody tr th:only-of-type {\n",
       "        vertical-align: middle;\n",
       "    }\n",
       "\n",
       "    .dataframe tbody tr th {\n",
       "        vertical-align: top;\n",
       "    }\n",
       "\n",
       "    .dataframe thead th {\n",
       "        text-align: right;\n",
       "    }\n",
       "</style>\n",
       "<table border=\"1\" class=\"dataframe\">\n",
       "  <thead>\n",
       "    <tr style=\"text-align: right;\">\n",
       "      <th></th>\n",
       "      <th>job_name</th>\n",
       "      <th>task_name</th>\n",
       "      <th>inst_name</th>\n",
       "      <th>worker_name</th>\n",
       "      <th>inst_id</th>\n",
       "      <th>status</th>\n",
       "      <th>start_time</th>\n",
       "      <th>end_time</th>\n",
       "      <th>machine</th>\n",
       "      <th>inst_num</th>\n",
       "      <th>plan_cpu</th>\n",
       "      <th>plan_mem</th>\n",
       "      <th>plan_gpu</th>\n",
       "      <th>gpu_type</th>\n",
       "      <th>user</th>\n",
       "      <th>gpu_type_spec</th>\n",
       "      <th>group</th>\n",
       "      <th>workload</th>\n",
       "      <th>cap_cpu</th>\n",
       "      <th>cap_mem</th>\n",
       "      <th>cap_gpu</th>\n",
       "      <th>gpu_name</th>\n",
       "      <th>cpu_usage</th>\n",
       "      <th>gpu_wrk_util</th>\n",
       "      <th>avg_mem</th>\n",
       "      <th>max_mem</th>\n",
       "      <th>avg_gpu_wrk_mem</th>\n",
       "      <th>max_gpu_wrk_mem</th>\n",
       "      <th>read</th>\n",
       "      <th>write</th>\n",
       "      <th>read_count</th>\n",
       "      <th>write_count</th>\n",
       "    </tr>\n",
       "  </thead>\n",
       "  <tbody>\n",
       "    <tr>\n",
       "      <th>0</th>\n",
       "      <td>54670e2998350a9f0e4868d5</td>\n",
       "      <td>worker</td>\n",
       "      <td>c47ee192deea8c5aa87d8d7c2e02120cd03f75304a69dde378ac4abad45c</td>\n",
       "      <td>05b1590648df3f4c6deea2496bbbefd4d3ae93347669f764d466128a150f</td>\n",
       "      <td>68889727c2257f702108d185e5eed342a39807a2893d4bac00987159d00c</td>\n",
       "      <td>Terminated</td>\n",
       "      <td>3272995.0</td>\n",
       "      <td>3273065.0</td>\n",
       "      <td>165261853e188ca69c4fbcdf</td>\n",
       "      <td>NaN</td>\n",
       "      <td>NaN</td>\n",
       "      <td>NaN</td>\n",
       "      <td>NaN</td>\n",
       "      <td>NaN</td>\n",
       "      <td>NaN</td>\n",
       "      <td>NaN</td>\n",
       "      <td>NaN</td>\n",
       "      <td>NaN</td>\n",
       "      <td>96.0</td>\n",
       "      <td>512.0</td>\n",
       "      <td>2.0</td>\n",
       "      <td>/dev/nvidia0</td>\n",
       "      <td>45.000000</td>\n",
       "      <td>15.882353</td>\n",
       "      <td>0.745052</td>\n",
       "      <td>1.836914</td>\n",
       "      <td>0.367934</td>\n",
       "      <td>1.250977</td>\n",
       "      <td>1.156258e+07</td>\n",
       "      <td>5.106448e+06</td>\n",
       "      <td>3128.000000</td>\n",
       "      <td>698.000000</td>\n",
       "    </tr>\n",
       "    <tr>\n",
       "      <th>1</th>\n",
       "      <td>54670e2998350a9f0e4868d5</td>\n",
       "      <td>worker</td>\n",
       "      <td>92759a73039692b2d3e0929cadf55f5b07b40d6582c36fdf15c6c1cb493a</td>\n",
       "      <td>cbc1bc591c53301bceafa44dc626288fd92d2fc5dca43813d9ff7f8d56ae</td>\n",
       "      <td>68889727c2257f702108d185e5eed342a39807a2893d4bac00987159d00c</td>\n",
       "      <td>Terminated</td>\n",
       "      <td>3272995.0</td>\n",
       "      <td>3273056.0</td>\n",
       "      <td>31dbf829549b10917e7193a6</td>\n",
       "      <td>NaN</td>\n",
       "      <td>NaN</td>\n",
       "      <td>NaN</td>\n",
       "      <td>NaN</td>\n",
       "      <td>NaN</td>\n",
       "      <td>NaN</td>\n",
       "      <td>NaN</td>\n",
       "      <td>NaN</td>\n",
       "      <td>NaN</td>\n",
       "      <td>96.0</td>\n",
       "      <td>512.0</td>\n",
       "      <td>2.0</td>\n",
       "      <td>/dev/nvidia1</td>\n",
       "      <td>59.818182</td>\n",
       "      <td>12.692308</td>\n",
       "      <td>0.791391</td>\n",
       "      <td>1.825195</td>\n",
       "      <td>0.345478</td>\n",
       "      <td>1.250977</td>\n",
       "      <td>1.310309e+07</td>\n",
       "      <td>5.786064e+06</td>\n",
       "      <td>3541.933333</td>\n",
       "      <td>781.733333</td>\n",
       "    </tr>\n",
       "    <tr>\n",
       "      <th>2</th>\n",
       "      <td>54670e2998350a9f0e4868d5</td>\n",
       "      <td>worker</td>\n",
       "      <td>d0f2e1f76ff463bcd08302370cc2f9bf0ec1333a3b25e325bc1b57debff7</td>\n",
       "      <td>1a631e8be3fd787c2891c15b9e9bac6df4f177efc9ec7b954283c8648554</td>\n",
       "      <td>68889727c2257f702108d185e5eed342a39807a2893d4bac00987159d00c</td>\n",
       "      <td>Terminated</td>\n",
       "      <td>3272995.0</td>\n",
       "      <td>3273058.0</td>\n",
       "      <td>3765d45e2eca88d1d1da7cef</td>\n",
       "      <td>NaN</td>\n",
       "      <td>NaN</td>\n",
       "      <td>NaN</td>\n",
       "      <td>NaN</td>\n",
       "      <td>NaN</td>\n",
       "      <td>NaN</td>\n",
       "      <td>NaN</td>\n",
       "      <td>NaN</td>\n",
       "      <td>NaN</td>\n",
       "      <td>96.0</td>\n",
       "      <td>512.0</td>\n",
       "      <td>2.0</td>\n",
       "      <td>/dev/nvidia1</td>\n",
       "      <td>44.583333</td>\n",
       "      <td>16.571429</td>\n",
       "      <td>0.696638</td>\n",
       "      <td>1.798828</td>\n",
       "      <td>0.242885</td>\n",
       "      <td>0.756836</td>\n",
       "      <td>1.228916e+07</td>\n",
       "      <td>5.424439e+06</td>\n",
       "      <td>3325.937500</td>\n",
       "      <td>732.062500</td>\n",
       "    </tr>\n",
       "    <tr>\n",
       "      <th>3</th>\n",
       "      <td>54670e2998350a9f0e4868d5</td>\n",
       "      <td>worker</td>\n",
       "      <td>0243b1305fd38f228634b23f69de5ed5ce801360eeffdc990834becc78b4</td>\n",
       "      <td>59aea81c00cccb5cd01ca2f7f72877d6bc73b427821986ce84858c51c4d8</td>\n",
       "      <td>68889727c2257f702108d185e5eed342a39807a2893d4bac00987159d00c</td>\n",
       "      <td>Terminated</td>\n",
       "      <td>3272995.0</td>\n",
       "      <td>3273059.0</td>\n",
       "      <td>c0d6760f6248ea8260e36fa5</td>\n",
       "      <td>NaN</td>\n",
       "      <td>NaN</td>\n",
       "      <td>NaN</td>\n",
       "      <td>NaN</td>\n",
       "      <td>NaN</td>\n",
       "      <td>NaN</td>\n",
       "      <td>NaN</td>\n",
       "      <td>NaN</td>\n",
       "      <td>NaN</td>\n",
       "      <td>96.0</td>\n",
       "      <td>512.0</td>\n",
       "      <td>2.0</td>\n",
       "      <td>/dev/nvidia1</td>\n",
       "      <td>38.733333</td>\n",
       "      <td>20.625000</td>\n",
       "      <td>0.456665</td>\n",
       "      <td>1.529297</td>\n",
       "      <td>0.294800</td>\n",
       "      <td>0.786133</td>\n",
       "      <td>1.772259e+07</td>\n",
       "      <td>4.578005e+06</td>\n",
       "      <td>4970.111111</td>\n",
       "      <td>979.888889</td>\n",
       "    </tr>\n",
       "    <tr>\n",
       "      <th>4</th>\n",
       "      <td>54670e2998350a9f0e4868d5</td>\n",
       "      <td>worker</td>\n",
       "      <td>1753fcfedee1e5f287617ac478dd44ed1898ecbb278d26361949c8057d4b</td>\n",
       "      <td>d4e61397a75bc629099a8a237d1c94e4a05844daff6890d11e8751188d04</td>\n",
       "      <td>68889727c2257f702108d185e5eed342a39807a2893d4bac00987159d00c</td>\n",
       "      <td>Terminated</td>\n",
       "      <td>3272995.0</td>\n",
       "      <td>3273061.0</td>\n",
       "      <td>f1b1d66a13cb0bcc2a7f11b3</td>\n",
       "      <td>NaN</td>\n",
       "      <td>NaN</td>\n",
       "      <td>NaN</td>\n",
       "      <td>NaN</td>\n",
       "      <td>NaN</td>\n",
       "      <td>NaN</td>\n",
       "      <td>NaN</td>\n",
       "      <td>NaN</td>\n",
       "      <td>NaN</td>\n",
       "      <td>96.0</td>\n",
       "      <td>512.0</td>\n",
       "      <td>2.0</td>\n",
       "      <td>/dev/nvidia1</td>\n",
       "      <td>37.133333</td>\n",
       "      <td>2.625000</td>\n",
       "      <td>0.462708</td>\n",
       "      <td>1.604492</td>\n",
       "      <td>0.492432</td>\n",
       "      <td>1.250977</td>\n",
       "      <td>1.827839e+07</td>\n",
       "      <td>5.116369e+06</td>\n",
       "      <td>4979.777778</td>\n",
       "      <td>980.166667</td>\n",
       "    </tr>\n",
       "    <tr>\n",
       "      <th>...</th>\n",
       "      <td>...</td>\n",
       "      <td>...</td>\n",
       "      <td>...</td>\n",
       "      <td>...</td>\n",
       "      <td>...</td>\n",
       "      <td>...</td>\n",
       "      <td>...</td>\n",
       "      <td>...</td>\n",
       "      <td>...</td>\n",
       "      <td>...</td>\n",
       "      <td>...</td>\n",
       "      <td>...</td>\n",
       "      <td>...</td>\n",
       "      <td>...</td>\n",
       "      <td>...</td>\n",
       "      <td>...</td>\n",
       "      <td>...</td>\n",
       "      <td>...</td>\n",
       "      <td>...</td>\n",
       "      <td>...</td>\n",
       "      <td>...</td>\n",
       "      <td>...</td>\n",
       "      <td>...</td>\n",
       "      <td>...</td>\n",
       "      <td>...</td>\n",
       "      <td>...</td>\n",
       "      <td>...</td>\n",
       "      <td>...</td>\n",
       "      <td>...</td>\n",
       "      <td>...</td>\n",
       "      <td>...</td>\n",
       "      <td>...</td>\n",
       "    </tr>\n",
       "    <tr>\n",
       "      <th>302899</th>\n",
       "      <td>268138e2312f04c07fab07a9</td>\n",
       "      <td>tensorflow</td>\n",
       "      <td>7c9144a617f31e3b89ceae76ce628d4903ab32399f8b5579317b7d5a878b</td>\n",
       "      <td>5deb89a8b0626b35c0e5324b5dd527918cedfbbd5305255f2a9471b98f75</td>\n",
       "      <td>cc7814f3eb7f31b888d3382a656e398d4266e82aabf015390c24377e08f9</td>\n",
       "      <td>Failed</td>\n",
       "      <td>3595238.0</td>\n",
       "      <td>NaN</td>\n",
       "      <td>850645a87234c5b991246fad</td>\n",
       "      <td>NaN</td>\n",
       "      <td>NaN</td>\n",
       "      <td>NaN</td>\n",
       "      <td>NaN</td>\n",
       "      <td>NaN</td>\n",
       "      <td>NaN</td>\n",
       "      <td>NaN</td>\n",
       "      <td>NaN</td>\n",
       "      <td>NaN</td>\n",
       "      <td>96.0</td>\n",
       "      <td>512.0</td>\n",
       "      <td>8.0</td>\n",
       "      <td>/dev/nvidia5</td>\n",
       "      <td>561.678119</td>\n",
       "      <td>0.000000</td>\n",
       "      <td>12.044902</td>\n",
       "      <td>38.376953</td>\n",
       "      <td>0.133719</td>\n",
       "      <td>0.133789</td>\n",
       "      <td>7.222179e+05</td>\n",
       "      <td>2.436051e+05</td>\n",
       "      <td>495.177072</td>\n",
       "      <td>247.544398</td>\n",
       "    </tr>\n",
       "    <tr>\n",
       "      <th>302900</th>\n",
       "      <td>331c3613cadec5dc49f86e7b</td>\n",
       "      <td>tensorflow</td>\n",
       "      <td>24b3d4bfc156d94dac20212daa4291cfc812108d9f6c33f6faa10bc934bc</td>\n",
       "      <td>9e8888c6e86b2078d32340142dc88d0a42a7c37535430f98cca5caebe122</td>\n",
       "      <td>f016bfa29ca57eed6e44391994004a4782ef58cafc36328cb0c81ce1dd37</td>\n",
       "      <td>Terminated</td>\n",
       "      <td>3608548.0</td>\n",
       "      <td>3619454.0</td>\n",
       "      <td>4f4065b8553a0bd900f133db</td>\n",
       "      <td>NaN</td>\n",
       "      <td>NaN</td>\n",
       "      <td>NaN</td>\n",
       "      <td>NaN</td>\n",
       "      <td>NaN</td>\n",
       "      <td>NaN</td>\n",
       "      <td>NaN</td>\n",
       "      <td>NaN</td>\n",
       "      <td>NaN</td>\n",
       "      <td>96.0</td>\n",
       "      <td>512.0</td>\n",
       "      <td>8.0</td>\n",
       "      <td>/dev/nvidia4</td>\n",
       "      <td>1954.583219</td>\n",
       "      <td>0.000000</td>\n",
       "      <td>4.605938</td>\n",
       "      <td>5.817383</td>\n",
       "      <td>0.000000</td>\n",
       "      <td>0.000000</td>\n",
       "      <td>4.050138e+06</td>\n",
       "      <td>1.533783e+06</td>\n",
       "      <td>334.761098</td>\n",
       "      <td>143.457666</td>\n",
       "    </tr>\n",
       "    <tr>\n",
       "      <th>302901</th>\n",
       "      <td>8007644ba459671db58198f9</td>\n",
       "      <td>tensorflow</td>\n",
       "      <td>0eef5cbdb491c65dde1cb3252c1b35baa2bdf2448380eaaa2d3240c4e559</td>\n",
       "      <td>25ae433aa1cfde80584820d6e9ba574006c3bc098d363aab591b89df651e</td>\n",
       "      <td>7db7063f031f204b3ca78329d8da8c64c63fda7b7fb6207ce51a273c2b68</td>\n",
       "      <td>Terminated</td>\n",
       "      <td>2477557.0</td>\n",
       "      <td>2477628.0</td>\n",
       "      <td>14b2923a689fbdaacd311ec5</td>\n",
       "      <td>NaN</td>\n",
       "      <td>NaN</td>\n",
       "      <td>NaN</td>\n",
       "      <td>NaN</td>\n",
       "      <td>NaN</td>\n",
       "      <td>NaN</td>\n",
       "      <td>NaN</td>\n",
       "      <td>NaN</td>\n",
       "      <td>NaN</td>\n",
       "      <td>96.0</td>\n",
       "      <td>512.0</td>\n",
       "      <td>2.0</td>\n",
       "      <td>/dev/nvidia1</td>\n",
       "      <td>59.133333</td>\n",
       "      <td>0.000000</td>\n",
       "      <td>0.904236</td>\n",
       "      <td>1.483398</td>\n",
       "      <td>0.422119</td>\n",
       "      <td>0.750977</td>\n",
       "      <td>1.024756e+07</td>\n",
       "      <td>4.687288e+06</td>\n",
       "      <td>3326.666667</td>\n",
       "      <td>511.944444</td>\n",
       "    </tr>\n",
       "    <tr>\n",
       "      <th>302902</th>\n",
       "      <td>454ac104a9d9508914efbc72</td>\n",
       "      <td>tensorflow</td>\n",
       "      <td>adb454b55ce85124280baeab08d3a42e3dc0bb2cb8d151a25fb2d9d6d86c</td>\n",
       "      <td>731c9b846d2c58c93de332a2e9d2d151b8aafd9bce64ba14a583e4e125a6</td>\n",
       "      <td>5d12e4e34319adbda1f4cdd93731c4d9fb188dc73d169b137bf2dab556b4</td>\n",
       "      <td>Terminated</td>\n",
       "      <td>2528334.0</td>\n",
       "      <td>2554763.0</td>\n",
       "      <td>0ff0904e22f19313649334fc</td>\n",
       "      <td>NaN</td>\n",
       "      <td>NaN</td>\n",
       "      <td>NaN</td>\n",
       "      <td>NaN</td>\n",
       "      <td>NaN</td>\n",
       "      <td>NaN</td>\n",
       "      <td>NaN</td>\n",
       "      <td>NaN</td>\n",
       "      <td>NaN</td>\n",
       "      <td>96.0</td>\n",
       "      <td>512.0</td>\n",
       "      <td>2.0</td>\n",
       "      <td>/dev/nvidia0</td>\n",
       "      <td>313.003026</td>\n",
       "      <td>26.832892</td>\n",
       "      <td>16.147192</td>\n",
       "      <td>23.597656</td>\n",
       "      <td>0.523481</td>\n",
       "      <td>0.524414</td>\n",
       "      <td>1.786270e+07</td>\n",
       "      <td>1.231050e+05</td>\n",
       "      <td>841.819282</td>\n",
       "      <td>347.514178</td>\n",
       "    </tr>\n",
       "    <tr>\n",
       "      <th>302903</th>\n",
       "      <td>3ad20b591a35f811c66bd814</td>\n",
       "      <td>tensorflow</td>\n",
       "      <td>d788fcd6667b3ce31e8f9ab2edf70b0ed026fc3d20658f20156398aa6732</td>\n",
       "      <td>ff08b3656d900499616b4dab49170d69744222abf7921cefb7d4f00a4ae0</td>\n",
       "      <td>1d9f8597f77c3a42cb5080973cd2627d3255ccccbebd5727a0a496bcc47c</td>\n",
       "      <td>Terminated</td>\n",
       "      <td>2578254.0</td>\n",
       "      <td>2578769.0</td>\n",
       "      <td>b3b0cd5b2cbf3336bb62d9e1</td>\n",
       "      <td>NaN</td>\n",
       "      <td>NaN</td>\n",
       "      <td>NaN</td>\n",
       "      <td>NaN</td>\n",
       "      <td>NaN</td>\n",
       "      <td>NaN</td>\n",
       "      <td>NaN</td>\n",
       "      <td>NaN</td>\n",
       "      <td>NaN</td>\n",
       "      <td>96.0</td>\n",
       "      <td>512.0</td>\n",
       "      <td>8.0</td>\n",
       "      <td>/dev/nvidia7</td>\n",
       "      <td>323.627451</td>\n",
       "      <td>7.056604</td>\n",
       "      <td>6.148381</td>\n",
       "      <td>8.895508</td>\n",
       "      <td>1.961693</td>\n",
       "      <td>2.592773</td>\n",
       "      <td>5.386477e+07</td>\n",
       "      <td>6.338013e+06</td>\n",
       "      <td>2031.933962</td>\n",
       "      <td>796.745283</td>\n",
       "    </tr>\n",
       "  </tbody>\n",
       "</table>\n",
       "<p>302904 rows × 32 columns</p>\n",
       "</div>"
      ],
      "text/plain": [
       "                        job_name   task_name  \\\n",
       "0       54670e2998350a9f0e4868d5      worker   \n",
       "1       54670e2998350a9f0e4868d5      worker   \n",
       "2       54670e2998350a9f0e4868d5      worker   \n",
       "3       54670e2998350a9f0e4868d5      worker   \n",
       "4       54670e2998350a9f0e4868d5      worker   \n",
       "...                          ...         ...   \n",
       "302899  268138e2312f04c07fab07a9  tensorflow   \n",
       "302900  331c3613cadec5dc49f86e7b  tensorflow   \n",
       "302901  8007644ba459671db58198f9  tensorflow   \n",
       "302902  454ac104a9d9508914efbc72  tensorflow   \n",
       "302903  3ad20b591a35f811c66bd814  tensorflow   \n",
       "\n",
       "                                                           inst_name  \\\n",
       "0       c47ee192deea8c5aa87d8d7c2e02120cd03f75304a69dde378ac4abad45c   \n",
       "1       92759a73039692b2d3e0929cadf55f5b07b40d6582c36fdf15c6c1cb493a   \n",
       "2       d0f2e1f76ff463bcd08302370cc2f9bf0ec1333a3b25e325bc1b57debff7   \n",
       "3       0243b1305fd38f228634b23f69de5ed5ce801360eeffdc990834becc78b4   \n",
       "4       1753fcfedee1e5f287617ac478dd44ed1898ecbb278d26361949c8057d4b   \n",
       "...                                                              ...   \n",
       "302899  7c9144a617f31e3b89ceae76ce628d4903ab32399f8b5579317b7d5a878b   \n",
       "302900  24b3d4bfc156d94dac20212daa4291cfc812108d9f6c33f6faa10bc934bc   \n",
       "302901  0eef5cbdb491c65dde1cb3252c1b35baa2bdf2448380eaaa2d3240c4e559   \n",
       "302902  adb454b55ce85124280baeab08d3a42e3dc0bb2cb8d151a25fb2d9d6d86c   \n",
       "302903  d788fcd6667b3ce31e8f9ab2edf70b0ed026fc3d20658f20156398aa6732   \n",
       "\n",
       "                                                         worker_name  \\\n",
       "0       05b1590648df3f4c6deea2496bbbefd4d3ae93347669f764d466128a150f   \n",
       "1       cbc1bc591c53301bceafa44dc626288fd92d2fc5dca43813d9ff7f8d56ae   \n",
       "2       1a631e8be3fd787c2891c15b9e9bac6df4f177efc9ec7b954283c8648554   \n",
       "3       59aea81c00cccb5cd01ca2f7f72877d6bc73b427821986ce84858c51c4d8   \n",
       "4       d4e61397a75bc629099a8a237d1c94e4a05844daff6890d11e8751188d04   \n",
       "...                                                              ...   \n",
       "302899  5deb89a8b0626b35c0e5324b5dd527918cedfbbd5305255f2a9471b98f75   \n",
       "302900  9e8888c6e86b2078d32340142dc88d0a42a7c37535430f98cca5caebe122   \n",
       "302901  25ae433aa1cfde80584820d6e9ba574006c3bc098d363aab591b89df651e   \n",
       "302902  731c9b846d2c58c93de332a2e9d2d151b8aafd9bce64ba14a583e4e125a6   \n",
       "302903  ff08b3656d900499616b4dab49170d69744222abf7921cefb7d4f00a4ae0   \n",
       "\n",
       "                                                             inst_id  \\\n",
       "0       68889727c2257f702108d185e5eed342a39807a2893d4bac00987159d00c   \n",
       "1       68889727c2257f702108d185e5eed342a39807a2893d4bac00987159d00c   \n",
       "2       68889727c2257f702108d185e5eed342a39807a2893d4bac00987159d00c   \n",
       "3       68889727c2257f702108d185e5eed342a39807a2893d4bac00987159d00c   \n",
       "4       68889727c2257f702108d185e5eed342a39807a2893d4bac00987159d00c   \n",
       "...                                                              ...   \n",
       "302899  cc7814f3eb7f31b888d3382a656e398d4266e82aabf015390c24377e08f9   \n",
       "302900  f016bfa29ca57eed6e44391994004a4782ef58cafc36328cb0c81ce1dd37   \n",
       "302901  7db7063f031f204b3ca78329d8da8c64c63fda7b7fb6207ce51a273c2b68   \n",
       "302902  5d12e4e34319adbda1f4cdd93731c4d9fb188dc73d169b137bf2dab556b4   \n",
       "302903  1d9f8597f77c3a42cb5080973cd2627d3255ccccbebd5727a0a496bcc47c   \n",
       "\n",
       "            status  start_time   end_time                   machine  inst_num  \\\n",
       "0       Terminated   3272995.0  3273065.0  165261853e188ca69c4fbcdf       NaN   \n",
       "1       Terminated   3272995.0  3273056.0  31dbf829549b10917e7193a6       NaN   \n",
       "2       Terminated   3272995.0  3273058.0  3765d45e2eca88d1d1da7cef       NaN   \n",
       "3       Terminated   3272995.0  3273059.0  c0d6760f6248ea8260e36fa5       NaN   \n",
       "4       Terminated   3272995.0  3273061.0  f1b1d66a13cb0bcc2a7f11b3       NaN   \n",
       "...            ...         ...        ...                       ...       ...   \n",
       "302899      Failed   3595238.0        NaN  850645a87234c5b991246fad       NaN   \n",
       "302900  Terminated   3608548.0  3619454.0  4f4065b8553a0bd900f133db       NaN   \n",
       "302901  Terminated   2477557.0  2477628.0  14b2923a689fbdaacd311ec5       NaN   \n",
       "302902  Terminated   2528334.0  2554763.0  0ff0904e22f19313649334fc       NaN   \n",
       "302903  Terminated   2578254.0  2578769.0  b3b0cd5b2cbf3336bb62d9e1       NaN   \n",
       "\n",
       "        plan_cpu  plan_mem  plan_gpu gpu_type user gpu_type_spec group  \\\n",
       "0            NaN       NaN       NaN      NaN  NaN           NaN   NaN   \n",
       "1            NaN       NaN       NaN      NaN  NaN           NaN   NaN   \n",
       "2            NaN       NaN       NaN      NaN  NaN           NaN   NaN   \n",
       "3            NaN       NaN       NaN      NaN  NaN           NaN   NaN   \n",
       "4            NaN       NaN       NaN      NaN  NaN           NaN   NaN   \n",
       "...          ...       ...       ...      ...  ...           ...   ...   \n",
       "302899       NaN       NaN       NaN      NaN  NaN           NaN   NaN   \n",
       "302900       NaN       NaN       NaN      NaN  NaN           NaN   NaN   \n",
       "302901       NaN       NaN       NaN      NaN  NaN           NaN   NaN   \n",
       "302902       NaN       NaN       NaN      NaN  NaN           NaN   NaN   \n",
       "302903       NaN       NaN       NaN      NaN  NaN           NaN   NaN   \n",
       "\n",
       "       workload  cap_cpu  cap_mem  cap_gpu      gpu_name    cpu_usage  \\\n",
       "0           NaN     96.0    512.0      2.0  /dev/nvidia0    45.000000   \n",
       "1           NaN     96.0    512.0      2.0  /dev/nvidia1    59.818182   \n",
       "2           NaN     96.0    512.0      2.0  /dev/nvidia1    44.583333   \n",
       "3           NaN     96.0    512.0      2.0  /dev/nvidia1    38.733333   \n",
       "4           NaN     96.0    512.0      2.0  /dev/nvidia1    37.133333   \n",
       "...         ...      ...      ...      ...           ...          ...   \n",
       "302899      NaN     96.0    512.0      8.0  /dev/nvidia5   561.678119   \n",
       "302900      NaN     96.0    512.0      8.0  /dev/nvidia4  1954.583219   \n",
       "302901      NaN     96.0    512.0      2.0  /dev/nvidia1    59.133333   \n",
       "302902      NaN     96.0    512.0      2.0  /dev/nvidia0   313.003026   \n",
       "302903      NaN     96.0    512.0      8.0  /dev/nvidia7   323.627451   \n",
       "\n",
       "        gpu_wrk_util    avg_mem    max_mem  avg_gpu_wrk_mem  max_gpu_wrk_mem  \\\n",
       "0          15.882353   0.745052   1.836914         0.367934         1.250977   \n",
       "1          12.692308   0.791391   1.825195         0.345478         1.250977   \n",
       "2          16.571429   0.696638   1.798828         0.242885         0.756836   \n",
       "3          20.625000   0.456665   1.529297         0.294800         0.786133   \n",
       "4           2.625000   0.462708   1.604492         0.492432         1.250977   \n",
       "...              ...        ...        ...              ...              ...   \n",
       "302899      0.000000  12.044902  38.376953         0.133719         0.133789   \n",
       "302900      0.000000   4.605938   5.817383         0.000000         0.000000   \n",
       "302901      0.000000   0.904236   1.483398         0.422119         0.750977   \n",
       "302902     26.832892  16.147192  23.597656         0.523481         0.524414   \n",
       "302903      7.056604   6.148381   8.895508         1.961693         2.592773   \n",
       "\n",
       "                read         write   read_count  write_count  \n",
       "0       1.156258e+07  5.106448e+06  3128.000000   698.000000  \n",
       "1       1.310309e+07  5.786064e+06  3541.933333   781.733333  \n",
       "2       1.228916e+07  5.424439e+06  3325.937500   732.062500  \n",
       "3       1.772259e+07  4.578005e+06  4970.111111   979.888889  \n",
       "4       1.827839e+07  5.116369e+06  4979.777778   980.166667  \n",
       "...              ...           ...          ...          ...  \n",
       "302899  7.222179e+05  2.436051e+05   495.177072   247.544398  \n",
       "302900  4.050138e+06  1.533783e+06   334.761098   143.457666  \n",
       "302901  1.024756e+07  4.687288e+06  3326.666667   511.944444  \n",
       "302902  1.786270e+07  1.231050e+05   841.819282   347.514178  \n",
       "302903  5.386477e+07  6.338013e+06  2031.933962   796.745283  \n",
       "\n",
       "[302904 rows x 32 columns]"
      ]
     },
     "execution_count": 16,
     "metadata": {},
     "output_type": "execute_result"
    }
   ],
   "source": [
    "dfws"
   ]
  },
  {
   "cell_type": "markdown",
   "metadata": {},
   "source": [
    "`dfas`: DataFrame of Task with sensor data"
   ]
  },
  {
   "cell_type": "code",
   "execution_count": 17,
   "metadata": {
    "ExecuteTime": {
     "end_time": "2021-06-30T09:32:56.065190Z",
     "start_time": "2021-06-30T09:32:47.258168Z"
    }
   },
   "outputs": [],
   "source": [
    "#Create a dataframe 'dfas' of tasks with sensor data\n",
    "dfas = dfws.groupby(['job_name','task_name'])[['cpu_usage','gpu_wrk_util','avg_mem','avg_gpu_wrk_mem','plan_cpu','plan_gpu','plan_mem','cap_cpu','cap_gpu','cap_mem']].sum()\n",
    "dfas = dfa.drop(columns=['plan_cpu','plan_mem','plan_gpu']).merge(dfas, on=['job_name','task_name'])\n",
    "# dfas.to_csv('dfas.csv') # optional"
   ]
  },
  {
   "cell_type": "code",
   "execution_count": 18,
   "metadata": {},
   "outputs": [
    {
     "data": {
      "text/html": [
       "<div>\n",
       "<style scoped>\n",
       "    .dataframe tbody tr th:only-of-type {\n",
       "        vertical-align: middle;\n",
       "    }\n",
       "\n",
       "    .dataframe tbody tr th {\n",
       "        vertical-align: top;\n",
       "    }\n",
       "\n",
       "    .dataframe thead th {\n",
       "        text-align: right;\n",
       "    }\n",
       "</style>\n",
       "<table border=\"1\" class=\"dataframe\">\n",
       "  <thead>\n",
       "    <tr style=\"text-align: right;\">\n",
       "      <th></th>\n",
       "      <th>job_name</th>\n",
       "      <th>task_name</th>\n",
       "      <th>inst_num</th>\n",
       "      <th>status</th>\n",
       "      <th>start_time</th>\n",
       "      <th>end_time</th>\n",
       "      <th>gpu_type</th>\n",
       "      <th>inst_id</th>\n",
       "      <th>user</th>\n",
       "      <th>inst_name</th>\n",
       "      <th>worker_name</th>\n",
       "      <th>machine</th>\n",
       "      <th>gpu_type_spec</th>\n",
       "      <th>group</th>\n",
       "      <th>workload</th>\n",
       "      <th>cpu_usage</th>\n",
       "      <th>gpu_wrk_util</th>\n",
       "      <th>avg_mem</th>\n",
       "      <th>avg_gpu_wrk_mem</th>\n",
       "      <th>plan_cpu</th>\n",
       "      <th>plan_gpu</th>\n",
       "      <th>plan_mem</th>\n",
       "      <th>cap_cpu</th>\n",
       "      <th>cap_gpu</th>\n",
       "      <th>cap_mem</th>\n",
       "    </tr>\n",
       "  </thead>\n",
       "  <tbody>\n",
       "    <tr>\n",
       "      <th>0</th>\n",
       "      <td>455c3dec270f4777ad67721c</td>\n",
       "      <td>tensorflow</td>\n",
       "      <td>1.0</td>\n",
       "      <td>Terminated</td>\n",
       "      <td>3399583.0</td>\n",
       "      <td>3399732.0</td>\n",
       "      <td>MISC</td>\n",
       "      <td>NaN</td>\n",
       "      <td>NaN</td>\n",
       "      <td>NaN</td>\n",
       "      <td>NaN</td>\n",
       "      <td>NaN</td>\n",
       "      <td>NaN</td>\n",
       "      <td>NaN</td>\n",
       "      <td>NaN</td>\n",
       "      <td>117.888889</td>\n",
       "      <td>0.333333</td>\n",
       "      <td>1.870295</td>\n",
       "      <td>0.069743</td>\n",
       "      <td>0.0</td>\n",
       "      <td>0.0</td>\n",
       "      <td>0.0</td>\n",
       "      <td>96.0</td>\n",
       "      <td>8.0</td>\n",
       "      <td>512.0</td>\n",
       "    </tr>\n",
       "    <tr>\n",
       "      <th>1</th>\n",
       "      <td>455c3dec270f4777ad67721c</td>\n",
       "      <td>tensorflow</td>\n",
       "      <td>NaN</td>\n",
       "      <td>Terminated</td>\n",
       "      <td>3399681.0</td>\n",
       "      <td>3399732.0</td>\n",
       "      <td>NaN</td>\n",
       "      <td>d94b4b01a6dd6c1865972cd628abe206422143ef37e6d449d4b2e862e574</td>\n",
       "      <td>NaN</td>\n",
       "      <td>fd65d735e50765a4afc17991a9508524847f778aeadad3d3f0b8d9d8e31e</td>\n",
       "      <td>60fa808be024e77c81c13a5ae2b336ad35fd837e59cc80621274940e96d0</td>\n",
       "      <td>d73dbda0dd25f3b3ee3e1bba</td>\n",
       "      <td>NaN</td>\n",
       "      <td>NaN</td>\n",
       "      <td>NaN</td>\n",
       "      <td>117.888889</td>\n",
       "      <td>0.333333</td>\n",
       "      <td>1.870295</td>\n",
       "      <td>0.069743</td>\n",
       "      <td>0.0</td>\n",
       "      <td>0.0</td>\n",
       "      <td>0.0</td>\n",
       "      <td>96.0</td>\n",
       "      <td>8.0</td>\n",
       "      <td>512.0</td>\n",
       "    </tr>\n",
       "    <tr>\n",
       "      <th>2</th>\n",
       "      <td>d76d4017df0414d7055f20b6</td>\n",
       "      <td>tensorflow</td>\n",
       "      <td>1.0</td>\n",
       "      <td>Terminated</td>\n",
       "      <td>2401728.0</td>\n",
       "      <td>2403150.0</td>\n",
       "      <td>MISC</td>\n",
       "      <td>NaN</td>\n",
       "      <td>NaN</td>\n",
       "      <td>NaN</td>\n",
       "      <td>NaN</td>\n",
       "      <td>NaN</td>\n",
       "      <td>NaN</td>\n",
       "      <td>NaN</td>\n",
       "      <td>NaN</td>\n",
       "      <td>121.258182</td>\n",
       "      <td>8.910394</td>\n",
       "      <td>3.697749</td>\n",
       "      <td>0.214487</td>\n",
       "      <td>0.0</td>\n",
       "      <td>0.0</td>\n",
       "      <td>0.0</td>\n",
       "      <td>96.0</td>\n",
       "      <td>8.0</td>\n",
       "      <td>512.0</td>\n",
       "    </tr>\n",
       "    <tr>\n",
       "      <th>3</th>\n",
       "      <td>d76d4017df0414d7055f20b6</td>\n",
       "      <td>tensorflow</td>\n",
       "      <td>NaN</td>\n",
       "      <td>Terminated</td>\n",
       "      <td>2401737.0</td>\n",
       "      <td>2403150.0</td>\n",
       "      <td>NaN</td>\n",
       "      <td>b76e03aace7572b051ec084ab4b755dabb4069ae9278ca7d5cfbed816202</td>\n",
       "      <td>NaN</td>\n",
       "      <td>7b5121984431daad6a026e4093c80b01053d9be92ff36c0cae6143b39d92</td>\n",
       "      <td>a5acfa209bddfa53d4d9700a23421092a267190b5cc5f3e46b2ab47cf834</td>\n",
       "      <td>33c1b3352937155d8b30906a</td>\n",
       "      <td>NaN</td>\n",
       "      <td>NaN</td>\n",
       "      <td>NaN</td>\n",
       "      <td>121.258182</td>\n",
       "      <td>8.910394</td>\n",
       "      <td>3.697749</td>\n",
       "      <td>0.214487</td>\n",
       "      <td>0.0</td>\n",
       "      <td>0.0</td>\n",
       "      <td>0.0</td>\n",
       "      <td>96.0</td>\n",
       "      <td>8.0</td>\n",
       "      <td>512.0</td>\n",
       "    </tr>\n",
       "    <tr>\n",
       "      <th>4</th>\n",
       "      <td>d04911f4bf0ec739b03b32e0</td>\n",
       "      <td>tensorflow</td>\n",
       "      <td>1.0</td>\n",
       "      <td>Terminated</td>\n",
       "      <td>3478229.0</td>\n",
       "      <td>3479473.0</td>\n",
       "      <td>P100</td>\n",
       "      <td>NaN</td>\n",
       "      <td>NaN</td>\n",
       "      <td>NaN</td>\n",
       "      <td>NaN</td>\n",
       "      <td>NaN</td>\n",
       "      <td>NaN</td>\n",
       "      <td>NaN</td>\n",
       "      <td>NaN</td>\n",
       "      <td>49.289916</td>\n",
       "      <td>2.384298</td>\n",
       "      <td>4.847388</td>\n",
       "      <td>2.197003</td>\n",
       "      <td>0.0</td>\n",
       "      <td>0.0</td>\n",
       "      <td>0.0</td>\n",
       "      <td>64.0</td>\n",
       "      <td>2.0</td>\n",
       "      <td>512.0</td>\n",
       "    </tr>\n",
       "    <tr>\n",
       "      <th>...</th>\n",
       "      <td>...</td>\n",
       "      <td>...</td>\n",
       "      <td>...</td>\n",
       "      <td>...</td>\n",
       "      <td>...</td>\n",
       "      <td>...</td>\n",
       "      <td>...</td>\n",
       "      <td>...</td>\n",
       "      <td>...</td>\n",
       "      <td>...</td>\n",
       "      <td>...</td>\n",
       "      <td>...</td>\n",
       "      <td>...</td>\n",
       "      <td>...</td>\n",
       "      <td>...</td>\n",
       "      <td>...</td>\n",
       "      <td>...</td>\n",
       "      <td>...</td>\n",
       "      <td>...</td>\n",
       "      <td>...</td>\n",
       "      <td>...</td>\n",
       "      <td>...</td>\n",
       "      <td>...</td>\n",
       "      <td>...</td>\n",
       "      <td>...</td>\n",
       "    </tr>\n",
       "    <tr>\n",
       "      <th>567121</th>\n",
       "      <td>3d4ebc538afd4ec0772756da</td>\n",
       "      <td>tensorflow</td>\n",
       "      <td>1.0</td>\n",
       "      <td>Failed</td>\n",
       "      <td>3398741.0</td>\n",
       "      <td>NaN</td>\n",
       "      <td>MISC</td>\n",
       "      <td>NaN</td>\n",
       "      <td>NaN</td>\n",
       "      <td>NaN</td>\n",
       "      <td>NaN</td>\n",
       "      <td>NaN</td>\n",
       "      <td>NaN</td>\n",
       "      <td>NaN</td>\n",
       "      <td>NaN</td>\n",
       "      <td>10.000000</td>\n",
       "      <td>0.000000</td>\n",
       "      <td>0.102539</td>\n",
       "      <td>0.000000</td>\n",
       "      <td>0.0</td>\n",
       "      <td>0.0</td>\n",
       "      <td>0.0</td>\n",
       "      <td>96.0</td>\n",
       "      <td>8.0</td>\n",
       "      <td>512.0</td>\n",
       "    </tr>\n",
       "    <tr>\n",
       "      <th>567122</th>\n",
       "      <td>3d4ebc538afd4ec0772756da</td>\n",
       "      <td>tensorflow</td>\n",
       "      <td>NaN</td>\n",
       "      <td>Failed</td>\n",
       "      <td>3398750.0</td>\n",
       "      <td>NaN</td>\n",
       "      <td>NaN</td>\n",
       "      <td>b12381762cc69d67ef60d2d7c49d7895c8ed834e0e64b00b829c27f595f8</td>\n",
       "      <td>NaN</td>\n",
       "      <td>01791df5863186bdde146658006d9b01b54bbf0f2079a6ee05aa59cb50b6</td>\n",
       "      <td>efb2ff4af63a632d430f43f01fbc1c7cd57ae819bc6610d3af52dc9b0d50</td>\n",
       "      <td>2592210a2334355c236cd1a7</td>\n",
       "      <td>NaN</td>\n",
       "      <td>NaN</td>\n",
       "      <td>NaN</td>\n",
       "      <td>10.000000</td>\n",
       "      <td>0.000000</td>\n",
       "      <td>0.102539</td>\n",
       "      <td>0.000000</td>\n",
       "      <td>0.0</td>\n",
       "      <td>0.0</td>\n",
       "      <td>0.0</td>\n",
       "      <td>96.0</td>\n",
       "      <td>8.0</td>\n",
       "      <td>512.0</td>\n",
       "    </tr>\n",
       "    <tr>\n",
       "      <th>567123</th>\n",
       "      <td>f11fb98e256cb537dc0697a9</td>\n",
       "      <td>worker</td>\n",
       "      <td>1.0</td>\n",
       "      <td>Failed</td>\n",
       "      <td>3573311.0</td>\n",
       "      <td>NaN</td>\n",
       "      <td>MISC</td>\n",
       "      <td>NaN</td>\n",
       "      <td>NaN</td>\n",
       "      <td>NaN</td>\n",
       "      <td>NaN</td>\n",
       "      <td>NaN</td>\n",
       "      <td>NaN</td>\n",
       "      <td>NaN</td>\n",
       "      <td>NaN</td>\n",
       "      <td>101.354839</td>\n",
       "      <td>0.000000</td>\n",
       "      <td>1.445549</td>\n",
       "      <td>0.366240</td>\n",
       "      <td>0.0</td>\n",
       "      <td>0.0</td>\n",
       "      <td>0.0</td>\n",
       "      <td>96.0</td>\n",
       "      <td>8.0</td>\n",
       "      <td>512.0</td>\n",
       "    </tr>\n",
       "    <tr>\n",
       "      <th>567124</th>\n",
       "      <td>f11fb98e256cb537dc0697a9</td>\n",
       "      <td>worker</td>\n",
       "      <td>NaN</td>\n",
       "      <td>Failed</td>\n",
       "      <td>3573324.0</td>\n",
       "      <td>NaN</td>\n",
       "      <td>NaN</td>\n",
       "      <td>745b30f26852e6c5323a163dbcae0e2ac3e0f7fdc30b583f2e637acfabd5</td>\n",
       "      <td>NaN</td>\n",
       "      <td>cc7aec92c5d2513cd4bc1e4bd27a45d0b143e59912bc77de344bb9cecdb8</td>\n",
       "      <td>7f587136007d423fef2d39de606e9bd8e226b633f7e476da1610fcf9f0c6</td>\n",
       "      <td>4a18a005f26487929716e132</td>\n",
       "      <td>NaN</td>\n",
       "      <td>NaN</td>\n",
       "      <td>NaN</td>\n",
       "      <td>101.354839</td>\n",
       "      <td>0.000000</td>\n",
       "      <td>1.445549</td>\n",
       "      <td>0.366240</td>\n",
       "      <td>0.0</td>\n",
       "      <td>0.0</td>\n",
       "      <td>0.0</td>\n",
       "      <td>96.0</td>\n",
       "      <td>8.0</td>\n",
       "      <td>512.0</td>\n",
       "    </tr>\n",
       "    <tr>\n",
       "      <th>567125</th>\n",
       "      <td>4.41E+23</td>\n",
       "      <td>xComputeWorker</td>\n",
       "      <td>NaN</td>\n",
       "      <td>Terminated</td>\n",
       "      <td>3459286.0</td>\n",
       "      <td>3459716.0</td>\n",
       "      <td>NaN</td>\n",
       "      <td>9c01eabc3b97ac0d32a238f2899857f3b63ea404c42a8b02d5902286377f</td>\n",
       "      <td>NaN</td>\n",
       "      <td>a94ffb62cf55a9e0f37c57db79b2bf4c0ce1603b07a3ee37c597d8dfc637</td>\n",
       "      <td>a11014d2a0a7d6f9c278c7ec82d58553717d949d6151df001af3d0caddd9</td>\n",
       "      <td>c7030e4936c5a93aec3ba89f</td>\n",
       "      <td>NaN</td>\n",
       "      <td>NaN</td>\n",
       "      <td>NaN</td>\n",
       "      <td>92.894118</td>\n",
       "      <td>36.390805</td>\n",
       "      <td>4.785437</td>\n",
       "      <td>1.862058</td>\n",
       "      <td>0.0</td>\n",
       "      <td>0.0</td>\n",
       "      <td>0.0</td>\n",
       "      <td>96.0</td>\n",
       "      <td>2.0</td>\n",
       "      <td>512.0</td>\n",
       "    </tr>\n",
       "  </tbody>\n",
       "</table>\n",
       "<p>567126 rows × 25 columns</p>\n",
       "</div>"
      ],
      "text/plain": [
       "                        job_name       task_name  inst_num      status  \\\n",
       "0       455c3dec270f4777ad67721c      tensorflow       1.0  Terminated   \n",
       "1       455c3dec270f4777ad67721c      tensorflow       NaN  Terminated   \n",
       "2       d76d4017df0414d7055f20b6      tensorflow       1.0  Terminated   \n",
       "3       d76d4017df0414d7055f20b6      tensorflow       NaN  Terminated   \n",
       "4       d04911f4bf0ec739b03b32e0      tensorflow       1.0  Terminated   \n",
       "...                          ...             ...       ...         ...   \n",
       "567121  3d4ebc538afd4ec0772756da      tensorflow       1.0      Failed   \n",
       "567122  3d4ebc538afd4ec0772756da      tensorflow       NaN      Failed   \n",
       "567123  f11fb98e256cb537dc0697a9          worker       1.0      Failed   \n",
       "567124  f11fb98e256cb537dc0697a9          worker       NaN      Failed   \n",
       "567125                  4.41E+23  xComputeWorker       NaN  Terminated   \n",
       "\n",
       "        start_time   end_time gpu_type  \\\n",
       "0        3399583.0  3399732.0     MISC   \n",
       "1        3399681.0  3399732.0      NaN   \n",
       "2        2401728.0  2403150.0     MISC   \n",
       "3        2401737.0  2403150.0      NaN   \n",
       "4        3478229.0  3479473.0     P100   \n",
       "...            ...        ...      ...   \n",
       "567121   3398741.0        NaN     MISC   \n",
       "567122   3398750.0        NaN      NaN   \n",
       "567123   3573311.0        NaN     MISC   \n",
       "567124   3573324.0        NaN      NaN   \n",
       "567125   3459286.0  3459716.0      NaN   \n",
       "\n",
       "                                                             inst_id user  \\\n",
       "0                                                                NaN  NaN   \n",
       "1       d94b4b01a6dd6c1865972cd628abe206422143ef37e6d449d4b2e862e574  NaN   \n",
       "2                                                                NaN  NaN   \n",
       "3       b76e03aace7572b051ec084ab4b755dabb4069ae9278ca7d5cfbed816202  NaN   \n",
       "4                                                                NaN  NaN   \n",
       "...                                                              ...  ...   \n",
       "567121                                                           NaN  NaN   \n",
       "567122  b12381762cc69d67ef60d2d7c49d7895c8ed834e0e64b00b829c27f595f8  NaN   \n",
       "567123                                                           NaN  NaN   \n",
       "567124  745b30f26852e6c5323a163dbcae0e2ac3e0f7fdc30b583f2e637acfabd5  NaN   \n",
       "567125  9c01eabc3b97ac0d32a238f2899857f3b63ea404c42a8b02d5902286377f  NaN   \n",
       "\n",
       "                                                           inst_name  \\\n",
       "0                                                                NaN   \n",
       "1       fd65d735e50765a4afc17991a9508524847f778aeadad3d3f0b8d9d8e31e   \n",
       "2                                                                NaN   \n",
       "3       7b5121984431daad6a026e4093c80b01053d9be92ff36c0cae6143b39d92   \n",
       "4                                                                NaN   \n",
       "...                                                              ...   \n",
       "567121                                                           NaN   \n",
       "567122  01791df5863186bdde146658006d9b01b54bbf0f2079a6ee05aa59cb50b6   \n",
       "567123                                                           NaN   \n",
       "567124  cc7aec92c5d2513cd4bc1e4bd27a45d0b143e59912bc77de344bb9cecdb8   \n",
       "567125  a94ffb62cf55a9e0f37c57db79b2bf4c0ce1603b07a3ee37c597d8dfc637   \n",
       "\n",
       "                                                         worker_name  \\\n",
       "0                                                                NaN   \n",
       "1       60fa808be024e77c81c13a5ae2b336ad35fd837e59cc80621274940e96d0   \n",
       "2                                                                NaN   \n",
       "3       a5acfa209bddfa53d4d9700a23421092a267190b5cc5f3e46b2ab47cf834   \n",
       "4                                                                NaN   \n",
       "...                                                              ...   \n",
       "567121                                                           NaN   \n",
       "567122  efb2ff4af63a632d430f43f01fbc1c7cd57ae819bc6610d3af52dc9b0d50   \n",
       "567123                                                           NaN   \n",
       "567124  7f587136007d423fef2d39de606e9bd8e226b633f7e476da1610fcf9f0c6   \n",
       "567125  a11014d2a0a7d6f9c278c7ec82d58553717d949d6151df001af3d0caddd9   \n",
       "\n",
       "                         machine gpu_type_spec group workload   cpu_usage  \\\n",
       "0                            NaN           NaN   NaN      NaN  117.888889   \n",
       "1       d73dbda0dd25f3b3ee3e1bba           NaN   NaN      NaN  117.888889   \n",
       "2                            NaN           NaN   NaN      NaN  121.258182   \n",
       "3       33c1b3352937155d8b30906a           NaN   NaN      NaN  121.258182   \n",
       "4                            NaN           NaN   NaN      NaN   49.289916   \n",
       "...                          ...           ...   ...      ...         ...   \n",
       "567121                       NaN           NaN   NaN      NaN   10.000000   \n",
       "567122  2592210a2334355c236cd1a7           NaN   NaN      NaN   10.000000   \n",
       "567123                       NaN           NaN   NaN      NaN  101.354839   \n",
       "567124  4a18a005f26487929716e132           NaN   NaN      NaN  101.354839   \n",
       "567125  c7030e4936c5a93aec3ba89f           NaN   NaN      NaN   92.894118   \n",
       "\n",
       "        gpu_wrk_util   avg_mem  avg_gpu_wrk_mem  plan_cpu  plan_gpu  plan_mem  \\\n",
       "0           0.333333  1.870295         0.069743       0.0       0.0       0.0   \n",
       "1           0.333333  1.870295         0.069743       0.0       0.0       0.0   \n",
       "2           8.910394  3.697749         0.214487       0.0       0.0       0.0   \n",
       "3           8.910394  3.697749         0.214487       0.0       0.0       0.0   \n",
       "4           2.384298  4.847388         2.197003       0.0       0.0       0.0   \n",
       "...              ...       ...              ...       ...       ...       ...   \n",
       "567121      0.000000  0.102539         0.000000       0.0       0.0       0.0   \n",
       "567122      0.000000  0.102539         0.000000       0.0       0.0       0.0   \n",
       "567123      0.000000  1.445549         0.366240       0.0       0.0       0.0   \n",
       "567124      0.000000  1.445549         0.366240       0.0       0.0       0.0   \n",
       "567125     36.390805  4.785437         1.862058       0.0       0.0       0.0   \n",
       "\n",
       "        cap_cpu  cap_gpu  cap_mem  \n",
       "0          96.0      8.0    512.0  \n",
       "1          96.0      8.0    512.0  \n",
       "2          96.0      8.0    512.0  \n",
       "3          96.0      8.0    512.0  \n",
       "4          64.0      2.0    512.0  \n",
       "...         ...      ...      ...  \n",
       "567121     96.0      8.0    512.0  \n",
       "567122     96.0      8.0    512.0  \n",
       "567123     96.0      8.0    512.0  \n",
       "567124     96.0      8.0    512.0  \n",
       "567125     96.0      2.0    512.0  \n",
       "\n",
       "[567126 rows x 25 columns]"
      ]
     },
     "execution_count": 18,
     "metadata": {},
     "output_type": "execute_result"
    }
   ],
   "source": [
    "dfas"
   ]
  },
  {
   "cell_type": "markdown",
   "metadata": {},
   "source": [
    "# Workload Characterization"
   ]
  },
  {
   "cell_type": "markdown",
   "metadata": {},
   "source": [
    "## Overview"
   ]
  },
  {
   "cell_type": "markdown",
   "metadata": {},
   "source": [
    "### Figure 2: Overview of MLaaS workloads"
   ]
  },
  {
   "cell_type": "code",
   "execution_count": 19,
   "metadata": {},
   "outputs": [],
   "source": [
    "#Create a dataframe of users and the number of their jobs\n",
    "user_task_count = dfa.groupby('user').count()[['job_name']]"
   ]
  },
  {
   "cell_type": "code",
   "execution_count": 20,
   "metadata": {},
   "outputs": [
    {
     "data": {
      "text/html": [
       "<div>\n",
       "<style scoped>\n",
       "    .dataframe tbody tr th:only-of-type {\n",
       "        vertical-align: middle;\n",
       "    }\n",
       "\n",
       "    .dataframe tbody tr th {\n",
       "        vertical-align: top;\n",
       "    }\n",
       "\n",
       "    .dataframe thead th {\n",
       "        text-align: right;\n",
       "    }\n",
       "</style>\n",
       "<table border=\"1\" class=\"dataframe\">\n",
       "  <thead>\n",
       "    <tr style=\"text-align: right;\">\n",
       "      <th></th>\n",
       "      <th>job_name</th>\n",
       "    </tr>\n",
       "    <tr>\n",
       "      <th>user</th>\n",
       "      <th></th>\n",
       "    </tr>\n",
       "  </thead>\n",
       "  <tbody>\n",
       "    <tr>\n",
       "      <th>0002205d68bd</th>\n",
       "      <td>36</td>\n",
       "    </tr>\n",
       "    <tr>\n",
       "      <th>007d78e326bc</th>\n",
       "      <td>465</td>\n",
       "    </tr>\n",
       "    <tr>\n",
       "      <th>009c38bf324b</th>\n",
       "      <td>2</td>\n",
       "    </tr>\n",
       "    <tr>\n",
       "      <th>00a00c421e54</th>\n",
       "      <td>180</td>\n",
       "    </tr>\n",
       "    <tr>\n",
       "      <th>00a403e2dbdf</th>\n",
       "      <td>179</td>\n",
       "    </tr>\n",
       "    <tr>\n",
       "      <th>...</th>\n",
       "      <td>...</td>\n",
       "    </tr>\n",
       "    <tr>\n",
       "      <th>fef57ebcfc9a</th>\n",
       "      <td>28</td>\n",
       "    </tr>\n",
       "    <tr>\n",
       "      <th>ff057ba8c65d</th>\n",
       "      <td>36</td>\n",
       "    </tr>\n",
       "    <tr>\n",
       "      <th>ff47c6278acc</th>\n",
       "      <td>177</td>\n",
       "    </tr>\n",
       "    <tr>\n",
       "      <th>ff6c987f68f4</th>\n",
       "      <td>24</td>\n",
       "    </tr>\n",
       "    <tr>\n",
       "      <th>ffa64624d8b5</th>\n",
       "      <td>68</td>\n",
       "    </tr>\n",
       "  </tbody>\n",
       "</table>\n",
       "<p>1434 rows × 1 columns</p>\n",
       "</div>"
      ],
      "text/plain": [
       "              job_name\n",
       "user                  \n",
       "0002205d68bd        36\n",
       "007d78e326bc       465\n",
       "009c38bf324b         2\n",
       "00a00c421e54       180\n",
       "00a403e2dbdf       179\n",
       "...                ...\n",
       "fef57ebcfc9a        28\n",
       "ff057ba8c65d        36\n",
       "ff47c6278acc       177\n",
       "ff6c987f68f4        24\n",
       "ffa64624d8b5        68\n",
       "\n",
       "[1434 rows x 1 columns]"
      ]
     },
     "execution_count": 20,
     "metadata": {},
     "output_type": "execute_result"
    }
   ],
   "source": [
    "user_task_count"
   ]
  },
  {
   "cell_type": "code",
   "execution_count": 21,
   "metadata": {
    "ExecuteTime": {
     "end_time": "2021-06-30T09:32:57.574927Z",
     "start_time": "2021-06-30T09:32:56.067431Z"
    }
   },
   "outputs": [
    {
     "data": {
      "text/plain": [
       "\"\\nplt.figure(figsize=(4,3), dpi=120)\\nplot_data_cdf(user_task_count['job_name'], xlog=True,\\n              ylabel='CDF',xlabel='Num of tasks submitted per User',\\n              xticks=[1,10,100,10**3,10**4,10**5])\\n\""
      ]
     },
     "execution_count": 21,
     "metadata": {},
     "output_type": "execute_result"
    }
   ],
   "source": [
    "'''\n",
    "plt.figure(figsize=(4,3), dpi=120)\n",
    "plot_data_cdf(user_task_count['job_name'], xlog=True,\n",
    "              ylabel='CDF',xlabel='Num of tasks submitted per User',\n",
    "              xticks=[1,10,100,10**3,10**4,10**5])\n",
    "'''"
   ]
  },
  {
   "cell_type": "code",
   "execution_count": 22,
   "metadata": {},
   "outputs": [],
   "source": [
    "def get_cdf(data):\n",
    "    \"\"\"Returns the CDF of the given data.\n",
    "    \n",
    "       Args:\n",
    "           data: A list of numerical values.\n",
    "           \n",
    "       Returns:\n",
    "           An pair of lists (x, y) for plotting the CDF.\n",
    "    \"\"\"\n",
    "    sorted_data = sorted(data)\n",
    "    p = 100. * np.arange(len(sorted_data)) / (len(sorted_data) - 1)\n",
    "    return sorted_data, p"
   ]
  },
  {
   "cell_type": "code",
   "execution_count": 23,
   "metadata": {},
   "outputs": [
    {
     "data": {
      "image/png": "[encoded data removed]",
      "text/plain": [
       "<Figure size 432x288 with 1 Axes>"
      ]
     },
     "metadata": {
      "needs_background": "light"
     },
     "output_type": "display_data"
    }
   ],
   "source": [
    "#Plot graph of tasks submitted against CDF\n",
    "x, y = get_cdf(user_task_count['job_name'])\n",
    "plt.plot(x, y, label='Tasks submitted',  color='green', linestyle='-')\n",
    "plt.grid(alpha=.3, linestyle='--')\n",
    "plt.xscale('log')\n",
    "plt.xlim(10 ** -1, 10 ** 6)\n",
    "plt.ylim(0, 100)\n",
    "plt.legend(loc='lower right')\n",
    "plt.xlabel('Num of tasks submitted per User')\n",
    "plt.ylabel('CDF')\n",
    "plt.show()"
   ]
  },
  {
   "cell_type": "code",
   "execution_count": 24,
   "metadata": {},
   "outputs": [
    {
     "ename": "NameError",
     "evalue": "name 'get_inst_task_num_ratio' is not defined",
     "output_type": "error",
     "traceback": [
      "\u001b[1;31m---------------------------------------------------------------------------\u001b[0m",
      "\u001b[1;31mNameError\u001b[0m                                 Traceback (most recent call last)",
      "\u001b[1;32m<ipython-input-24-9a5aa6091fe0>\u001b[0m in \u001b[0;36m<module>\u001b[1;34m\u001b[0m\n\u001b[0;32m      1\u001b[0m \u001b[0minst_num_list\u001b[0m \u001b[1;33m=\u001b[0m \u001b[0mlist\u001b[0m\u001b[1;33m(\u001b[0m\u001b[0mrange\u001b[0m\u001b[1;33m(\u001b[0m\u001b[1;36m2\u001b[0m\u001b[1;33m,\u001b[0m \u001b[1;36m300\u001b[0m\u001b[1;33m,\u001b[0m \u001b[1;36m2\u001b[0m\u001b[1;33m)\u001b[0m\u001b[1;33m)\u001b[0m\u001b[1;33m+\u001b[0m\u001b[0mlist\u001b[0m\u001b[1;33m(\u001b[0m\u001b[0mrange\u001b[0m\u001b[1;33m(\u001b[0m\u001b[1;36m300\u001b[0m\u001b[1;33m,\u001b[0m \u001b[1;36m620\u001b[0m\u001b[1;33m,\u001b[0m \u001b[1;36m20\u001b[0m\u001b[1;33m)\u001b[0m\u001b[1;33m)\u001b[0m\u001b[1;33m\u001b[0m\u001b[1;33m\u001b[0m\u001b[0m\n\u001b[1;32m----> 2\u001b[1;33m \u001b[0minst_task_num_ratio_df\u001b[0m \u001b[1;33m=\u001b[0m \u001b[0mget_inst_task_num_ratio\u001b[0m\u001b[1;33m(\u001b[0m\u001b[0mdfa\u001b[0m\u001b[1;33m,\u001b[0m \u001b[0minst_num_list\u001b[0m\u001b[1;33m)\u001b[0m \u001b[1;33m*\u001b[0m \u001b[1;36m100\u001b[0m\u001b[1;33m\u001b[0m\u001b[1;33m\u001b[0m\u001b[0m\n\u001b[0m",
      "\u001b[1;31mNameError\u001b[0m: name 'get_inst_task_num_ratio' is not defined"
     ]
    }
   ],
   "source": [
    "inst_num_list = list(range(2, 300, 2))+list(range(300, 620, 20))\n",
    "inst_task_num_ratio_df = get_inst_task_num_ratio(dfa, inst_num_list) * 100"
   ]
  },
  {
   "cell_type": "code",
   "execution_count": 25,
   "metadata": {
    "ExecuteTime": {
     "end_time": "2021-06-30T09:33:00.293906Z",
     "start_time": "2021-06-30T09:32:57.576614Z"
    }
   },
   "outputs": [
    {
     "name": "stderr",
     "output_type": "stream",
     "text": [
      "No handles with labels found to put in legend.\n"
     ]
    },
    {
     "data": {
      "text/plain": [
       "<matplotlib.legend.Legend at 0x1a40e6e80d0>"
      ]
     },
     "execution_count": 25,
     "metadata": {},
     "output_type": "execute_result"
    },
    {
     "data": {
      "image/png": "[encoded data removed]",
      "text/plain": [
       "<Figure size 480x360 with 1 Axes>"
      ]
     },
     "metadata": {
      "needs_background": "light"
     },
     "output_type": "display_data"
    }
   ],
   "source": [
    "\n",
    "\n",
    "plt.figure(figsize=(4,3), dpi=120)\n",
    "#plt.plot(inst_task_num_ratio_df.T.num_inst_ratio, label='Portion of instances\\namong all instances')\n",
    "plt.grid(alpha=0.8, linestyle='--')\n",
    "plt.xlabel('Num of Instances in the Task')\n",
    "plt.ylabel('CCDF')\n",
    "plt.xticks((2,100,200,300,400,500,600))\n",
    "plt.yticks([0,10,20,30,40,50,60,70,80])\n",
    "plt.xlim(2, 600)\n",
    "plt.ylim(0, 85)\n",
    "plt.legend(fontsize=15)"
   ]
  },
  {
   "cell_type": "markdown",
   "metadata": {},
   "source": [
    "## Temporal Pattern"
   ]
  },
  {
   "cell_type": "markdown",
   "metadata": {},
   "source": [
    "### Figure 3: Task submission patterns"
   ]
  },
  {
   "cell_type": "code",
   "execution_count": 26,
   "metadata": {},
   "outputs": [
    {
     "ename": "NameError",
     "evalue": "name 'parse_date' is not defined",
     "output_type": "error",
     "traceback": [
      "\u001b[1;31m---------------------------------------------------------------------------\u001b[0m",
      "\u001b[1;31mNameError\u001b[0m                                 Traceback (most recent call last)",
      "\u001b[1;32m<ipython-input-26-45067ce112aa>\u001b[0m in \u001b[0;36m<module>\u001b[1;34m\u001b[0m\n\u001b[1;32m----> 1\u001b[1;33m \u001b[0mdfa\u001b[0m\u001b[1;33m[\u001b[0m\u001b[1;34m'start_time'\u001b[0m\u001b[1;33m]\u001b[0m \u001b[1;33m=\u001b[0m \u001b[0mparse_date\u001b[0m\u001b[1;33m(\u001b[0m\u001b[0mdfa\u001b[0m\u001b[1;33m[\u001b[0m\u001b[1;34m'start_time'\u001b[0m\u001b[1;33m]\u001b[0m\u001b[1;33m)\u001b[0m\u001b[1;33m\u001b[0m\u001b[1;33m\u001b[0m\u001b[0m\n\u001b[0m",
      "\u001b[1;31mNameError\u001b[0m: name 'parse_date' is not defined"
     ]
    }
   ],
   "source": [
    "dfa['start_time'] = parse_date(dfa['start_time'])"
   ]
  },
  {
   "cell_type": "code",
   "execution_count": 27,
   "metadata": {
    "ExecuteTime": {
     "end_time": "2021-06-30T09:33:02.084350Z",
     "start_time": "2021-06-30T09:33:00.295282Z"
    }
   },
   "outputs": [
    {
     "ename": "AttributeError",
     "evalue": "'DataFrame' object has no attribute 'start_date'",
     "output_type": "error",
     "traceback": [
      "\u001b[1;31m---------------------------------------------------------------------------\u001b[0m",
      "\u001b[1;31mAttributeError\u001b[0m                            Traceback (most recent call last)",
      "\u001b[1;32m<ipython-input-27-beb11c12d24b>\u001b[0m in \u001b[0;36m<module>\u001b[1;34m\u001b[0m\n\u001b[0;32m      1\u001b[0m \u001b[0moffset\u001b[0m \u001b[1;33m=\u001b[0m \u001b[1;33m-\u001b[0m\u001b[1;36m600\u001b[0m\u001b[1;33m\u001b[0m\u001b[1;33m\u001b[0m\u001b[0m\n\u001b[1;32m----> 2\u001b[1;33m \u001b[0mdfa\u001b[0m\u001b[1;33m[\u001b[0m\u001b[1;34m'hourofyear'\u001b[0m\u001b[1;33m]\u001b[0m \u001b[1;33m=\u001b[0m \u001b[0mdfa\u001b[0m\u001b[1;33m.\u001b[0m\u001b[0mstart_date\u001b[0m\u001b[1;33m.\u001b[0m\u001b[0mapply\u001b[0m\u001b[1;33m(\u001b[0m\u001b[1;32mlambda\u001b[0m \u001b[0mc\u001b[0m\u001b[1;33m:\u001b[0m \u001b[0mc\u001b[0m\u001b[1;33m.\u001b[0m\u001b[0mdayofyear\u001b[0m \u001b[1;33m*\u001b[0m \u001b[1;36m24\u001b[0m \u001b[1;33m+\u001b[0m \u001b[0mc\u001b[0m\u001b[1;33m.\u001b[0m\u001b[0mhour\u001b[0m\u001b[1;33m)\u001b[0m\u001b[1;33m\u001b[0m\u001b[1;33m\u001b[0m\u001b[0m\n\u001b[0m\u001b[0;32m      3\u001b[0m \u001b[0mdftcc\u001b[0m \u001b[1;33m=\u001b[0m \u001b[0mdfa\u001b[0m\u001b[1;33m.\u001b[0m\u001b[0mgroupby\u001b[0m\u001b[1;33m(\u001b[0m\u001b[1;34m'hourofyear'\u001b[0m\u001b[1;33m)\u001b[0m\u001b[1;33m.\u001b[0m\u001b[0mcount\u001b[0m\u001b[1;33m(\u001b[0m\u001b[1;33m)\u001b[0m\u001b[1;33m[\u001b[0m\u001b[1;33m[\u001b[0m\u001b[1;34m'job_name'\u001b[0m\u001b[1;33m]\u001b[0m\u001b[1;33m]\u001b[0m\u001b[1;33m.\u001b[0m\u001b[0mreset_index\u001b[0m\u001b[1;33m(\u001b[0m\u001b[1;33m)\u001b[0m\u001b[1;33m\u001b[0m\u001b[1;33m\u001b[0m\u001b[0m\n\u001b[0;32m      4\u001b[0m \u001b[0mdftcc\u001b[0m\u001b[1;33m[\u001b[0m\u001b[1;34m'hour'\u001b[0m\u001b[1;33m]\u001b[0m \u001b[1;33m=\u001b[0m \u001b[0mdftcc\u001b[0m\u001b[1;33m.\u001b[0m\u001b[0mhourofyear\u001b[0m \u001b[1;33m+\u001b[0m \u001b[0moffset\u001b[0m\u001b[1;33m\u001b[0m\u001b[1;33m\u001b[0m\u001b[0m\n\u001b[0;32m      5\u001b[0m \u001b[0mprint\u001b[0m\u001b[1;33m(\u001b[0m\u001b[1;34m'Hour 0 Date: {}'\u001b[0m\u001b[1;33m.\u001b[0m\u001b[0mformat\u001b[0m\u001b[1;33m(\u001b[0m\u001b[0mdfa\u001b[0m\u001b[1;33m[\u001b[0m\u001b[0mdfa\u001b[0m\u001b[1;33m.\u001b[0m\u001b[0mhourofyear\u001b[0m\u001b[1;33m==\u001b[0m\u001b[1;33m-\u001b[0m\u001b[0moffset\u001b[0m\u001b[1;33m]\u001b[0m\u001b[1;33m.\u001b[0m\u001b[0mstart_date\u001b[0m\u001b[1;33m.\u001b[0m\u001b[0mmin\u001b[0m\u001b[1;33m(\u001b[0m\u001b[1;33m)\u001b[0m\u001b[1;33m)\u001b[0m\u001b[1;33m)\u001b[0m\u001b[1;33m\u001b[0m\u001b[1;33m\u001b[0m\u001b[0m\n",
      "\u001b[1;32m~\\anaconda3\\lib\\site-packages\\pandas\\core\\generic.py\u001b[0m in \u001b[0;36m__getattr__\u001b[1;34m(self, name)\u001b[0m\n\u001b[0;32m   5272\u001b[0m             \u001b[1;32mif\u001b[0m \u001b[0mself\u001b[0m\u001b[1;33m.\u001b[0m\u001b[0m_info_axis\u001b[0m\u001b[1;33m.\u001b[0m\u001b[0m_can_hold_identifiers_and_holds_name\u001b[0m\u001b[1;33m(\u001b[0m\u001b[0mname\u001b[0m\u001b[1;33m)\u001b[0m\u001b[1;33m:\u001b[0m\u001b[1;33m\u001b[0m\u001b[1;33m\u001b[0m\u001b[0m\n\u001b[0;32m   5273\u001b[0m                 \u001b[1;32mreturn\u001b[0m \u001b[0mself\u001b[0m\u001b[1;33m[\u001b[0m\u001b[0mname\u001b[0m\u001b[1;33m]\u001b[0m\u001b[1;33m\u001b[0m\u001b[1;33m\u001b[0m\u001b[0m\n\u001b[1;32m-> 5274\u001b[1;33m             \u001b[1;32mreturn\u001b[0m \u001b[0mobject\u001b[0m\u001b[1;33m.\u001b[0m\u001b[0m__getattribute__\u001b[0m\u001b[1;33m(\u001b[0m\u001b[0mself\u001b[0m\u001b[1;33m,\u001b[0m \u001b[0mname\u001b[0m\u001b[1;33m)\u001b[0m\u001b[1;33m\u001b[0m\u001b[1;33m\u001b[0m\u001b[0m\n\u001b[0m\u001b[0;32m   5275\u001b[0m \u001b[1;33m\u001b[0m\u001b[0m\n\u001b[0;32m   5276\u001b[0m     \u001b[1;32mdef\u001b[0m \u001b[0m__setattr__\u001b[0m\u001b[1;33m(\u001b[0m\u001b[0mself\u001b[0m\u001b[1;33m,\u001b[0m \u001b[0mname\u001b[0m\u001b[1;33m:\u001b[0m \u001b[0mstr\u001b[0m\u001b[1;33m,\u001b[0m \u001b[0mvalue\u001b[0m\u001b[1;33m)\u001b[0m \u001b[1;33m->\u001b[0m \u001b[1;32mNone\u001b[0m\u001b[1;33m:\u001b[0m\u001b[1;33m\u001b[0m\u001b[1;33m\u001b[0m\u001b[0m\n",
      "\u001b[1;31mAttributeError\u001b[0m: 'DataFrame' object has no attribute 'start_date'"
     ]
    }
   ],
   "source": [
    "offset = -600\n",
    "dfa['hourofyear'] = dfa.start_date.apply(lambda c: c.dayofyear * 24 + c.hour)\n",
    "dftcc = dfa.groupby('hourofyear').count()[['job_name']].reset_index()\n",
    "dftcc['hour'] = dftcc.hourofyear + offset\n",
    "print('Hour 0 Date: {}'.format(dfa[dfa.hourofyear==-offset].start_date.min()))\n",
    "\n",
    "plt.figure(figsize=(12,3), dpi=120)\n",
    "num_days = 7\n",
    "plt.plot(dftcc[(dftcc.hour>=0)&(dftcc.hour<24*num_days+1)].set_index('hour')[['job_name']], color='tomato')\n",
    "plt.xlabel('Hours from the beginning of a week (Sun. to Sat.)')\n",
    "plt.ylabel('Num. of Tasks')\n",
    "plt.grid(alpha=0.8, linestyle='-.')\n",
    "plt.xlim(0, 24*num_days)\n",
    "plt.ylim(0, )\n",
    "plt.yticks([250,500,750,1000,1250])\n",
    "_ = plt.xticks([24 * x for x in range(num_days+1)])\n",
    "# plt.savefig('/tmp/figures/{}.pdf'.format('diurnal-pattern-task'),bbox_inches='tight')"
   ]
  },
  {
   "cell_type": "code",
   "execution_count": 28,
   "metadata": {
    "ExecuteTime": {
     "end_time": "2021-06-30T09:33:25.525357Z",
     "start_time": "2021-06-30T09:33:02.085823Z"
    }
   },
   "outputs": [
    {
     "ename": "NameError",
     "evalue": "name 'get_hourly_task_request' is not defined",
     "output_type": "error",
     "traceback": [
      "\u001b[1;31m---------------------------------------------------------------------------\u001b[0m",
      "\u001b[1;31mNameError\u001b[0m                                 Traceback (most recent call last)",
      "\u001b[1;32m<ipython-input-28-f65e619c8c88>\u001b[0m in \u001b[0;36m<module>\u001b[1;34m\u001b[0m\n\u001b[1;32m----> 1\u001b[1;33m \u001b[0mhourly_task\u001b[0m \u001b[1;33m=\u001b[0m \u001b[0mget_hourly_task_request\u001b[0m\u001b[1;33m(\u001b[0m\u001b[0mdfa\u001b[0m\u001b[1;33m)\u001b[0m\u001b[1;33m\u001b[0m\u001b[1;33m\u001b[0m\u001b[0m\n\u001b[0m\u001b[0;32m      2\u001b[0m hourly_task_data_df = pd.melt(hourly_task, \n\u001b[0;32m      3\u001b[0m     value_vars=[ 0,  1,  2,  3,  4,  5,  6,  7,  8,  9, 10, 11, 12, 13, 14, 15, 16, 17, 18, 19, 20, 21, 22, 23])\n\u001b[0;32m      4\u001b[0m \u001b[0mhourly_task_data_df\u001b[0m\u001b[1;33m[\u001b[0m\u001b[1;34m'hour'\u001b[0m\u001b[1;33m]\u001b[0m \u001b[1;33m=\u001b[0m \u001b[0mhourly_task_data_df\u001b[0m\u001b[1;33m[\u001b[0m\u001b[1;34m'hour'\u001b[0m\u001b[1;33m]\u001b[0m\u001b[1;33m.\u001b[0m\u001b[0mastype\u001b[0m\u001b[1;33m(\u001b[0m\u001b[1;34m'int'\u001b[0m\u001b[1;33m)\u001b[0m\u001b[1;33m\u001b[0m\u001b[1;33m\u001b[0m\u001b[0m\n\u001b[0;32m      5\u001b[0m \u001b[1;33m\u001b[0m\u001b[0m\n",
      "\u001b[1;31mNameError\u001b[0m: name 'get_hourly_task_request' is not defined"
     ]
    }
   ],
   "source": [
    "hourly_task = get_hourly_task_request(dfa)\n",
    "hourly_task_data_df = pd.melt(hourly_task, \n",
    "    value_vars=[ 0,  1,  2,  3,  4,  5,  6,  7,  8,  9, 10, 11, 12, 13, 14, 15, 16, 17, 18, 19, 20, 21, 22, 23])\n",
    "hourly_task_data_df['hour'] = hourly_task_data_df['hour'].astype('int')\n",
    "\n",
    "matplotlib.rcParams.update({\"font.size\": 24})\n",
    "plt.figure(figsize=(16,4), dpi=120)\n",
    "highlight_color = 'tomato'\n",
    "mean_value = hourly_task_data_df.value.mean()\n",
    "color_df = pd.DataFrame(hourly_task_data_df.groupby('hour').mean())\n",
    "color_df['color'] = color_df.value.apply(lambda x: '1' if x < mean_value else highlight_color)\n",
    "color_df['mean_value'] = mean_value\n",
    "color_palette = sns.blend_palette(color_df.color.tolist(), n_colors=24)\n",
    "\n",
    "g = sns.boxplot(data=hourly_task_data_df, x='hour', y='value', whis=1, fliersize=0, palette=color_palette)\n",
    "g.set(ylim=(0, 2100))\n",
    "g.set(xlabel='Hour of the day (12am - 11pm)')\n",
    "g.set(ylabel='#Task submitted')\n",
    "plt.yticks([0,500,1000,1500,2000])\n",
    "plt.grid(alpha=0.8, linestyle='-.')\n",
    "matplotlib.rcParams.update({\"font.size\": 16})\n",
    "# plt.savefig('/tmp/figures/{}.pdf'.format('overview-task_submission_hourly'),bbox_inches='tight')"
   ]
  },
  {
   "cell_type": "code",
   "execution_count": 29,
   "metadata": {
    "ExecuteTime": {
     "end_time": "2021-06-30T09:33:30.603645Z",
     "start_time": "2021-06-30T09:33:25.526769Z"
    }
   },
   "outputs": [
    {
     "ename": "AttributeError",
     "evalue": "'DataFrame' object has no attribute 'start_date'",
     "output_type": "error",
     "traceback": [
      "\u001b[1;31m---------------------------------------------------------------------------\u001b[0m",
      "\u001b[1;31mAttributeError\u001b[0m                            Traceback (most recent call last)",
      "\u001b[1;32m<ipython-input-29-d61b85d2ccac>\u001b[0m in \u001b[0;36m<module>\u001b[1;34m\u001b[0m\n\u001b[1;32m----> 1\u001b[1;33m \u001b[0mdfw\u001b[0m\u001b[1;33m[\u001b[0m\u001b[1;34m'hourofyear'\u001b[0m\u001b[1;33m]\u001b[0m \u001b[1;33m=\u001b[0m \u001b[0mdfw\u001b[0m\u001b[1;33m.\u001b[0m\u001b[0mstart_date\u001b[0m\u001b[1;33m.\u001b[0m\u001b[0mapply\u001b[0m\u001b[1;33m(\u001b[0m\u001b[1;32mlambda\u001b[0m \u001b[0mc\u001b[0m\u001b[1;33m:\u001b[0m \u001b[0mc\u001b[0m\u001b[1;33m.\u001b[0m\u001b[0mdayofyear\u001b[0m \u001b[1;33m*\u001b[0m \u001b[1;36m24\u001b[0m \u001b[1;33m+\u001b[0m \u001b[0mc\u001b[0m\u001b[1;33m.\u001b[0m\u001b[0mhour\u001b[0m\u001b[1;33m)\u001b[0m\u001b[1;33m\u001b[0m\u001b[1;33m\u001b[0m\u001b[0m\n\u001b[0m\u001b[0;32m      2\u001b[0m \u001b[0mdfitcr\u001b[0m \u001b[1;33m=\u001b[0m \u001b[0mdfw\u001b[0m\u001b[1;33m.\u001b[0m\u001b[0mgroupby\u001b[0m\u001b[1;33m(\u001b[0m\u001b[1;34m'hourofyear'\u001b[0m\u001b[1;33m)\u001b[0m\u001b[1;33m.\u001b[0m\u001b[0msum\u001b[0m\u001b[1;33m(\u001b[0m\u001b[1;33m)\u001b[0m\u001b[1;33m[\u001b[0m\u001b[1;33m[\u001b[0m\u001b[1;34m'plan_cpu'\u001b[0m\u001b[1;33m,\u001b[0m\u001b[1;34m'plan_gpu'\u001b[0m\u001b[1;33m,\u001b[0m\u001b[1;34m'plan_mem'\u001b[0m\u001b[1;33m]\u001b[0m\u001b[1;33m]\u001b[0m\u001b[1;33m.\u001b[0m\u001b[0mreset_index\u001b[0m\u001b[1;33m(\u001b[0m\u001b[1;33m)\u001b[0m\u001b[1;33m\u001b[0m\u001b[1;33m\u001b[0m\u001b[0m\n\u001b[0;32m      3\u001b[0m \u001b[0mdfitcr\u001b[0m\u001b[1;33m[\u001b[0m\u001b[1;34m'hour'\u001b[0m\u001b[1;33m]\u001b[0m \u001b[1;33m=\u001b[0m \u001b[0mdfitcr\u001b[0m\u001b[1;33m.\u001b[0m\u001b[0mhourofyear\u001b[0m \u001b[1;33m+\u001b[0m \u001b[0moffset\u001b[0m\u001b[1;33m\u001b[0m\u001b[1;33m\u001b[0m\u001b[0m\n\u001b[0;32m      4\u001b[0m \u001b[0mprint\u001b[0m\u001b[1;33m(\u001b[0m\u001b[1;34m'Hour 0 Date: {}'\u001b[0m\u001b[1;33m.\u001b[0m\u001b[0mformat\u001b[0m\u001b[1;33m(\u001b[0m\u001b[0mdfa\u001b[0m\u001b[1;33m[\u001b[0m\u001b[0mdfa\u001b[0m\u001b[1;33m.\u001b[0m\u001b[0mhourofyear\u001b[0m\u001b[1;33m==\u001b[0m\u001b[1;33m-\u001b[0m\u001b[0moffset\u001b[0m\u001b[1;33m]\u001b[0m\u001b[1;33m.\u001b[0m\u001b[0mstart_date\u001b[0m\u001b[1;33m.\u001b[0m\u001b[0mmin\u001b[0m\u001b[1;33m(\u001b[0m\u001b[1;33m)\u001b[0m\u001b[1;33m)\u001b[0m\u001b[1;33m)\u001b[0m\u001b[1;33m\u001b[0m\u001b[1;33m\u001b[0m\u001b[0m\n\u001b[0;32m      5\u001b[0m \u001b[1;33m\u001b[0m\u001b[0m\n",
      "\u001b[1;32m~\\anaconda3\\lib\\site-packages\\pandas\\core\\generic.py\u001b[0m in \u001b[0;36m__getattr__\u001b[1;34m(self, name)\u001b[0m\n\u001b[0;32m   5272\u001b[0m             \u001b[1;32mif\u001b[0m \u001b[0mself\u001b[0m\u001b[1;33m.\u001b[0m\u001b[0m_info_axis\u001b[0m\u001b[1;33m.\u001b[0m\u001b[0m_can_hold_identifiers_and_holds_name\u001b[0m\u001b[1;33m(\u001b[0m\u001b[0mname\u001b[0m\u001b[1;33m)\u001b[0m\u001b[1;33m:\u001b[0m\u001b[1;33m\u001b[0m\u001b[1;33m\u001b[0m\u001b[0m\n\u001b[0;32m   5273\u001b[0m                 \u001b[1;32mreturn\u001b[0m \u001b[0mself\u001b[0m\u001b[1;33m[\u001b[0m\u001b[0mname\u001b[0m\u001b[1;33m]\u001b[0m\u001b[1;33m\u001b[0m\u001b[1;33m\u001b[0m\u001b[0m\n\u001b[1;32m-> 5274\u001b[1;33m             \u001b[1;32mreturn\u001b[0m \u001b[0mobject\u001b[0m\u001b[1;33m.\u001b[0m\u001b[0m__getattribute__\u001b[0m\u001b[1;33m(\u001b[0m\u001b[0mself\u001b[0m\u001b[1;33m,\u001b[0m \u001b[0mname\u001b[0m\u001b[1;33m)\u001b[0m\u001b[1;33m\u001b[0m\u001b[1;33m\u001b[0m\u001b[0m\n\u001b[0m\u001b[0;32m   5275\u001b[0m \u001b[1;33m\u001b[0m\u001b[0m\n\u001b[0;32m   5276\u001b[0m     \u001b[1;32mdef\u001b[0m \u001b[0m__setattr__\u001b[0m\u001b[1;33m(\u001b[0m\u001b[0mself\u001b[0m\u001b[1;33m,\u001b[0m \u001b[0mname\u001b[0m\u001b[1;33m:\u001b[0m \u001b[0mstr\u001b[0m\u001b[1;33m,\u001b[0m \u001b[0mvalue\u001b[0m\u001b[1;33m)\u001b[0m \u001b[1;33m->\u001b[0m \u001b[1;32mNone\u001b[0m\u001b[1;33m:\u001b[0m\u001b[1;33m\u001b[0m\u001b[1;33m\u001b[0m\u001b[0m\n",
      "\u001b[1;31mAttributeError\u001b[0m: 'DataFrame' object has no attribute 'start_date'"
     ]
    }
   ],
   "source": [
    "dfw['hourofyear'] = dfw.start_date.apply(lambda c: c.dayofyear * 24 + c.hour)\n",
    "dfitcr = dfw.groupby('hourofyear').sum()[['plan_cpu','plan_gpu','plan_mem']].reset_index()\n",
    "dfitcr['hour'] = dfitcr.hourofyear + offset\n",
    "print('Hour 0 Date: {}'.format(dfa[dfa.hourofyear==-offset].start_date.min()))\n",
    "\n",
    "plt.figure(figsize=(12,3), dpi=120)\n",
    "num_days = 7\n",
    "plt.plot(dfitcr[(dfitcr.hour>=0)&(dfitcr.hour<24*num_days)].set_index('hour')['plan_cpu']/1000, label='10 CPU cores', linestyle='solid')\n",
    "plt.plot(dfitcr[(dfitcr.hour>=0)&(dfitcr.hour<24*num_days)].set_index('hour')['plan_gpu']/100, label='1 GPU', linestyle='dotted')\n",
    "plt.plot(dfitcr[(dfitcr.hour>=0)&(dfitcr.hour<24*num_days)].set_index('hour')['plan_mem']/100, label='100 GB Memory', linestyle='dashed')\n",
    "plt.xlabel('Hours from the beginning of a week (Sun. to Sat.)')\n",
    "plt.ylabel('Total resource requests')\n",
    "plt.grid(alpha=0.8, linestyle='-.')\n",
    "plt.legend(ncol=1, loc='best')\n",
    "plt.xlim(0, 24*num_days)\n",
    "_ = plt.xticks([24 * x for x in range(num_days+1)])"
   ]
  },
  {
   "cell_type": "code",
   "execution_count": 30,
   "metadata": {
    "ExecuteTime": {
     "end_time": "2021-06-30T09:35:18.867251Z",
     "start_time": "2021-06-30T09:33:30.605060Z"
    }
   },
   "outputs": [
    {
     "ename": "NameError",
     "evalue": "name 'get_hourly_task_resource_request' is not defined",
     "output_type": "error",
     "traceback": [
      "\u001b[1;31m---------------------------------------------------------------------------\u001b[0m",
      "\u001b[1;31mNameError\u001b[0m                                 Traceback (most recent call last)",
      "\u001b[1;32m<ipython-input-30-a7ed8ad289ad>\u001b[0m in \u001b[0;36m<module>\u001b[1;34m\u001b[0m\n\u001b[1;32m----> 1\u001b[1;33m \u001b[0mplan_cpu_df\u001b[0m \u001b[1;33m=\u001b[0m \u001b[0mget_hourly_task_resource_request\u001b[0m\u001b[1;33m(\u001b[0m\u001b[0mdfw\u001b[0m\u001b[1;33m.\u001b[0m\u001b[0mdropna\u001b[0m\u001b[1;33m(\u001b[0m\u001b[0msubset\u001b[0m\u001b[1;33m=\u001b[0m\u001b[1;33m[\u001b[0m\u001b[1;34m'job_name'\u001b[0m\u001b[1;33m]\u001b[0m\u001b[1;33m)\u001b[0m\u001b[1;33m,\u001b[0m \u001b[0mmetrics\u001b[0m\u001b[1;33m=\u001b[0m\u001b[1;34m'cpu'\u001b[0m\u001b[1;33m)\u001b[0m\u001b[1;33m\u001b[0m\u001b[1;33m\u001b[0m\u001b[0m\n\u001b[0m\u001b[0;32m      2\u001b[0m plan_cpu_data_df = pd.melt(plan_cpu_df, \n\u001b[0;32m      3\u001b[0m     value_vars=[ 0,  1,  2,  3,  4,  5,  6,  7,  8,  9, 10, 11, 12, 13, 14, 15, 16, 17, 18, 19, 20, 21, 22, 23])\n\u001b[0;32m      4\u001b[0m \u001b[0mplan_cpu_data_df\u001b[0m\u001b[1;33m[\u001b[0m\u001b[1;34m'hour'\u001b[0m\u001b[1;33m]\u001b[0m \u001b[1;33m=\u001b[0m \u001b[0mplan_cpu_data_df\u001b[0m\u001b[1;33m[\u001b[0m\u001b[1;34m'hour'\u001b[0m\u001b[1;33m]\u001b[0m\u001b[1;33m.\u001b[0m\u001b[0mastype\u001b[0m\u001b[1;33m(\u001b[0m\u001b[1;34m'int'\u001b[0m\u001b[1;33m)\u001b[0m\u001b[1;33m\u001b[0m\u001b[1;33m\u001b[0m\u001b[0m\n\u001b[0;32m      5\u001b[0m \u001b[1;33m\u001b[0m\u001b[0m\n",
      "\u001b[1;31mNameError\u001b[0m: name 'get_hourly_task_resource_request' is not defined"
     ]
    }
   ],
   "source": [
    "plan_cpu_df = get_hourly_task_resource_request(dfw.dropna(subset=['job_name']), metrics='cpu')\n",
    "plan_cpu_data_df = pd.melt(plan_cpu_df, \n",
    "    value_vars=[ 0,  1,  2,  3,  4,  5,  6,  7,  8,  9, 10, 11, 12, 13, 14, 15, 16, 17, 18, 19, 20, 21, 22, 23])\n",
    "plan_cpu_data_df['hour'] = plan_cpu_data_df['hour'].astype('int')\n",
    "\n",
    "matplotlib.rcParams.update({\"font.size\": 24})\n",
    "plt.figure(figsize=(16,4), dpi=120)\n",
    "highlight_color = 'royalblue'\n",
    "mean_value = plan_cpu_data_df.value.mean()\n",
    "color_df = pd.DataFrame(plan_cpu_data_df.groupby('hour').mean())\n",
    "color_df['color'] = color_df.value.apply(lambda x: '1' if x < mean_value else highlight_color)\n",
    "color_palette = sns.blend_palette(color_df.color.tolist(), n_colors=24)\n",
    "\n",
    "g = sns.boxplot(data=plan_cpu_data_df, x='hour', y='value', whis=1, fliersize=0, palette=color_palette)\n",
    "g.set(ylim=(0, 52000))\n",
    "g.set(xlabel='Hour of the day (12am - 11pm)')\n",
    "g.set(ylabel='#CPUs requested')\n",
    "plt.grid(alpha=0.8, linestyle='-.')\n",
    "matplotlib.rcParams.update({\"font.size\": 16})\n",
    "# plt.savefig('/tmp/figures/{}.pdf'.format('overview-cpu_request_hourly'),bbox_inches='tight')"
   ]
  },
  {
   "cell_type": "markdown",
   "metadata": {},
   "source": [
    "### Figure 4: Task runtime and wait time"
   ]
  },
  {
   "cell_type": "code",
   "execution_count": 31,
   "metadata": {
    "ExecuteTime": {
     "end_time": "2021-06-30T09:35:18.880413Z",
     "start_time": "2021-06-30T09:35:18.868667Z"
    }
   },
   "outputs": [
    {
     "ename": "FileNotFoundError",
     "evalue": "[Errno 2] File philly_runtime.csv does not exist: 'philly_runtime.csv'",
     "output_type": "error",
     "traceback": [
      "\u001b[1;31m---------------------------------------------------------------------------\u001b[0m",
      "\u001b[1;31mFileNotFoundError\u001b[0m                         Traceback (most recent call last)",
      "\u001b[1;32m<ipython-input-31-1af05f1c3e36>\u001b[0m in \u001b[0;36m<module>\u001b[1;34m\u001b[0m\n\u001b[1;32m----> 1\u001b[1;33m \u001b[0mdfphilly\u001b[0m \u001b[1;33m=\u001b[0m \u001b[0mpd\u001b[0m\u001b[1;33m.\u001b[0m\u001b[0mread_csv\u001b[0m\u001b[1;33m(\u001b[0m\u001b[1;34m'philly_runtime.csv'\u001b[0m\u001b[1;33m)\u001b[0m\u001b[1;33m\u001b[0m\u001b[1;33m\u001b[0m\u001b[0m\n\u001b[0m\u001b[0;32m      2\u001b[0m \u001b[1;31m# Source: https://github.com/msr-fiddle/philly-traces\u001b[0m\u001b[1;33m\u001b[0m\u001b[1;33m\u001b[0m\u001b[1;33m\u001b[0m\u001b[0m\n\u001b[0;32m      3\u001b[0m \u001b[1;31m# Myeongjae Jeon, et al. \"Analysis of large-scale multi-tenant GPU clusters for DNN training workloads.\" USENIX ATC'19\u001b[0m\u001b[1;33m\u001b[0m\u001b[1;33m\u001b[0m\u001b[1;33m\u001b[0m\u001b[0m\n",
      "\u001b[1;32m~\\anaconda3\\lib\\site-packages\\pandas\\io\\parsers.py\u001b[0m in \u001b[0;36mparser_f\u001b[1;34m(filepath_or_buffer, sep, delimiter, header, names, index_col, usecols, squeeze, prefix, mangle_dupe_cols, dtype, engine, converters, true_values, false_values, skipinitialspace, skiprows, skipfooter, nrows, na_values, keep_default_na, na_filter, verbose, skip_blank_lines, parse_dates, infer_datetime_format, keep_date_col, date_parser, dayfirst, cache_dates, iterator, chunksize, compression, thousands, decimal, lineterminator, quotechar, quoting, doublequote, escapechar, comment, encoding, dialect, error_bad_lines, warn_bad_lines, delim_whitespace, low_memory, memory_map, float_precision)\u001b[0m\n\u001b[0;32m    674\u001b[0m         )\n\u001b[0;32m    675\u001b[0m \u001b[1;33m\u001b[0m\u001b[0m\n\u001b[1;32m--> 676\u001b[1;33m         \u001b[1;32mreturn\u001b[0m \u001b[0m_read\u001b[0m\u001b[1;33m(\u001b[0m\u001b[0mfilepath_or_buffer\u001b[0m\u001b[1;33m,\u001b[0m \u001b[0mkwds\u001b[0m\u001b[1;33m)\u001b[0m\u001b[1;33m\u001b[0m\u001b[1;33m\u001b[0m\u001b[0m\n\u001b[0m\u001b[0;32m    677\u001b[0m \u001b[1;33m\u001b[0m\u001b[0m\n\u001b[0;32m    678\u001b[0m     \u001b[0mparser_f\u001b[0m\u001b[1;33m.\u001b[0m\u001b[0m__name__\u001b[0m \u001b[1;33m=\u001b[0m \u001b[0mname\u001b[0m\u001b[1;33m\u001b[0m\u001b[1;33m\u001b[0m\u001b[0m\n",
      "\u001b[1;32m~\\anaconda3\\lib\\site-packages\\pandas\\io\\parsers.py\u001b[0m in \u001b[0;36m_read\u001b[1;34m(filepath_or_buffer, kwds)\u001b[0m\n\u001b[0;32m    446\u001b[0m \u001b[1;33m\u001b[0m\u001b[0m\n\u001b[0;32m    447\u001b[0m     \u001b[1;31m# Create the parser.\u001b[0m\u001b[1;33m\u001b[0m\u001b[1;33m\u001b[0m\u001b[1;33m\u001b[0m\u001b[0m\n\u001b[1;32m--> 448\u001b[1;33m     \u001b[0mparser\u001b[0m \u001b[1;33m=\u001b[0m \u001b[0mTextFileReader\u001b[0m\u001b[1;33m(\u001b[0m\u001b[0mfp_or_buf\u001b[0m\u001b[1;33m,\u001b[0m \u001b[1;33m**\u001b[0m\u001b[0mkwds\u001b[0m\u001b[1;33m)\u001b[0m\u001b[1;33m\u001b[0m\u001b[1;33m\u001b[0m\u001b[0m\n\u001b[0m\u001b[0;32m    449\u001b[0m \u001b[1;33m\u001b[0m\u001b[0m\n\u001b[0;32m    450\u001b[0m     \u001b[1;32mif\u001b[0m \u001b[0mchunksize\u001b[0m \u001b[1;32mor\u001b[0m \u001b[0miterator\u001b[0m\u001b[1;33m:\u001b[0m\u001b[1;33m\u001b[0m\u001b[1;33m\u001b[0m\u001b[0m\n",
      "\u001b[1;32m~\\anaconda3\\lib\\site-packages\\pandas\\io\\parsers.py\u001b[0m in \u001b[0;36m__init__\u001b[1;34m(self, f, engine, **kwds)\u001b[0m\n\u001b[0;32m    878\u001b[0m             \u001b[0mself\u001b[0m\u001b[1;33m.\u001b[0m\u001b[0moptions\u001b[0m\u001b[1;33m[\u001b[0m\u001b[1;34m\"has_index_names\"\u001b[0m\u001b[1;33m]\u001b[0m \u001b[1;33m=\u001b[0m \u001b[0mkwds\u001b[0m\u001b[1;33m[\u001b[0m\u001b[1;34m\"has_index_names\"\u001b[0m\u001b[1;33m]\u001b[0m\u001b[1;33m\u001b[0m\u001b[1;33m\u001b[0m\u001b[0m\n\u001b[0;32m    879\u001b[0m \u001b[1;33m\u001b[0m\u001b[0m\n\u001b[1;32m--> 880\u001b[1;33m         \u001b[0mself\u001b[0m\u001b[1;33m.\u001b[0m\u001b[0m_make_engine\u001b[0m\u001b[1;33m(\u001b[0m\u001b[0mself\u001b[0m\u001b[1;33m.\u001b[0m\u001b[0mengine\u001b[0m\u001b[1;33m)\u001b[0m\u001b[1;33m\u001b[0m\u001b[1;33m\u001b[0m\u001b[0m\n\u001b[0m\u001b[0;32m    881\u001b[0m \u001b[1;33m\u001b[0m\u001b[0m\n\u001b[0;32m    882\u001b[0m     \u001b[1;32mdef\u001b[0m \u001b[0mclose\u001b[0m\u001b[1;33m(\u001b[0m\u001b[0mself\u001b[0m\u001b[1;33m)\u001b[0m\u001b[1;33m:\u001b[0m\u001b[1;33m\u001b[0m\u001b[1;33m\u001b[0m\u001b[0m\n",
      "\u001b[1;32m~\\anaconda3\\lib\\site-packages\\pandas\\io\\parsers.py\u001b[0m in \u001b[0;36m_make_engine\u001b[1;34m(self, engine)\u001b[0m\n\u001b[0;32m   1112\u001b[0m     \u001b[1;32mdef\u001b[0m \u001b[0m_make_engine\u001b[0m\u001b[1;33m(\u001b[0m\u001b[0mself\u001b[0m\u001b[1;33m,\u001b[0m \u001b[0mengine\u001b[0m\u001b[1;33m=\u001b[0m\u001b[1;34m\"c\"\u001b[0m\u001b[1;33m)\u001b[0m\u001b[1;33m:\u001b[0m\u001b[1;33m\u001b[0m\u001b[1;33m\u001b[0m\u001b[0m\n\u001b[0;32m   1113\u001b[0m         \u001b[1;32mif\u001b[0m \u001b[0mengine\u001b[0m \u001b[1;33m==\u001b[0m \u001b[1;34m\"c\"\u001b[0m\u001b[1;33m:\u001b[0m\u001b[1;33m\u001b[0m\u001b[1;33m\u001b[0m\u001b[0m\n\u001b[1;32m-> 1114\u001b[1;33m             \u001b[0mself\u001b[0m\u001b[1;33m.\u001b[0m\u001b[0m_engine\u001b[0m \u001b[1;33m=\u001b[0m \u001b[0mCParserWrapper\u001b[0m\u001b[1;33m(\u001b[0m\u001b[0mself\u001b[0m\u001b[1;33m.\u001b[0m\u001b[0mf\u001b[0m\u001b[1;33m,\u001b[0m \u001b[1;33m**\u001b[0m\u001b[0mself\u001b[0m\u001b[1;33m.\u001b[0m\u001b[0moptions\u001b[0m\u001b[1;33m)\u001b[0m\u001b[1;33m\u001b[0m\u001b[1;33m\u001b[0m\u001b[0m\n\u001b[0m\u001b[0;32m   1115\u001b[0m         \u001b[1;32melse\u001b[0m\u001b[1;33m:\u001b[0m\u001b[1;33m\u001b[0m\u001b[1;33m\u001b[0m\u001b[0m\n\u001b[0;32m   1116\u001b[0m             \u001b[1;32mif\u001b[0m \u001b[0mengine\u001b[0m \u001b[1;33m==\u001b[0m \u001b[1;34m\"python\"\u001b[0m\u001b[1;33m:\u001b[0m\u001b[1;33m\u001b[0m\u001b[1;33m\u001b[0m\u001b[0m\n",
      "\u001b[1;32m~\\anaconda3\\lib\\site-packages\\pandas\\io\\parsers.py\u001b[0m in \u001b[0;36m__init__\u001b[1;34m(self, src, **kwds)\u001b[0m\n\u001b[0;32m   1889\u001b[0m         \u001b[0mkwds\u001b[0m\u001b[1;33m[\u001b[0m\u001b[1;34m\"usecols\"\u001b[0m\u001b[1;33m]\u001b[0m \u001b[1;33m=\u001b[0m \u001b[0mself\u001b[0m\u001b[1;33m.\u001b[0m\u001b[0musecols\u001b[0m\u001b[1;33m\u001b[0m\u001b[1;33m\u001b[0m\u001b[0m\n\u001b[0;32m   1890\u001b[0m \u001b[1;33m\u001b[0m\u001b[0m\n\u001b[1;32m-> 1891\u001b[1;33m         \u001b[0mself\u001b[0m\u001b[1;33m.\u001b[0m\u001b[0m_reader\u001b[0m \u001b[1;33m=\u001b[0m \u001b[0mparsers\u001b[0m\u001b[1;33m.\u001b[0m\u001b[0mTextReader\u001b[0m\u001b[1;33m(\u001b[0m\u001b[0msrc\u001b[0m\u001b[1;33m,\u001b[0m \u001b[1;33m**\u001b[0m\u001b[0mkwds\u001b[0m\u001b[1;33m)\u001b[0m\u001b[1;33m\u001b[0m\u001b[1;33m\u001b[0m\u001b[0m\n\u001b[0m\u001b[0;32m   1892\u001b[0m         \u001b[0mself\u001b[0m\u001b[1;33m.\u001b[0m\u001b[0munnamed_cols\u001b[0m \u001b[1;33m=\u001b[0m \u001b[0mself\u001b[0m\u001b[1;33m.\u001b[0m\u001b[0m_reader\u001b[0m\u001b[1;33m.\u001b[0m\u001b[0munnamed_cols\u001b[0m\u001b[1;33m\u001b[0m\u001b[1;33m\u001b[0m\u001b[0m\n\u001b[0;32m   1893\u001b[0m \u001b[1;33m\u001b[0m\u001b[0m\n",
      "\u001b[1;32mpandas\\_libs\\parsers.pyx\u001b[0m in \u001b[0;36mpandas._libs.parsers.TextReader.__cinit__\u001b[1;34m()\u001b[0m\n",
      "\u001b[1;32mpandas\\_libs\\parsers.pyx\u001b[0m in \u001b[0;36mpandas._libs.parsers.TextReader._setup_parser_source\u001b[1;34m()\u001b[0m\n",
      "\u001b[1;31mFileNotFoundError\u001b[0m: [Errno 2] File philly_runtime.csv does not exist: 'philly_runtime.csv'"
     ]
    }
   ],
   "source": [
    "dfphilly = pd.read_csv('philly_runtime.csv')\n",
    "# Source: https://github.com/msr-fiddle/philly-traces\n",
    "# Myeongjae Jeon, et al. \"Analysis of large-scale multi-tenant GPU clusters for DNN training workloads.\" USENIX ATC'19"
   ]
  },
  {
   "cell_type": "code",
   "execution_count": 32,
   "metadata": {
    "ExecuteTime": {
     "end_time": "2021-06-30T09:35:20.209212Z",
     "start_time": "2021-06-30T09:35:18.881697Z"
    }
   },
   "outputs": [
    {
     "ename": "NameError",
     "evalue": "name 'plot_data_cdfs' is not defined",
     "output_type": "error",
     "traceback": [
      "\u001b[1;31m---------------------------------------------------------------------------\u001b[0m",
      "\u001b[1;31mNameError\u001b[0m                                 Traceback (most recent call last)",
      "\u001b[1;32m<ipython-input-32-6870de5dd9bb>\u001b[0m in \u001b[0;36m<module>\u001b[1;34m\u001b[0m\n\u001b[1;32m----> 1\u001b[1;33m plot_data_cdfs([dfa.runtime_i.dropna(),dfphilly.runtime.dropna()], ['PAI','Philly'],\n\u001b[0m\u001b[0;32m      2\u001b[0m                \u001b[0mxticks\u001b[0m\u001b[1;33m=\u001b[0m\u001b[1;33m[\u001b[0m\u001b[1;36m10\u001b[0m\u001b[1;33m,\u001b[0m\u001b[1;36m100\u001b[0m\u001b[1;33m,\u001b[0m\u001b[1;36m1000\u001b[0m\u001b[1;33m,\u001b[0m\u001b[1;36m10000\u001b[0m\u001b[1;33m,\u001b[0m\u001b[1;36m10\u001b[0m\u001b[1;33m**\u001b[0m\u001b[1;36m5\u001b[0m\u001b[1;33m,\u001b[0m\u001b[1;36m10\u001b[0m\u001b[1;33m**\u001b[0m\u001b[1;36m6\u001b[0m\u001b[1;33m]\u001b[0m\u001b[1;33m,\u001b[0m \u001b[0mxlim\u001b[0m\u001b[1;33m=\u001b[0m\u001b[1;33m[\u001b[0m\u001b[1;36m10\u001b[0m\u001b[1;33m,\u001b[0m\u001b[1;36m10\u001b[0m\u001b[1;33m**\u001b[0m\u001b[1;36m6\u001b[0m\u001b[1;33m]\u001b[0m\u001b[1;33m,\u001b[0m\u001b[1;33m\u001b[0m\u001b[1;33m\u001b[0m\u001b[0m\n\u001b[0;32m      3\u001b[0m                xlog=True, xlabel='Task runtime (sec)', loc='lower right')\n",
      "\u001b[1;31mNameError\u001b[0m: name 'plot_data_cdfs' is not defined"
     ]
    }
   ],
   "source": [
    "plot_data_cdfs([dfa.runtime_i.dropna(),dfphilly.runtime.dropna()], ['PAI','Philly'],\n",
    "               xticks=[10,100,1000,10000,10**5,10**6], xlim=[10,10**6],\n",
    "               xlog=True, xlabel='Task runtime (sec)', loc='lower right')"
   ]
  },
  {
   "cell_type": "code",
   "execution_count": 33,
   "metadata": {
    "ExecuteTime": {
     "end_time": "2021-06-30T09:35:24.337547Z",
     "start_time": "2021-06-30T09:35:20.211751Z"
    }
   },
   "outputs": [
    {
     "ename": "AttributeError",
     "evalue": "'DataFrame' object has no attribute 'runtime_i'",
     "output_type": "error",
     "traceback": [
      "\u001b[1;31m---------------------------------------------------------------------------\u001b[0m",
      "\u001b[1;31mAttributeError\u001b[0m                            Traceback (most recent call last)",
      "\u001b[1;32m<ipython-input-33-f7c9dce33fa0>\u001b[0m in \u001b[0;36m<module>\u001b[1;34m\u001b[0m\n\u001b[0;32m      1\u001b[0m \u001b[0mdata_df\u001b[0m \u001b[1;33m=\u001b[0m \u001b[0mdfa\u001b[0m\u001b[1;33m\u001b[0m\u001b[1;33m\u001b[0m\u001b[0m\n\u001b[1;32m----> 2\u001b[1;33m \u001b[0mmedian_time\u001b[0m \u001b[1;33m=\u001b[0m \u001b[0mdata_df\u001b[0m\u001b[1;33m.\u001b[0m\u001b[0mruntime_i\u001b[0m\u001b[1;33m.\u001b[0m\u001b[0mmedian\u001b[0m\u001b[1;33m(\u001b[0m\u001b[1;33m)\u001b[0m\u001b[1;33m\u001b[0m\u001b[1;33m\u001b[0m\u001b[0m\n\u001b[0m\u001b[0;32m      3\u001b[0m \u001b[0mdata_df\u001b[0m\u001b[1;33m[\u001b[0m\u001b[1;34m'wait_over_completion'\u001b[0m\u001b[1;33m]\u001b[0m \u001b[1;33m=\u001b[0m \u001b[0mdata_df\u001b[0m\u001b[1;33m[\u001b[0m\u001b[1;34m'wait_time'\u001b[0m\u001b[1;33m]\u001b[0m\u001b[1;33m/\u001b[0m\u001b[0mdata_df\u001b[0m\u001b[1;33m[\u001b[0m\u001b[1;34m'runtime'\u001b[0m\u001b[1;33m]\u001b[0m\u001b[1;33m\u001b[0m\u001b[1;33m\u001b[0m\u001b[0m\n\u001b[0;32m      4\u001b[0m plot_data_cdfs([100*data_df[data_df.runtime_i > median_time]['wait_over_completion'].dropna(),\n\u001b[0;32m      5\u001b[0m                 \u001b[1;36m100\u001b[0m\u001b[1;33m*\u001b[0m\u001b[0mdata_df\u001b[0m\u001b[1;33m[\u001b[0m\u001b[1;34m'wait_over_completion'\u001b[0m\u001b[1;33m]\u001b[0m\u001b[1;33m.\u001b[0m\u001b[0mdropna\u001b[0m\u001b[1;33m(\u001b[0m\u001b[1;33m)\u001b[0m\u001b[1;33m,\u001b[0m\u001b[1;33m\u001b[0m\u001b[1;33m\u001b[0m\u001b[0m\n",
      "\u001b[1;32m~\\anaconda3\\lib\\site-packages\\pandas\\core\\generic.py\u001b[0m in \u001b[0;36m__getattr__\u001b[1;34m(self, name)\u001b[0m\n\u001b[0;32m   5272\u001b[0m             \u001b[1;32mif\u001b[0m \u001b[0mself\u001b[0m\u001b[1;33m.\u001b[0m\u001b[0m_info_axis\u001b[0m\u001b[1;33m.\u001b[0m\u001b[0m_can_hold_identifiers_and_holds_name\u001b[0m\u001b[1;33m(\u001b[0m\u001b[0mname\u001b[0m\u001b[1;33m)\u001b[0m\u001b[1;33m:\u001b[0m\u001b[1;33m\u001b[0m\u001b[1;33m\u001b[0m\u001b[0m\n\u001b[0;32m   5273\u001b[0m                 \u001b[1;32mreturn\u001b[0m \u001b[0mself\u001b[0m\u001b[1;33m[\u001b[0m\u001b[0mname\u001b[0m\u001b[1;33m]\u001b[0m\u001b[1;33m\u001b[0m\u001b[1;33m\u001b[0m\u001b[0m\n\u001b[1;32m-> 5274\u001b[1;33m             \u001b[1;32mreturn\u001b[0m \u001b[0mobject\u001b[0m\u001b[1;33m.\u001b[0m\u001b[0m__getattribute__\u001b[0m\u001b[1;33m(\u001b[0m\u001b[0mself\u001b[0m\u001b[1;33m,\u001b[0m \u001b[0mname\u001b[0m\u001b[1;33m)\u001b[0m\u001b[1;33m\u001b[0m\u001b[1;33m\u001b[0m\u001b[0m\n\u001b[0m\u001b[0;32m   5275\u001b[0m \u001b[1;33m\u001b[0m\u001b[0m\n\u001b[0;32m   5276\u001b[0m     \u001b[1;32mdef\u001b[0m \u001b[0m__setattr__\u001b[0m\u001b[1;33m(\u001b[0m\u001b[0mself\u001b[0m\u001b[1;33m,\u001b[0m \u001b[0mname\u001b[0m\u001b[1;33m:\u001b[0m \u001b[0mstr\u001b[0m\u001b[1;33m,\u001b[0m \u001b[0mvalue\u001b[0m\u001b[1;33m)\u001b[0m \u001b[1;33m->\u001b[0m \u001b[1;32mNone\u001b[0m\u001b[1;33m:\u001b[0m\u001b[1;33m\u001b[0m\u001b[1;33m\u001b[0m\u001b[0m\n",
      "\u001b[1;31mAttributeError\u001b[0m: 'DataFrame' object has no attribute 'runtime_i'"
     ]
    }
   ],
   "source": [
    "data_df = dfa\n",
    "median_time = data_df.runtime_i.median()\n",
    "data_df['wait_over_completion'] = data_df['wait_time']/data_df['runtime']\n",
    "plot_data_cdfs([100*data_df[data_df.runtime_i > median_time]['wait_over_completion'].dropna(),\n",
    "                100*data_df['wait_over_completion'].dropna(),\n",
    "                100*data_df[data_df.runtime_i <= median_time]['wait_over_completion'].dropna()],\n",
    "               ['Long 50% tasks','All tasks','Short 50% tasks'], xlim=[0,100], \n",
    "               xlabel='wait_time / completion_time (%)', figsize=(4,3))"
   ]
  },
  {
   "cell_type": "markdown",
   "metadata": {},
   "source": [
    "### Figure 5: Task wait time and runtime by GPU requests"
   ]
  },
  {
   "cell_type": "code",
   "execution_count": 34,
   "metadata": {
    "ExecuteTime": {
     "end_time": "2021-06-30T09:35:27.149147Z",
     "start_time": "2021-06-30T09:35:24.339052Z"
    }
   },
   "outputs": [
    {
     "ename": "AttributeError",
     "evalue": "'DataFrame' object has no attribute 'wait_time'",
     "output_type": "error",
     "traceback": [
      "\u001b[1;31m---------------------------------------------------------------------------\u001b[0m",
      "\u001b[1;31mAttributeError\u001b[0m                            Traceback (most recent call last)",
      "\u001b[1;32m<ipython-input-34-358592be4e77>\u001b[0m in \u001b[0;36m<module>\u001b[1;34m\u001b[0m\n\u001b[0;32m      1\u001b[0m \u001b[0mdata_df\u001b[0m \u001b[1;33m=\u001b[0m \u001b[0mdfa\u001b[0m\u001b[1;33m\u001b[0m\u001b[1;33m\u001b[0m\u001b[0m\n\u001b[1;32m----> 2\u001b[1;33m data = [data_df[data_df.plan_gpu < 25].wait_time.dropna(),\n\u001b[0m\u001b[0;32m      3\u001b[0m         \u001b[0mdata_df\u001b[0m\u001b[1;33m[\u001b[0m\u001b[1;33m(\u001b[0m\u001b[0mdata_df\u001b[0m\u001b[1;33m.\u001b[0m\u001b[0mplan_gpu\u001b[0m \u001b[1;33m>=\u001b[0m \u001b[1;36m25\u001b[0m\u001b[1;33m)\u001b[0m\u001b[1;33m&\u001b[0m\u001b[1;33m(\u001b[0m\u001b[0mdata_df\u001b[0m\u001b[1;33m.\u001b[0m\u001b[0mplan_gpu\u001b[0m \u001b[1;33m<\u001b[0m \u001b[1;36m50\u001b[0m\u001b[1;33m)\u001b[0m\u001b[1;33m]\u001b[0m\u001b[1;33m.\u001b[0m\u001b[0mwait_time\u001b[0m\u001b[1;33m.\u001b[0m\u001b[0mdropna\u001b[0m\u001b[1;33m(\u001b[0m\u001b[1;33m)\u001b[0m\u001b[1;33m,\u001b[0m\u001b[1;33m\u001b[0m\u001b[1;33m\u001b[0m\u001b[0m\n\u001b[0;32m      4\u001b[0m         \u001b[0mdata_df\u001b[0m\u001b[1;33m[\u001b[0m\u001b[1;33m(\u001b[0m\u001b[0mdata_df\u001b[0m\u001b[1;33m.\u001b[0m\u001b[0mplan_gpu\u001b[0m \u001b[1;33m>=\u001b[0m \u001b[1;36m50\u001b[0m\u001b[1;33m)\u001b[0m\u001b[1;33m&\u001b[0m\u001b[1;33m(\u001b[0m\u001b[0mdata_df\u001b[0m\u001b[1;33m.\u001b[0m\u001b[0mplan_gpu\u001b[0m \u001b[1;33m<\u001b[0m \u001b[1;36m100\u001b[0m\u001b[1;33m)\u001b[0m\u001b[1;33m]\u001b[0m\u001b[1;33m.\u001b[0m\u001b[0mwait_time\u001b[0m\u001b[1;33m.\u001b[0m\u001b[0mdropna\u001b[0m\u001b[1;33m(\u001b[0m\u001b[1;33m)\u001b[0m\u001b[1;33m,\u001b[0m\u001b[1;33m\u001b[0m\u001b[1;33m\u001b[0m\u001b[0m\n\u001b[0;32m      5\u001b[0m         \u001b[0mdata_df\u001b[0m\u001b[1;33m[\u001b[0m\u001b[1;33m(\u001b[0m\u001b[0mdata_df\u001b[0m\u001b[1;33m.\u001b[0m\u001b[0mplan_gpu\u001b[0m \u001b[1;33m==\u001b[0m\u001b[1;36m100\u001b[0m\u001b[1;33m)\u001b[0m\u001b[1;33m]\u001b[0m\u001b[1;33m.\u001b[0m\u001b[0mwait_time\u001b[0m\u001b[1;33m.\u001b[0m\u001b[0mdropna\u001b[0m\u001b[1;33m(\u001b[0m\u001b[1;33m)\u001b[0m\u001b[1;33m,\u001b[0m\u001b[1;33m\u001b[0m\u001b[1;33m\u001b[0m\u001b[0m\n",
      "\u001b[1;32m~\\anaconda3\\lib\\site-packages\\pandas\\core\\generic.py\u001b[0m in \u001b[0;36m__getattr__\u001b[1;34m(self, name)\u001b[0m\n\u001b[0;32m   5272\u001b[0m             \u001b[1;32mif\u001b[0m \u001b[0mself\u001b[0m\u001b[1;33m.\u001b[0m\u001b[0m_info_axis\u001b[0m\u001b[1;33m.\u001b[0m\u001b[0m_can_hold_identifiers_and_holds_name\u001b[0m\u001b[1;33m(\u001b[0m\u001b[0mname\u001b[0m\u001b[1;33m)\u001b[0m\u001b[1;33m:\u001b[0m\u001b[1;33m\u001b[0m\u001b[1;33m\u001b[0m\u001b[0m\n\u001b[0;32m   5273\u001b[0m                 \u001b[1;32mreturn\u001b[0m \u001b[0mself\u001b[0m\u001b[1;33m[\u001b[0m\u001b[0mname\u001b[0m\u001b[1;33m]\u001b[0m\u001b[1;33m\u001b[0m\u001b[1;33m\u001b[0m\u001b[0m\n\u001b[1;32m-> 5274\u001b[1;33m             \u001b[1;32mreturn\u001b[0m \u001b[0mobject\u001b[0m\u001b[1;33m.\u001b[0m\u001b[0m__getattribute__\u001b[0m\u001b[1;33m(\u001b[0m\u001b[0mself\u001b[0m\u001b[1;33m,\u001b[0m \u001b[0mname\u001b[0m\u001b[1;33m)\u001b[0m\u001b[1;33m\u001b[0m\u001b[1;33m\u001b[0m\u001b[0m\n\u001b[0m\u001b[0;32m   5275\u001b[0m \u001b[1;33m\u001b[0m\u001b[0m\n\u001b[0;32m   5276\u001b[0m     \u001b[1;32mdef\u001b[0m \u001b[0m__setattr__\u001b[0m\u001b[1;33m(\u001b[0m\u001b[0mself\u001b[0m\u001b[1;33m,\u001b[0m \u001b[0mname\u001b[0m\u001b[1;33m:\u001b[0m \u001b[0mstr\u001b[0m\u001b[1;33m,\u001b[0m \u001b[0mvalue\u001b[0m\u001b[1;33m)\u001b[0m \u001b[1;33m->\u001b[0m \u001b[1;32mNone\u001b[0m\u001b[1;33m:\u001b[0m\u001b[1;33m\u001b[0m\u001b[1;33m\u001b[0m\u001b[0m\n",
      "\u001b[1;31mAttributeError\u001b[0m: 'DataFrame' object has no attribute 'wait_time'"
     ]
    }
   ],
   "source": [
    "data_df = dfa\n",
    "data = [data_df[data_df.plan_gpu < 25].wait_time.dropna(),\n",
    "        data_df[(data_df.plan_gpu >= 25)&(data_df.plan_gpu < 50)].wait_time.dropna(),\n",
    "        data_df[(data_df.plan_gpu >= 50)&(data_df.plan_gpu < 100)].wait_time.dropna(),\n",
    "        data_df[(data_df.plan_gpu ==100)].wait_time.dropna(),\n",
    "        data_df[(data_df.plan_gpu > 100)].wait_time.dropna()]\n",
    "data_label = ['< 25% GPU', '[25%, 50%) GPU', '[50%, 100%) GPU', '1 GPU','> 1 GPU']\n",
    "plot_data_cdfs(data, datalabel=data_label, figsize=(5,3.75), dpi=120,\n",
    "               xlog=True, xticks=[1,10,100,1000,10**4,10**5], xlim=(1, 10**5), xlabel='Task wait time (sec)')"
   ]
  },
  {
   "cell_type": "code",
   "execution_count": 35,
   "metadata": {
    "ExecuteTime": {
     "end_time": "2021-06-30T09:35:30.373053Z",
     "start_time": "2021-06-30T09:35:27.150608Z"
    }
   },
   "outputs": [
    {
     "ename": "AttributeError",
     "evalue": "'DataFrame' object has no attribute 'wait_time'",
     "output_type": "error",
     "traceback": [
      "\u001b[1;31m---------------------------------------------------------------------------\u001b[0m",
      "\u001b[1;31mAttributeError\u001b[0m                            Traceback (most recent call last)",
      "\u001b[1;32m<ipython-input-35-9bc26b683625>\u001b[0m in \u001b[0;36m<module>\u001b[1;34m\u001b[0m\n\u001b[0;32m      1\u001b[0m \u001b[0mdata_df\u001b[0m \u001b[1;33m=\u001b[0m \u001b[0mdfa\u001b[0m\u001b[1;33m\u001b[0m\u001b[1;33m\u001b[0m\u001b[0m\n\u001b[1;32m----> 2\u001b[1;33m data = [data_df[data_df.gpu_type=='T4'].wait_time.dropna(),\n\u001b[0m\u001b[0;32m      3\u001b[0m         \u001b[0mdata_df\u001b[0m\u001b[1;33m[\u001b[0m\u001b[0mdata_df\u001b[0m\u001b[1;33m.\u001b[0m\u001b[0mgpu_type\u001b[0m\u001b[1;33m==\u001b[0m\u001b[1;34m'MISC'\u001b[0m\u001b[1;33m]\u001b[0m\u001b[1;33m.\u001b[0m\u001b[0mwait_time\u001b[0m\u001b[1;33m.\u001b[0m\u001b[0mdropna\u001b[0m\u001b[1;33m(\u001b[0m\u001b[1;33m)\u001b[0m\u001b[1;33m,\u001b[0m\u001b[1;33m\u001b[0m\u001b[1;33m\u001b[0m\u001b[0m\n\u001b[0;32m      4\u001b[0m         \u001b[0mdata_df\u001b[0m\u001b[1;33m[\u001b[0m\u001b[0mdata_df\u001b[0m\u001b[1;33m.\u001b[0m\u001b[0mgpu_type\u001b[0m\u001b[1;33m==\u001b[0m\u001b[1;34m'P100'\u001b[0m\u001b[1;33m]\u001b[0m\u001b[1;33m.\u001b[0m\u001b[0mwait_time\u001b[0m\u001b[1;33m.\u001b[0m\u001b[0mdropna\u001b[0m\u001b[1;33m(\u001b[0m\u001b[1;33m)\u001b[0m\u001b[1;33m,\u001b[0m\u001b[1;33m\u001b[0m\u001b[1;33m\u001b[0m\u001b[0m\n\u001b[0;32m      5\u001b[0m         \u001b[0mdata_df\u001b[0m\u001b[1;33m[\u001b[0m\u001b[0mdata_df\u001b[0m\u001b[1;33m.\u001b[0m\u001b[0mgpu_type\u001b[0m\u001b[1;33m==\u001b[0m\u001b[1;34m'V100'\u001b[0m\u001b[1;33m]\u001b[0m\u001b[1;33m.\u001b[0m\u001b[0mwait_time\u001b[0m\u001b[1;33m.\u001b[0m\u001b[0mdropna\u001b[0m\u001b[1;33m(\u001b[0m\u001b[1;33m)\u001b[0m\u001b[1;33m,\u001b[0m\u001b[1;33m\u001b[0m\u001b[1;33m\u001b[0m\u001b[0m\n",
      "\u001b[1;32m~\\anaconda3\\lib\\site-packages\\pandas\\core\\generic.py\u001b[0m in \u001b[0;36m__getattr__\u001b[1;34m(self, name)\u001b[0m\n\u001b[0;32m   5272\u001b[0m             \u001b[1;32mif\u001b[0m \u001b[0mself\u001b[0m\u001b[1;33m.\u001b[0m\u001b[0m_info_axis\u001b[0m\u001b[1;33m.\u001b[0m\u001b[0m_can_hold_identifiers_and_holds_name\u001b[0m\u001b[1;33m(\u001b[0m\u001b[0mname\u001b[0m\u001b[1;33m)\u001b[0m\u001b[1;33m:\u001b[0m\u001b[1;33m\u001b[0m\u001b[1;33m\u001b[0m\u001b[0m\n\u001b[0;32m   5273\u001b[0m                 \u001b[1;32mreturn\u001b[0m \u001b[0mself\u001b[0m\u001b[1;33m[\u001b[0m\u001b[0mname\u001b[0m\u001b[1;33m]\u001b[0m\u001b[1;33m\u001b[0m\u001b[1;33m\u001b[0m\u001b[0m\n\u001b[1;32m-> 5274\u001b[1;33m             \u001b[1;32mreturn\u001b[0m \u001b[0mobject\u001b[0m\u001b[1;33m.\u001b[0m\u001b[0m__getattribute__\u001b[0m\u001b[1;33m(\u001b[0m\u001b[0mself\u001b[0m\u001b[1;33m,\u001b[0m \u001b[0mname\u001b[0m\u001b[1;33m)\u001b[0m\u001b[1;33m\u001b[0m\u001b[1;33m\u001b[0m\u001b[0m\n\u001b[0m\u001b[0;32m   5275\u001b[0m \u001b[1;33m\u001b[0m\u001b[0m\n\u001b[0;32m   5276\u001b[0m     \u001b[1;32mdef\u001b[0m \u001b[0m__setattr__\u001b[0m\u001b[1;33m(\u001b[0m\u001b[0mself\u001b[0m\u001b[1;33m,\u001b[0m \u001b[0mname\u001b[0m\u001b[1;33m:\u001b[0m \u001b[0mstr\u001b[0m\u001b[1;33m,\u001b[0m \u001b[0mvalue\u001b[0m\u001b[1;33m)\u001b[0m \u001b[1;33m->\u001b[0m \u001b[1;32mNone\u001b[0m\u001b[1;33m:\u001b[0m\u001b[1;33m\u001b[0m\u001b[1;33m\u001b[0m\u001b[0m\n",
      "\u001b[1;31mAttributeError\u001b[0m: 'DataFrame' object has no attribute 'wait_time'"
     ]
    }
   ],
   "source": [
    "data_df = dfa\n",
    "data = [data_df[data_df.gpu_type=='T4'].wait_time.dropna(),\n",
    "        data_df[data_df.gpu_type=='MISC'].wait_time.dropna(),\n",
    "        data_df[data_df.gpu_type=='P100'].wait_time.dropna(),\n",
    "        data_df[data_df.gpu_type=='V100'].wait_time.dropna(),\n",
    "        data_df[data_df.gpu_type=='V100M32'].wait_time.dropna(),]\n",
    "data_label = ['T4', 'MISC', 'P100', 'V100', 'V100M32']\n",
    "plot_data_cdfs(data, datalabel=data_label, figsize=(5,3.75), dpi=120,\n",
    "               xlog=True, xticks=[1,10,100,1000,10**4,10**5], xlim=(1, 10**5), xlabel='Task wait time (sec)')"
   ]
  },
  {
   "cell_type": "code",
   "execution_count": 36,
   "metadata": {
    "ExecuteTime": {
     "end_time": "2021-06-30T09:35:32.095685Z",
     "start_time": "2021-06-30T09:35:30.374539Z"
    }
   },
   "outputs": [
    {
     "data": {
      "text/plain": [
       "Text(0.5, 0, 'Proportion of Tasks (%)')"
      ]
     },
     "execution_count": 36,
     "metadata": {},
     "output_type": "execute_result"
    },
    {
     "data": {
      "image/png": "[encoded data removed]",
      "text/plain": [
       "<Figure size 480x480 with 2 Axes>"
      ]
     },
     "metadata": {
      "needs_background": "light"
     },
     "output_type": "display_data"
    }
   ],
   "source": [
    "data_df = dfa\n",
    "data = [len(data_df[data_df.plan_gpu < 25]),\n",
    "        len(data_df[(data_df.plan_gpu >= 25)&(data_df.plan_gpu < 50)]), \n",
    "        len(data_df[(data_df.plan_gpu >= 50)&(data_df.plan_gpu < 100)]), \n",
    "        len(data_df[(data_df.plan_gpu ==100)]),\n",
    "        len(data_df[(data_df.plan_gpu > 100)]),\n",
    "        len(data_df[data_df.gpu_type=='T4']),\n",
    "        len(data_df[data_df.gpu_type=='MISC']),\n",
    "        len(data_df[data_df.gpu_type=='P100']),\n",
    "        len(data_df[data_df.gpu_type=='V100']),\n",
    "        len(data_df[data_df.gpu_type=='V100M32'])]\n",
    "data_plot = [100 * i / len(data_df.plan_gpu.dropna()) for i in data]\n",
    "data_label = ['< 25% GPU', '[25%, 50%) GPU', '[50%, 1) GPU', '1 GPU','> 1 GPU',\n",
    "'T4','MISC','P100','V100','V100M32']\n",
    "\n",
    "f, axes = plt.subplots(2, 1, figsize=(4, 4), sharex=False, dpi=120)\n",
    "rect = sns.barplot(y=data_label[:5], x=data_plot[:5], orient='h', ax=axes[0], edgecolor='black')\n",
    "axes[0].grid(alpha=0.8, linestyle='-.',axis='x')\n",
    "axes[0].set_xticks(range(0, 80, 10))\n",
    "sns.barplot(y=data_label[5:], x=data_plot[5:], orient='h', ax=axes[1], edgecolor='black')\n",
    "axes[1].grid(alpha=0.8, linestyle='-.',axis='x')\n",
    "axes[1].set_xticks(range(0, 80, 10))\n",
    "plt.xlabel('Proportion of Tasks (%)')"
   ]
  },
  {
   "cell_type": "code",
   "execution_count": 37,
   "metadata": {
    "ExecuteTime": {
     "end_time": "2021-06-30T09:35:35.031162Z",
     "start_time": "2021-06-30T09:35:32.098308Z"
    }
   },
   "outputs": [
    {
     "ename": "AttributeError",
     "evalue": "'DataFrame' object has no attribute 'runtime_i'",
     "output_type": "error",
     "traceback": [
      "\u001b[1;31m---------------------------------------------------------------------------\u001b[0m",
      "\u001b[1;31mAttributeError\u001b[0m                            Traceback (most recent call last)",
      "\u001b[1;32m<ipython-input-37-ca6b15543bea>\u001b[0m in \u001b[0;36m<module>\u001b[1;34m\u001b[0m\n\u001b[0;32m      1\u001b[0m \u001b[0mdata_df\u001b[0m \u001b[1;33m=\u001b[0m \u001b[0mdfa\u001b[0m\u001b[1;33m\u001b[0m\u001b[1;33m\u001b[0m\u001b[0m\n\u001b[0;32m      2\u001b[0m \u001b[0mdata_label\u001b[0m \u001b[1;33m=\u001b[0m \u001b[1;33m[\u001b[0m\u001b[1;34m'T4'\u001b[0m\u001b[1;33m,\u001b[0m \u001b[1;34m'MISC'\u001b[0m\u001b[1;33m,\u001b[0m \u001b[1;34m'P100'\u001b[0m\u001b[1;33m,\u001b[0m \u001b[1;34m'V100'\u001b[0m\u001b[1;33m,\u001b[0m \u001b[1;34m'V100M32'\u001b[0m\u001b[1;33m]\u001b[0m\u001b[1;33m\u001b[0m\u001b[1;33m\u001b[0m\u001b[0m\n\u001b[1;32m----> 3\u001b[1;33m \u001b[0mdata\u001b[0m\u001b[1;33m=\u001b[0m\u001b[1;33m[\u001b[0m\u001b[0mdata_df\u001b[0m\u001b[1;33m[\u001b[0m\u001b[1;33m(\u001b[0m\u001b[0mdata_df\u001b[0m\u001b[1;33m.\u001b[0m\u001b[0mgpu_type\u001b[0m\u001b[1;33m==\u001b[0m\u001b[0mv\u001b[0m\u001b[1;33m)\u001b[0m \u001b[1;33m&\u001b[0m \u001b[1;33m(\u001b[0m\u001b[0mdata_df\u001b[0m\u001b[1;33m.\u001b[0m\u001b[0mstatus\u001b[0m\u001b[1;33m==\u001b[0m\u001b[1;34m'Terminated'\u001b[0m\u001b[1;33m)\u001b[0m\u001b[1;33m]\u001b[0m\u001b[1;33m.\u001b[0m\u001b[0mruntime_i\u001b[0m\u001b[1;33m.\u001b[0m\u001b[0mdropna\u001b[0m\u001b[1;33m(\u001b[0m\u001b[1;33m)\u001b[0m \u001b[1;32mfor\u001b[0m \u001b[0mv\u001b[0m \u001b[1;32min\u001b[0m \u001b[0mdata_label\u001b[0m\u001b[1;33m]\u001b[0m\u001b[1;33m\u001b[0m\u001b[1;33m\u001b[0m\u001b[0m\n\u001b[0m\u001b[0;32m      4\u001b[0m plot_data_cdfs(data, data_label, xlabel=\"Task runtime (sec)\", \n\u001b[0;32m      5\u001b[0m                \u001b[0mxticks\u001b[0m\u001b[1;33m=\u001b[0m\u001b[1;33m[\u001b[0m\u001b[1;36m10\u001b[0m\u001b[1;33m**\u001b[0m\u001b[0mx\u001b[0m \u001b[1;32mfor\u001b[0m \u001b[0mx\u001b[0m \u001b[1;32min\u001b[0m \u001b[0mrange\u001b[0m\u001b[1;33m(\u001b[0m\u001b[1;36m1\u001b[0m\u001b[1;33m,\u001b[0m \u001b[1;36m7\u001b[0m\u001b[1;33m)\u001b[0m\u001b[1;33m]\u001b[0m\u001b[1;33m,\u001b[0m \u001b[0mxlog\u001b[0m\u001b[1;33m=\u001b[0m\u001b[1;32mTrue\u001b[0m\u001b[1;33m,\u001b[0m\u001b[1;33m\u001b[0m\u001b[1;33m\u001b[0m\u001b[0m\n",
      "\u001b[1;32m<ipython-input-37-ca6b15543bea>\u001b[0m in \u001b[0;36m<listcomp>\u001b[1;34m(.0)\u001b[0m\n\u001b[0;32m      1\u001b[0m \u001b[0mdata_df\u001b[0m \u001b[1;33m=\u001b[0m \u001b[0mdfa\u001b[0m\u001b[1;33m\u001b[0m\u001b[1;33m\u001b[0m\u001b[0m\n\u001b[0;32m      2\u001b[0m \u001b[0mdata_label\u001b[0m \u001b[1;33m=\u001b[0m \u001b[1;33m[\u001b[0m\u001b[1;34m'T4'\u001b[0m\u001b[1;33m,\u001b[0m \u001b[1;34m'MISC'\u001b[0m\u001b[1;33m,\u001b[0m \u001b[1;34m'P100'\u001b[0m\u001b[1;33m,\u001b[0m \u001b[1;34m'V100'\u001b[0m\u001b[1;33m,\u001b[0m \u001b[1;34m'V100M32'\u001b[0m\u001b[1;33m]\u001b[0m\u001b[1;33m\u001b[0m\u001b[1;33m\u001b[0m\u001b[0m\n\u001b[1;32m----> 3\u001b[1;33m \u001b[0mdata\u001b[0m\u001b[1;33m=\u001b[0m\u001b[1;33m[\u001b[0m\u001b[0mdata_df\u001b[0m\u001b[1;33m[\u001b[0m\u001b[1;33m(\u001b[0m\u001b[0mdata_df\u001b[0m\u001b[1;33m.\u001b[0m\u001b[0mgpu_type\u001b[0m\u001b[1;33m==\u001b[0m\u001b[0mv\u001b[0m\u001b[1;33m)\u001b[0m \u001b[1;33m&\u001b[0m \u001b[1;33m(\u001b[0m\u001b[0mdata_df\u001b[0m\u001b[1;33m.\u001b[0m\u001b[0mstatus\u001b[0m\u001b[1;33m==\u001b[0m\u001b[1;34m'Terminated'\u001b[0m\u001b[1;33m)\u001b[0m\u001b[1;33m]\u001b[0m\u001b[1;33m.\u001b[0m\u001b[0mruntime_i\u001b[0m\u001b[1;33m.\u001b[0m\u001b[0mdropna\u001b[0m\u001b[1;33m(\u001b[0m\u001b[1;33m)\u001b[0m \u001b[1;32mfor\u001b[0m \u001b[0mv\u001b[0m \u001b[1;32min\u001b[0m \u001b[0mdata_label\u001b[0m\u001b[1;33m]\u001b[0m\u001b[1;33m\u001b[0m\u001b[1;33m\u001b[0m\u001b[0m\n\u001b[0m\u001b[0;32m      4\u001b[0m plot_data_cdfs(data, data_label, xlabel=\"Task runtime (sec)\", \n\u001b[0;32m      5\u001b[0m                \u001b[0mxticks\u001b[0m\u001b[1;33m=\u001b[0m\u001b[1;33m[\u001b[0m\u001b[1;36m10\u001b[0m\u001b[1;33m**\u001b[0m\u001b[0mx\u001b[0m \u001b[1;32mfor\u001b[0m \u001b[0mx\u001b[0m \u001b[1;32min\u001b[0m \u001b[0mrange\u001b[0m\u001b[1;33m(\u001b[0m\u001b[1;36m1\u001b[0m\u001b[1;33m,\u001b[0m \u001b[1;36m7\u001b[0m\u001b[1;33m)\u001b[0m\u001b[1;33m]\u001b[0m\u001b[1;33m,\u001b[0m \u001b[0mxlog\u001b[0m\u001b[1;33m=\u001b[0m\u001b[1;32mTrue\u001b[0m\u001b[1;33m,\u001b[0m\u001b[1;33m\u001b[0m\u001b[1;33m\u001b[0m\u001b[0m\n",
      "\u001b[1;32m~\\anaconda3\\lib\\site-packages\\pandas\\core\\generic.py\u001b[0m in \u001b[0;36m__getattr__\u001b[1;34m(self, name)\u001b[0m\n\u001b[0;32m   5272\u001b[0m             \u001b[1;32mif\u001b[0m \u001b[0mself\u001b[0m\u001b[1;33m.\u001b[0m\u001b[0m_info_axis\u001b[0m\u001b[1;33m.\u001b[0m\u001b[0m_can_hold_identifiers_and_holds_name\u001b[0m\u001b[1;33m(\u001b[0m\u001b[0mname\u001b[0m\u001b[1;33m)\u001b[0m\u001b[1;33m:\u001b[0m\u001b[1;33m\u001b[0m\u001b[1;33m\u001b[0m\u001b[0m\n\u001b[0;32m   5273\u001b[0m                 \u001b[1;32mreturn\u001b[0m \u001b[0mself\u001b[0m\u001b[1;33m[\u001b[0m\u001b[0mname\u001b[0m\u001b[1;33m]\u001b[0m\u001b[1;33m\u001b[0m\u001b[1;33m\u001b[0m\u001b[0m\n\u001b[1;32m-> 5274\u001b[1;33m             \u001b[1;32mreturn\u001b[0m \u001b[0mobject\u001b[0m\u001b[1;33m.\u001b[0m\u001b[0m__getattribute__\u001b[0m\u001b[1;33m(\u001b[0m\u001b[0mself\u001b[0m\u001b[1;33m,\u001b[0m \u001b[0mname\u001b[0m\u001b[1;33m)\u001b[0m\u001b[1;33m\u001b[0m\u001b[1;33m\u001b[0m\u001b[0m\n\u001b[0m\u001b[0;32m   5275\u001b[0m \u001b[1;33m\u001b[0m\u001b[0m\n\u001b[0;32m   5276\u001b[0m     \u001b[1;32mdef\u001b[0m \u001b[0m__setattr__\u001b[0m\u001b[1;33m(\u001b[0m\u001b[0mself\u001b[0m\u001b[1;33m,\u001b[0m \u001b[0mname\u001b[0m\u001b[1;33m:\u001b[0m \u001b[0mstr\u001b[0m\u001b[1;33m,\u001b[0m \u001b[0mvalue\u001b[0m\u001b[1;33m)\u001b[0m \u001b[1;33m->\u001b[0m \u001b[1;32mNone\u001b[0m\u001b[1;33m:\u001b[0m\u001b[1;33m\u001b[0m\u001b[1;33m\u001b[0m\u001b[0m\n",
      "\u001b[1;31mAttributeError\u001b[0m: 'DataFrame' object has no attribute 'runtime_i'"
     ]
    }
   ],
   "source": [
    "data_df = dfa\n",
    "data_label = ['T4', 'MISC', 'P100', 'V100', 'V100M32']\n",
    "data=[data_df[(data_df.gpu_type==v) & (data_df.status=='Terminated')].runtime_i.dropna() for v in data_label]\n",
    "plot_data_cdfs(data, data_label, xlabel=\"Task runtime (sec)\", \n",
    "               xticks=[10**x for x in range(1, 7)], xlog=True,\n",
    "               figsize=(4,3), dpi=120, xlim=[10, 10**6], fontsize=12)"
   ]
  },
  {
   "cell_type": "markdown",
   "metadata": {},
   "source": [
    "## Spatial Pattern"
   ]
  },
  {
   "cell_type": "markdown",
   "metadata": {},
   "source": [
    "### Figure 6: Task resource request and usage"
   ]
  },
  {
   "cell_type": "code",
   "execution_count": 38,
   "metadata": {
    "ExecuteTime": {
     "end_time": "2021-06-30T09:35:38.326244Z",
     "start_time": "2021-06-30T09:35:35.032877Z"
    }
   },
   "outputs": [
    {
     "data": {
      "text/plain": [
       "\"\\ndata_df = dfas\\nplot_data_cdfs([data_df['plan_cpu'].dropna(), data_df['cpu_usage'].dropna()], ['CPU Request', 'CPU Usage'],\\n               xlabel='% of CPU', xlim=(0, 6000), ylabel='CDF', xticks=[0,600,2000,4000,6000], dpi=120)\\n\""
      ]
     },
     "execution_count": 38,
     "metadata": {},
     "output_type": "execute_result"
    }
   ],
   "source": [
    "'''\n",
    "data_df = dfas\n",
    "plot_data_cdfs([data_df['plan_cpu'].dropna(), data_df['cpu_usage'].dropna()], ['CPU Request', 'CPU Usage'],\n",
    "               xlabel='% of CPU', xlim=(0, 6000), ylabel='CDF', xticks=[0,600,2000,4000,6000], dpi=120)\n",
    "'''"
   ]
  },
  {
   "cell_type": "code",
   "execution_count": 39,
   "metadata": {},
   "outputs": [],
   "source": [
    "data_df = dfas\n"
   ]
  },
  {
   "cell_type": "code",
   "execution_count": 40,
   "metadata": {},
   "outputs": [
    {
     "data": {
      "image/png": "[encoded data removed]",
      "text/plain": [
       "<Figure size 432x288 with 1 Axes>"
      ]
     },
     "metadata": {
      "needs_background": "light"
     },
     "output_type": "display_data"
    }
   ],
   "source": [
    "#Plot graph of CPU usage against CDF\n",
    "x, y = get_cdf(dfd['plan_cpu'].dropna())\n",
    "plt.plot(x, y, label='CPU Request',  color='blue', linestyle='-')\n",
    "plt.grid(alpha=.3, linestyle='--')\n",
    "#plt.xscale('log')\n",
    "plt.xlim(0, 6000)\n",
    "#plt.ylim(0, 100)\n",
    "plt.legend(loc='lower right')\n",
    "plt.xlabel('% of CPU')\n",
    "plt.ylabel('CDF')\n",
    "plt.show()"
   ]
  },
  {
   "cell_type": "code",
   "execution_count": 41,
   "metadata": {},
   "outputs": [
    {
     "data": {
      "image/png": "[encoded data removed]",
      "text/plain": [
       "<Figure size 432x288 with 1 Axes>"
      ]
     },
     "metadata": {
      "needs_background": "light"
     },
     "output_type": "display_data"
    }
   ],
   "source": [
    "#Plot graph of CPU usage against CDF\n",
    "x, y = get_cdf(dfd['cpu_usage'].dropna())\n",
    "plt.plot(x, y, label='CPU Usage',  color='orange', linestyle='-.')\n",
    "plt.grid(alpha=.3, linestyle='--')\n",
    "#plt.xscale('log')\n",
    "plt.xlim(0, 6000)\n",
    "#plt.ylim(0, 100)\n",
    "plt.legend(loc='lower right')\n",
    "plt.xlabel('% of CPU')\n",
    "plt.ylabel('CDF')\n",
    "plt.show()"
   ]
  },
  {
   "cell_type": "code",
   "execution_count": 42,
   "metadata": {},
   "outputs": [
    {
     "data": {
      "image/png": "[encoded data removed]",
      "text/plain": [
       "<Figure size 432x288 with 1 Axes>"
      ]
     },
     "metadata": {
      "needs_background": "light"
     },
     "output_type": "display_data"
    }
   ],
   "source": [
    "#Plot graph of CPU usage against CDF\n",
    "x, y = get_cdf(dfd['cpu_usage'].dropna())\n",
    "plt.plot(x, y, label='CPU Usage',  color='orange', linestyle='-.')\n",
    "a, b = get_cdf(dfd['plan_cpu'].dropna())\n",
    "plt.plot(a, b, label='CPU Request',  color='blue', linestyle='-')\n",
    "\n",
    "plt.grid(alpha=.3, linestyle='--')\n",
    "#plt.xscale('log')\n",
    "plt.xlim(0, 6000)\n",
    "#plt.ylim(0, 100)\n",
    "plt.legend(loc='lower right')\n",
    "plt.xlabel('% of CPU')\n",
    "plt.ylabel('CDF')\n",
    "plt.show()"
   ]
  },
  {
   "cell_type": "code",
   "execution_count": 43,
   "metadata": {
    "ExecuteTime": {
     "end_time": "2021-06-30T09:35:39.621498Z",
     "start_time": "2021-06-30T09:35:38.327770Z"
    }
   },
   "outputs": [
    {
     "data": {
      "text/plain": [
       "\"\\ndata_df = dfas\\nplot_data_cdfs([data_df['plan_gpu'].dropna(), data_df['gpu_wrk_util'].dropna()], ['GPU Request', 'GPU Usage'],\\n               xlabel='% of GPU', xlim=(0, 600), ylabel='CDF', xticks=[0,100,200,400,600], dpi=120,loc='lower right')\\n\""
      ]
     },
     "execution_count": 43,
     "metadata": {},
     "output_type": "execute_result"
    }
   ],
   "source": [
    "'''\n",
    "data_df = dfas\n",
    "plot_data_cdfs([data_df['plan_gpu'].dropna(), data_df['gpu_wrk_util'].dropna()], ['GPU Request', 'GPU Usage'],\n",
    "               xlabel='% of GPU', xlim=(0, 600), ylabel='CDF', xticks=[0,100,200,400,600], dpi=120,loc='lower right')\n",
    "'''"
   ]
  },
  {
   "cell_type": "code",
   "execution_count": 44,
   "metadata": {},
   "outputs": [
    {
     "data": {
      "text/plain": [
       "0          0.333333\n",
       "1          0.333333\n",
       "2          8.910394\n",
       "3          8.910394\n",
       "4          2.384298\n",
       "            ...    \n",
       "567121     0.000000\n",
       "567122     0.000000\n",
       "567123     0.000000\n",
       "567124     0.000000\n",
       "567125    36.390805\n",
       "Name: gpu_wrk_util, Length: 567126, dtype: float64"
      ]
     },
     "execution_count": 44,
     "metadata": {},
     "output_type": "execute_result"
    }
   ],
   "source": [
    "data_df = dfas\n",
    "data_df['gpu_wrk_util'].dropna()"
   ]
  },
  {
   "cell_type": "code",
   "execution_count": 45,
   "metadata": {},
   "outputs": [
    {
     "data": {
      "image/png": "[encoded data removed]",
      "text/plain": [
       "<Figure size 432x288 with 1 Axes>"
      ]
     },
     "metadata": {
      "needs_background": "light"
     },
     "output_type": "display_data"
    }
   ],
   "source": [
    "#Plot graph of GPU usage against CDF\n",
    "x, y = get_cdf(dfa['plan_gpu'].dropna())\n",
    "plt.plot(x, y, label='GPU Request',  color='green', linestyle='-')\n",
    "plt.grid(alpha=.3, linestyle='--')\n",
    "#plt.xscale('log')\n",
    "plt.xlim(0, 600)\n",
    "#plt.ylim(0, 100)\n",
    "plt.legend(loc='lower right')\n",
    "plt.xlabel('% of GPU')\n",
    "plt.ylabel('CDF')\n",
    "plt.show()"
   ]
  },
  {
   "cell_type": "code",
   "execution_count": 46,
   "metadata": {},
   "outputs": [
    {
     "data": {
      "image/png": "[encoded data removed]",
      "text/plain": [
       "<Figure size 432x288 with 1 Axes>"
      ]
     },
     "metadata": {
      "needs_background": "light"
     },
     "output_type": "display_data"
    }
   ],
   "source": [
    "#Plot graph of GPU usage against CDF\n",
    "x, y = get_cdf(dfd['gpu_wrk_util'].dropna())\n",
    "plt.plot(x, y, label='GPU Usage',  color='orange', linestyle='-.')\n",
    "plt.grid(alpha=.3, linestyle='--')\n",
    "#plt.xscale('log')\n",
    "plt.xlim(0, 600)\n",
    "#plt.ylim(0, 100)\n",
    "plt.legend(loc='lower right')\n",
    "plt.xlabel('% of GPU')\n",
    "plt.ylabel('CDF')\n",
    "plt.show()"
   ]
  },
  {
   "cell_type": "code",
   "execution_count": 47,
   "metadata": {},
   "outputs": [
    {
     "data": {
      "image/png": "[encoded data removed]",
      "text/plain": [
       "<Figure size 432x288 with 1 Axes>"
      ]
     },
     "metadata": {
      "needs_background": "light"
     },
     "output_type": "display_data"
    }
   ],
   "source": [
    "#Plot graph of CPU usage against CDF\n",
    "x, y = get_cdf(dfd['gpu_wrk_util'].dropna())\n",
    "plt.plot(x, y, label='GPU Usage',  color='orange', linestyle='-.')\n",
    "a, b = get_cdf(dfd['plan_gpu'].dropna())\n",
    "plt.plot(a, b, label='GPU Request',  color='blue', linestyle='-')\n",
    "\n",
    "plt.grid(alpha=.3, linestyle='--')\n",
    "#plt.xscale('log')\n",
    "plt.xlim(0, 600)\n",
    "#plt.ylim(0, 100)\n",
    "plt.legend(loc='lower right')\n",
    "plt.xlabel('% of GPU')\n",
    "plt.ylabel('CDF')\n",
    "plt.show()"
   ]
  },
  {
   "cell_type": "code",
   "execution_count": 48,
   "metadata": {
    "ExecuteTime": {
     "end_time": "2021-06-30T09:35:42.770663Z",
     "start_time": "2021-06-30T09:35:39.623022Z"
    }
   },
   "outputs": [
    {
     "data": {
      "text/plain": [
       "\"\\ndata_df = dfas\\nplot_data_cdfs([data_df['plan_mem'].dropna(), data_df['avg_gpu_wrk_mem'].dropna()], ['Mem Request', 'Mem Usage'],\\n               xlabel='GB of Main Memory', xlim=(0, 300), ylabel='CDF', xticks=[0,30,100,200,300], dpi=120)\\n\""
      ]
     },
     "execution_count": 48,
     "metadata": {},
     "output_type": "execute_result"
    }
   ],
   "source": [
    "'''\n",
    "data_df = dfas\n",
    "plot_data_cdfs([data_df['plan_mem'].dropna(), data_df['avg_gpu_wrk_mem'].dropna()], ['Mem Request', 'Mem Usage'],\n",
    "               xlabel='GB of Main Memory', xlim=(0, 300), ylabel='CDF', xticks=[0,30,100,200,300], dpi=120)\n",
    "'''"
   ]
  },
  {
   "cell_type": "code",
   "execution_count": 49,
   "metadata": {},
   "outputs": [
    {
     "data": {
      "text/plain": [
       "0         0.069743\n",
       "1         0.069743\n",
       "2         0.214487\n",
       "3         0.214487\n",
       "4         2.197003\n",
       "            ...   \n",
       "567121    0.000000\n",
       "567122    0.000000\n",
       "567123    0.366240\n",
       "567124    0.366240\n",
       "567125    1.862058\n",
       "Name: avg_gpu_wrk_mem, Length: 567126, dtype: float64"
      ]
     },
     "execution_count": 49,
     "metadata": {},
     "output_type": "execute_result"
    }
   ],
   "source": [
    "data_df = dfas\n",
    "data_df['avg_gpu_wrk_mem'].dropna()"
   ]
  },
  {
   "cell_type": "code",
   "execution_count": 50,
   "metadata": {},
   "outputs": [
    {
     "data": {
      "image/png": "[encoded data removed]",
      "text/plain": [
       "<Figure size 432x288 with 1 Axes>"
      ]
     },
     "metadata": {
      "needs_background": "light"
     },
     "output_type": "display_data"
    }
   ],
   "source": [
    "#Plot graph of Memory usage against CDF\n",
    "x, y = get_cdf(dfa['plan_mem'].dropna())\n",
    "plt.plot(x, y, label='Mem Request',  color='Blue', linestyle='-')\n",
    "plt.grid(alpha=.3, linestyle='--')\n",
    "#plt.xscale('log')\n",
    "plt.xlim(0, 300)\n",
    "#plt.ylim(0, 100)\n",
    "plt.legend(loc='lower right')\n",
    "plt.xlabel('GB of Main Memory')\n",
    "plt.ylabel('CDF')\n",
    "plt.show()"
   ]
  },
  {
   "cell_type": "code",
   "execution_count": 51,
   "metadata": {},
   "outputs": [
    {
     "data": {
      "image/png": "[encoded data removed]",
      "text/plain": [
       "<Figure size 432x288 with 1 Axes>"
      ]
     },
     "metadata": {
      "needs_background": "light"
     },
     "output_type": "display_data"
    }
   ],
   "source": [
    "#Plot graph of Memory usage against CDF\n",
    "x, y = get_cdf(dfd['avg_gpu_wrk_mem'].dropna())\n",
    "plt.plot(x, y, label='Mem Usage',  color='orange', linestyle='-.')\n",
    "plt.grid(alpha=.3, linestyle='--')\n",
    "#plt.xscale('log')\n",
    "plt.xlim(0, 300)\n",
    "#plt.ylim(0, 100)\n",
    "plt.legend(loc='lower right')\n",
    "plt.xlabel('GB of Main Memory')\n",
    "plt.ylabel('CDF')\n",
    "plt.show()"
   ]
  },
  {
   "cell_type": "code",
   "execution_count": 52,
   "metadata": {},
   "outputs": [
    {
     "data": {
      "image/png": "[encoded data removed]",
      "text/plain": [
       "<Figure size 432x288 with 1 Axes>"
      ]
     },
     "metadata": {
      "needs_background": "light"
     },
     "output_type": "display_data"
    }
   ],
   "source": [
    "#Plot graph of CPU usage against CDF\n",
    "x, y = get_cdf(dfd['avg_gpu_wrk_mem'].dropna())\n",
    "plt.plot(x, y, label='Mem Usage',  color='orange', linestyle='-.')\n",
    "a, b = get_cdf(dfd['plan_mem'].dropna())\n",
    "plt.plot(a, b, label='Mem Request',  color='blue', linestyle='-')\n",
    "\n",
    "plt.grid(alpha=.3, linestyle='--')\n",
    "#plt.xscale('log')\n",
    "plt.xlim(0, 300)\n",
    "#plt.ylim(0, 100)\n",
    "plt.legend(loc='lower right')\n",
    "plt.xlabel('GB of Main Memory')\n",
    "plt.ylabel('CDF')\n",
    "plt.show()"
   ]
  },
  {
   "cell_type": "raw",
   "metadata": {},
   "source": []
  },
  {
   "cell_type": "code",
   "execution_count": 53,
   "metadata": {
    "ExecuteTime": {
     "end_time": "2021-06-30T09:35:52.929257Z",
     "start_time": "2021-06-30T09:35:42.778173Z"
    }
   },
   "outputs": [
    {
     "data": {
      "text/plain": [
       "\"\\npgu_datas, ugp_datas, pgu_label, ugp_label = plan_minus_usg_over_cap_task(dfas)\\ndata = [(100 * ugp_datas[i]).tolist() + (-100 * pgu_datas[i]).tolist() for i in [0,1,2]]\\ndatalabel = ['CPU','GPU','Mem']\\n\\nfrom matplotlib.ticker import StrMethodFormatter, NullFormatter\\nfig, ax = plt.subplots(dpi=120, figsize=(4,3))\\nfor i, d in enumerate(data):\\n    if type(data) == pd.DataFrame:\\n        d.dropna(inplace=True)\\n    x, y = get_cdf(d)\\n    label = datalabel[i] if datalabel is not None else None\\n    ax.plot(x, y, label=label, linestyle=linestyle_list[i % len(linestyle_list)][1])\\nax.set_xscale('symlog', linscale=1, linthresh=1)\\nax.set_yticks([0,20,40,60,80,100])\\nax.xaxis.set_major_formatter(StrMethodFormatter('{x:.0f}'))\\nax.set_xlim([-100, 100])\\nax.set_ylim([0,100])\\nax.grid(alpha=0.8, linestyle='-.')\\nplt.ylabel('CDF')\\nplt.xlabel('(Usage-request)/capacity (%)')\\nax.legend()\\n\""
      ]
     },
     "execution_count": 53,
     "metadata": {},
     "output_type": "execute_result"
    }
   ],
   "source": [
    "'''\n",
    "pgu_datas, ugp_datas, pgu_label, ugp_label = plan_minus_usg_over_cap_task(dfas)\n",
    "data = [(100 * ugp_datas[i]).tolist() + (-100 * pgu_datas[i]).tolist() for i in [0,1,2]]\n",
    "datalabel = ['CPU','GPU','Mem']\n",
    "\n",
    "from matplotlib.ticker import StrMethodFormatter, NullFormatter\n",
    "fig, ax = plt.subplots(dpi=120, figsize=(4,3))\n",
    "for i, d in enumerate(data):\n",
    "    if type(data) == pd.DataFrame:\n",
    "        d.dropna(inplace=True)\n",
    "    x, y = get_cdf(d)\n",
    "    label = datalabel[i] if datalabel is not None else None\n",
    "    ax.plot(x, y, label=label, linestyle=linestyle_list[i % len(linestyle_list)][1])\n",
    "ax.set_xscale('symlog', linscale=1, linthresh=1)\n",
    "ax.set_yticks([0,20,40,60,80,100])\n",
    "ax.xaxis.set_major_formatter(StrMethodFormatter('{x:.0f}'))\n",
    "ax.set_xlim([-100, 100])\n",
    "ax.set_ylim([0,100])\n",
    "ax.grid(alpha=0.8, linestyle='-.')\n",
    "plt.ylabel('CDF')\n",
    "plt.xlabel('(Usage-request)/capacity (%)')\n",
    "ax.legend()\n",
    "'''"
   ]
  },
  {
   "cell_type": "markdown",
   "metadata": {},
   "source": [
    "# Cluster Characteristics"
   ]
  },
  {
   "cell_type": "markdown",
   "metadata": {},
   "source": [
    "## Machine resource usage"
   ]
  },
  {
   "cell_type": "markdown",
   "metadata": {},
   "source": [
    "### Figure 8: Low in network input and CPU I/O wait time"
   ]
  },
  {
   "cell_type": "code",
   "execution_count": 54,
   "metadata": {
    "ExecuteTime": {
     "end_time": "2021-06-30T09:35:57.202712Z",
     "start_time": "2021-06-30T09:35:52.930765Z"
    }
   },
   "outputs": [
    {
     "data": {
      "text/plain": [
       "\"\\nplot_data_cdf(8*dfws.read.dropna()/(1024**3), xlog=True, figsize=(4,3),\\n              xticks=[10**-3, 10**-2, 10**-1, 1, 10, 100], xlim=[2*10**-4, 200],\\n              xlabel='Machine network receive (Gbps)')\\n\""
      ]
     },
     "execution_count": 54,
     "metadata": {},
     "output_type": "execute_result"
    }
   ],
   "source": [
    "'''\n",
    "plot_data_cdf(8*dfws.read.dropna()/(1024**3), xlog=True, figsize=(4,3),\n",
    "              xticks=[10**-3, 10**-2, 10**-1, 1, 10, 100], xlim=[2*10**-4, 200],\n",
    "              xlabel='Machine network receive (Gbps)')\n",
    "'''"
   ]
  },
  {
   "cell_type": "code",
   "execution_count": 55,
   "metadata": {},
   "outputs": [
    {
     "data": {
      "image/png": "[encoded data removed]",
      "text/plain": [
       "<Figure size 432x288 with 1 Axes>"
      ]
     },
     "metadata": {
      "needs_background": "light"
     },
     "output_type": "display_data"
    }
   ],
   "source": [
    "x, y = get_cdf(8*dfws.read.dropna()/(1024**3))\n",
    "plt.plot(x, y, label='Machine network',  color='green', linestyle='-')\n",
    "plt.grid(alpha=.3, linestyle='--')\n",
    "plt.xscale('log')\n",
    "plt.xlim(2*10**-4, 200)\n",
    "plt.ylim(0, 100)\n",
    "plt.legend(loc='lower right')\n",
    "plt.xlabel('Machine network receive (Gbps)')\n",
    "plt.ylabel('CDF')\n",
    "plt.show()"
   ]
  },
  {
   "cell_type": "code",
   "execution_count": 56,
   "metadata": {
    "ExecuteTime": {
     "end_time": "2021-06-30T09:36:16.016635Z",
     "start_time": "2021-06-30T09:35:57.204194Z"
    }
   },
   "outputs": [
    {
     "data": {
      "text/plain": [
       "\"\\nplot_data_cdfs([dfm[x].dropna() for x in ['machine_cpu_iowait','machine_cpu_usr','machine_cpu_kernel']],\\n               ['iowait','usr','kernel'], xlog=True, figsize=(4,3),\\n               xticks=[10**-4,10**-3, 10**-2, 10**-1, 1, 10, 100], xlim=[10**-4, 200],\\n               xlabel='Machine-level CPU usage (%)')\\n\""
      ]
     },
     "execution_count": 56,
     "metadata": {},
     "output_type": "execute_result"
    }
   ],
   "source": [
    "'''\n",
    "plot_data_cdfs([dfm[x].dropna() for x in ['machine_cpu_iowait','machine_cpu_usr','machine_cpu_kernel']],\n",
    "               ['iowait','usr','kernel'], xlog=True, figsize=(4,3),\n",
    "               xticks=[10**-4,10**-3, 10**-2, 10**-1, 1, 10, 100], xlim=[10**-4, 200],\n",
    "               xlabel='Machine-level CPU usage (%)')\n",
    "'''"
   ]
  },
  {
   "cell_type": "code",
   "execution_count": null,
   "metadata": {},
   "outputs": [],
   "source": []
  },
  {
   "cell_type": "code",
   "execution_count": null,
   "metadata": {},
   "outputs": [],
   "source": []
  },
  {
   "cell_type": "code",
   "execution_count": 57,
   "metadata": {},
   "outputs": [],
   "source": [
    "data=dfd"
   ]
  },
  {
   "cell_type": "code",
   "execution_count": 58,
   "metadata": {},
   "outputs": [
    {
     "name": "stdout",
     "output_type": "stream",
     "text": [
      "<class 'pandas.core.frame.DataFrame'>\n",
      "Int64Index: 4934592 entries, 0 to 4934591\n",
      "Data columns (total 25 columns):\n",
      " #   Column           Dtype  \n",
      "---  ------           -----  \n",
      " 0   job_name         object \n",
      " 1   task_name_x      object \n",
      " 2   inst_num         float64\n",
      " 3   status           object \n",
      " 4   start_time       float64\n",
      " 5   end_time         float64\n",
      " 6   plan_cpu         float64\n",
      " 7   plan_mem         float64\n",
      " 8   plan_gpu         float64\n",
      " 9   gpu_type         object \n",
      " 10  task_name_y      object \n",
      " 11  worker_name      object \n",
      " 12  inst_id          object \n",
      " 13  machine          object \n",
      " 14  gpu_name         object \n",
      " 15  cpu_usage        float64\n",
      " 16  gpu_wrk_util     float64\n",
      " 17  avg_mem          float64\n",
      " 18  max_mem          float64\n",
      " 19  avg_gpu_wrk_mem  float64\n",
      " 20  max_gpu_wrk_mem  float64\n",
      " 21  read             float64\n",
      " 22  write            float64\n",
      " 23  read_count       float64\n",
      " 24  write_count      float64\n",
      "dtypes: float64(16), object(9)\n",
      "memory usage: 978.8+ MB\n"
     ]
    }
   ],
   "source": [
    "data.info()"
   ]
  },
  {
   "cell_type": "code",
   "execution_count": 59,
   "metadata": {},
   "outputs": [],
   "source": [
    "data.drop('job_name', axis=1, inplace=True)\n",
    "data.drop('worker_name', axis=1, inplace=True)\n",
    "data.drop('inst_id', axis=1, inplace=True)\n",
    "data.drop('machine', axis=1, inplace=True)"
   ]
  },
  {
   "cell_type": "code",
   "execution_count": 60,
   "metadata": {},
   "outputs": [
    {
     "data": {
      "text/plain": [
       "inst_num             3\n",
       "start_time         133\n",
       "end_time       1380116\n",
       "plan_cpu          1524\n",
       "plan_mem          1524\n",
       "plan_gpu       1861560\n",
       "gpu_type       1860422\n",
       "cpu_usage         7413\n",
       "avg_mem           1470\n",
       "read                 3\n",
       "write                3\n",
       "read_count           3\n",
       "write_count          3\n",
       "dtype: int64"
      ]
     },
     "execution_count": 60,
     "metadata": {},
     "output_type": "execute_result"
    }
   ],
   "source": [
    "null_columns=data.columns[data.isnull().any()]\n",
    "data[null_columns].isnull().sum()"
   ]
  },
  {
   "cell_type": "code",
   "execution_count": 61,
   "metadata": {},
   "outputs": [],
   "source": [
    "Nullvalues=data[data.isnull().any(1)]\n",
    "#Nullvalues['Label'].value_counts()"
   ]
  },
  {
   "cell_type": "code",
   "execution_count": 62,
   "metadata": {},
   "outputs": [],
   "source": [
    "data=data.dropna(axis=0, how='any')"
   ]
  },
  {
   "cell_type": "code",
   "execution_count": 63,
   "metadata": {},
   "outputs": [
    {
     "data": {
      "text/plain": [
       "[]"
      ]
     },
     "execution_count": 63,
     "metadata": {},
     "output_type": "execute_result"
    }
   ],
   "source": [
    "zero_cols = [col for col, is_zero in ((data == 0).sum() == data.shape[0]).items() if is_zero]\n",
    "zero_cols"
   ]
  },
  {
   "cell_type": "code",
   "execution_count": 64,
   "metadata": {},
   "outputs": [
    {
     "name": "stderr",
     "output_type": "stream",
     "text": [
      "C:\\Users\\Dell\\anaconda3\\lib\\site-packages\\pandas\\core\\frame.py:3990: SettingWithCopyWarning: \n",
      "A value is trying to be set on a copy of a slice from a DataFrame\n",
      "\n",
      "See the caveats in the documentation: https://pandas.pydata.org/pandas-docs/stable/user_guide/indexing.html#returning-a-view-versus-a-copy\n",
      "  return super().drop(\n"
     ]
    }
   ],
   "source": [
    "data.drop(zero_cols, axis=1, inplace=True)"
   ]
  },
  {
   "cell_type": "code",
   "execution_count": 65,
   "metadata": {},
   "outputs": [
    {
     "name": "stdout",
     "output_type": "stream",
     "text": [
      "<class 'pandas.core.frame.DataFrame'>\n",
      "Int64Index: 2050484 entries, 0 to 4934590\n",
      "Data columns (total 21 columns):\n",
      " #   Column           Dtype  \n",
      "---  ------           -----  \n",
      " 0   task_name_x      object \n",
      " 1   inst_num         float64\n",
      " 2   status           object \n",
      " 3   start_time       float64\n",
      " 4   end_time         float64\n",
      " 5   plan_cpu         float64\n",
      " 6   plan_mem         float64\n",
      " 7   plan_gpu         float64\n",
      " 8   gpu_type         object \n",
      " 9   task_name_y      object \n",
      " 10  gpu_name         object \n",
      " 11  cpu_usage        float64\n",
      " 12  gpu_wrk_util     float64\n",
      " 13  avg_mem          float64\n",
      " 14  max_mem          float64\n",
      " 15  avg_gpu_wrk_mem  float64\n",
      " 16  max_gpu_wrk_mem  float64\n",
      " 17  read             float64\n",
      " 18  write            float64\n",
      " 19  read_count       float64\n",
      " 20  write_count      float64\n",
      "dtypes: float64(16), object(5)\n",
      "memory usage: 344.2+ MB\n"
     ]
    }
   ],
   "source": [
    "data.info()"
   ]
  },
  {
   "cell_type": "code",
   "execution_count": 66,
   "metadata": {},
   "outputs": [
    {
     "name": "stderr",
     "output_type": "stream",
     "text": [
      "C:\\Users\\Dell\\anaconda3\\lib\\site-packages\\pandas\\core\\generic.py:6746: SettingWithCopyWarning: \n",
      "A value is trying to be set on a copy of a slice from a DataFrame\n",
      "\n",
      "See the caveats in the documentation: https://pandas.pydata.org/pandas-docs/stable/user_guide/indexing.html#returning-a-view-versus-a-copy\n",
      "  self._update_inplace(new_data)\n"
     ]
    }
   ],
   "source": [
    "data[\"task_name_x\"].replace({\"aligraph\": 0, \"BladeMain\": 1, \"chief\": 2, \"DecoderWorker\": 3, \"evaluator\": 4, \"JupyterTask\": 5, \"MWorker\": 6, \"OpenmpiTracker\": 7, \"OpenmpiWorker\": 8, \"OssToVolumeWorker\": 9, \"ps\": 10, \"PyTorchWorker\": 11, \"ReduceTask\": 12, \"TensorboardTask\": 13, \"tensorflow\": 14, \"TfClientWorker\": 15, \"TransformGraph\": 16, \"TVMTuneMain\": 17, \"worker\": 18, \"xComputeWorker\": 19, \"LeadingWorker\": 20}, inplace=True)\n",
    "data[\"status\"].replace({\"Running\": 0, \"Terminated\": 1, \"Failed\": 2, \"Waiting\": 3}, inplace=True)\n",
    "data[\"gpu_type\"].replace({\"MISC\": 0, \"P100\": 1, \"T4\": 2, \"V100\": 3, \"V100M32\": 4}, inplace=True)\n",
    "data[\"task_name_y\"].replace({\"aligraph\": 0, \"BladeMain\": 1, \"chief\": 2, \"DecoderWorker\": 3, \"evaluator\": 4, \"JupyterTask\": 5, \"MWorker\": 6, \"OpenmpiTracker\": 7, \"OpenmpiWorker\": 8, \"OssToVolumeWorker\": 9, \"ps\": 10, \"PyTorchWorker\": 11, \"ReduceTask\": 12, \"TensorboardTask\": 13, \"tensorflow\": 14, \"TfClientWorker\": 15, \"TransformGraph\": 16, \"TVMTuneMain\": 17, \"worker\": 18, \"xComputeWorker\": 19, \"LeadingWorker\": 20}, inplace=True)\n",
    "data[\"gpu_name\"].replace({\"/dev/nvidia0\": 0, \"/dev/nvidia1\": 1, \"/dev/nvidia2\": 2, \"/dev/nvidia3\": 3, \"/dev/nvidia4\": 4, \"/dev/nvidia5\": 5, \"/dev/nvidia6\": 6, \"/dev/nvidia7\": 7}, inplace=True)"
   ]
  },
  {
   "cell_type": "code",
   "execution_count": 67,
   "metadata": {},
   "outputs": [
    {
     "data": {
      "text/plain": [
       "Index(['task_name_x', 'inst_num', 'status', 'start_time', 'end_time',\n",
       "       'plan_cpu', 'plan_mem', 'plan_gpu', 'gpu_type', 'task_name_y',\n",
       "       'gpu_name', 'cpu_usage', 'gpu_wrk_util', 'avg_mem', 'max_mem',\n",
       "       'avg_gpu_wrk_mem', 'max_gpu_wrk_mem', 'read', 'write', 'read_count',\n",
       "       'write_count'],\n",
       "      dtype='object')"
      ]
     },
     "execution_count": 67,
     "metadata": {},
     "output_type": "execute_result"
    }
   ],
   "source": [
    "data.columns"
   ]
  },
  {
   "cell_type": "code",
   "execution_count": 68,
   "metadata": {},
   "outputs": [],
   "source": [
    "x=pd.DataFrame(data, columns=['task_name_x', 'inst_num', 'status', 'start_time', 'end_time', 'plan_cpu', 'plan_mem', \n",
    "                              'plan_gpu', 'gpu_type', 'task_name_y', 'gpu_name','gpu_wrk_util', 'avg_mem', \n",
    "                              'max_mem', 'max_gpu_wrk_mem', 'read', 'write', 'read_count', 'write_count'])"
   ]
  },
  {
   "cell_type": "code",
   "execution_count": 69,
   "metadata": {},
   "outputs": [
    {
     "data": {
      "text/html": [
       "<div>\n",
       "<style scoped>\n",
       "    .dataframe tbody tr th:only-of-type {\n",
       "        vertical-align: middle;\n",
       "    }\n",
       "\n",
       "    .dataframe tbody tr th {\n",
       "        vertical-align: top;\n",
       "    }\n",
       "\n",
       "    .dataframe thead th {\n",
       "        text-align: right;\n",
       "    }\n",
       "</style>\n",
       "<table border=\"1\" class=\"dataframe\">\n",
       "  <thead>\n",
       "    <tr style=\"text-align: right;\">\n",
       "      <th></th>\n",
       "      <th>task_name_x</th>\n",
       "      <th>inst_num</th>\n",
       "      <th>status</th>\n",
       "      <th>start_time</th>\n",
       "      <th>end_time</th>\n",
       "      <th>plan_cpu</th>\n",
       "      <th>plan_mem</th>\n",
       "      <th>plan_gpu</th>\n",
       "      <th>gpu_type</th>\n",
       "      <th>task_name_y</th>\n",
       "      <th>gpu_name</th>\n",
       "      <th>gpu_wrk_util</th>\n",
       "      <th>avg_mem</th>\n",
       "      <th>max_mem</th>\n",
       "      <th>max_gpu_wrk_mem</th>\n",
       "      <th>read</th>\n",
       "      <th>write</th>\n",
       "      <th>read_count</th>\n",
       "      <th>write_count</th>\n",
       "    </tr>\n",
       "  </thead>\n",
       "  <tbody>\n",
       "    <tr>\n",
       "      <th>0</th>\n",
       "      <td>14</td>\n",
       "      <td>1.0</td>\n",
       "      <td>1</td>\n",
       "      <td>2693235.0</td>\n",
       "      <td>2695847.0</td>\n",
       "      <td>600.0</td>\n",
       "      <td>29.296875</td>\n",
       "      <td>50.0</td>\n",
       "      <td>0</td>\n",
       "      <td>14</td>\n",
       "      <td>6</td>\n",
       "      <td>77.468451</td>\n",
       "      <td>24.306558</td>\n",
       "      <td>30.613281</td>\n",
       "      <td>4.354492</td>\n",
       "      <td>3.515053e+08</td>\n",
       "      <td>2.545430e+06</td>\n",
       "      <td>16733.320000</td>\n",
       "      <td>4261.215238</td>\n",
       "    </tr>\n",
       "    <tr>\n",
       "      <th>1</th>\n",
       "      <td>14</td>\n",
       "      <td>1.0</td>\n",
       "      <td>1</td>\n",
       "      <td>3399583.0</td>\n",
       "      <td>3399732.0</td>\n",
       "      <td>600.0</td>\n",
       "      <td>29.296875</td>\n",
       "      <td>100.0</td>\n",
       "      <td>0</td>\n",
       "      <td>14</td>\n",
       "      <td>7</td>\n",
       "      <td>0.333333</td>\n",
       "      <td>1.870295</td>\n",
       "      <td>2.862305</td>\n",
       "      <td>0.836914</td>\n",
       "      <td>8.321684e+08</td>\n",
       "      <td>1.448389e+09</td>\n",
       "      <td>39241.307692</td>\n",
       "      <td>65482.538462</td>\n",
       "    </tr>\n",
       "    <tr>\n",
       "      <th>2</th>\n",
       "      <td>14</td>\n",
       "      <td>1.0</td>\n",
       "      <td>1</td>\n",
       "      <td>2152271.0</td>\n",
       "      <td>2158213.0</td>\n",
       "      <td>600.0</td>\n",
       "      <td>29.296875</td>\n",
       "      <td>50.0</td>\n",
       "      <td>0</td>\n",
       "      <td>14</td>\n",
       "      <td>0</td>\n",
       "      <td>4.408403</td>\n",
       "      <td>12.811959</td>\n",
       "      <td>13.503906</td>\n",
       "      <td>4.258789</td>\n",
       "      <td>8.437303e+06</td>\n",
       "      <td>5.633549e+07</td>\n",
       "      <td>1812.241611</td>\n",
       "      <td>2192.090604</td>\n",
       "    </tr>\n",
       "    <tr>\n",
       "      <th>99</th>\n",
       "      <td>19</td>\n",
       "      <td>1.0</td>\n",
       "      <td>1</td>\n",
       "      <td>2359994.0</td>\n",
       "      <td>2360345.0</td>\n",
       "      <td>1000.0</td>\n",
       "      <td>19.550781</td>\n",
       "      <td>50.0</td>\n",
       "      <td>2</td>\n",
       "      <td>19</td>\n",
       "      <td>0</td>\n",
       "      <td>35.070423</td>\n",
       "      <td>4.682727</td>\n",
       "      <td>5.905273</td>\n",
       "      <td>2.268555</td>\n",
       "      <td>3.759049e+07</td>\n",
       "      <td>3.823712e+07</td>\n",
       "      <td>3085.657534</td>\n",
       "      <td>2476.452055</td>\n",
       "    </tr>\n",
       "    <tr>\n",
       "      <th>100</th>\n",
       "      <td>14</td>\n",
       "      <td>1.0</td>\n",
       "      <td>1</td>\n",
       "      <td>2362291.0</td>\n",
       "      <td>2362331.0</td>\n",
       "      <td>600.0</td>\n",
       "      <td>29.296875</td>\n",
       "      <td>25.0</td>\n",
       "      <td>0</td>\n",
       "      <td>14</td>\n",
       "      <td>0</td>\n",
       "      <td>0.666667</td>\n",
       "      <td>0.438477</td>\n",
       "      <td>1.080078</td>\n",
       "      <td>0.235352</td>\n",
       "      <td>7.681769e+07</td>\n",
       "      <td>7.509876e+07</td>\n",
       "      <td>12181.090909</td>\n",
       "      <td>5211.727273</td>\n",
       "    </tr>\n",
       "    <tr>\n",
       "      <th>...</th>\n",
       "      <td>...</td>\n",
       "      <td>...</td>\n",
       "      <td>...</td>\n",
       "      <td>...</td>\n",
       "      <td>...</td>\n",
       "      <td>...</td>\n",
       "      <td>...</td>\n",
       "      <td>...</td>\n",
       "      <td>...</td>\n",
       "      <td>...</td>\n",
       "      <td>...</td>\n",
       "      <td>...</td>\n",
       "      <td>...</td>\n",
       "      <td>...</td>\n",
       "      <td>...</td>\n",
       "      <td>...</td>\n",
       "      <td>...</td>\n",
       "      <td>...</td>\n",
       "      <td>...</td>\n",
       "    </tr>\n",
       "    <tr>\n",
       "      <th>4934584</th>\n",
       "      <td>11</td>\n",
       "      <td>1.0</td>\n",
       "      <td>1</td>\n",
       "      <td>4725805.0</td>\n",
       "      <td>4726611.0</td>\n",
       "      <td>1600.0</td>\n",
       "      <td>29.296875</td>\n",
       "      <td>100.0</td>\n",
       "      <td>4</td>\n",
       "      <td>11</td>\n",
       "      <td>6</td>\n",
       "      <td>25.341772</td>\n",
       "      <td>16.935255</td>\n",
       "      <td>23.245117</td>\n",
       "      <td>1.077148</td>\n",
       "      <td>1.658300e+09</td>\n",
       "      <td>3.489628e+08</td>\n",
       "      <td>228164.836478</td>\n",
       "      <td>88846.830189</td>\n",
       "    </tr>\n",
       "    <tr>\n",
       "      <th>4934585</th>\n",
       "      <td>11</td>\n",
       "      <td>1.0</td>\n",
       "      <td>1</td>\n",
       "      <td>4787176.0</td>\n",
       "      <td>4790407.0</td>\n",
       "      <td>1800.0</td>\n",
       "      <td>58.593750</td>\n",
       "      <td>100.0</td>\n",
       "      <td>1</td>\n",
       "      <td>11</td>\n",
       "      <td>0</td>\n",
       "      <td>55.527446</td>\n",
       "      <td>6.313233</td>\n",
       "      <td>7.283203</td>\n",
       "      <td>11.360352</td>\n",
       "      <td>1.072721e+08</td>\n",
       "      <td>1.069322e+08</td>\n",
       "      <td>10952.470167</td>\n",
       "      <td>1796.441527</td>\n",
       "    </tr>\n",
       "    <tr>\n",
       "      <th>4934586</th>\n",
       "      <td>14</td>\n",
       "      <td>1.0</td>\n",
       "      <td>1</td>\n",
       "      <td>4795471.0</td>\n",
       "      <td>4796254.0</td>\n",
       "      <td>600.0</td>\n",
       "      <td>29.296875</td>\n",
       "      <td>25.0</td>\n",
       "      <td>2</td>\n",
       "      <td>14</td>\n",
       "      <td>1</td>\n",
       "      <td>3.986667</td>\n",
       "      <td>18.182559</td>\n",
       "      <td>19.453125</td>\n",
       "      <td>0.291992</td>\n",
       "      <td>2.657259e+07</td>\n",
       "      <td>5.477818e+06</td>\n",
       "      <td>1169.256579</td>\n",
       "      <td>523.631579</td>\n",
       "    </tr>\n",
       "    <tr>\n",
       "      <th>4934587</th>\n",
       "      <td>14</td>\n",
       "      <td>1.0</td>\n",
       "      <td>1</td>\n",
       "      <td>4725236.0</td>\n",
       "      <td>4727490.0</td>\n",
       "      <td>100.0</td>\n",
       "      <td>29.296875</td>\n",
       "      <td>25.0</td>\n",
       "      <td>0</td>\n",
       "      <td>14</td>\n",
       "      <td>0</td>\n",
       "      <td>0.000000</td>\n",
       "      <td>3.048873</td>\n",
       "      <td>3.234375</td>\n",
       "      <td>0.200195</td>\n",
       "      <td>7.457338e+08</td>\n",
       "      <td>9.979172e+05</td>\n",
       "      <td>181462.988987</td>\n",
       "      <td>3993.581498</td>\n",
       "    </tr>\n",
       "    <tr>\n",
       "      <th>4934590</th>\n",
       "      <td>14</td>\n",
       "      <td>1.0</td>\n",
       "      <td>1</td>\n",
       "      <td>4732036.0</td>\n",
       "      <td>4739163.0</td>\n",
       "      <td>600.0</td>\n",
       "      <td>29.296875</td>\n",
       "      <td>10.0</td>\n",
       "      <td>0</td>\n",
       "      <td>14</td>\n",
       "      <td>4</td>\n",
       "      <td>0.000000</td>\n",
       "      <td>15.379433</td>\n",
       "      <td>38.113281</td>\n",
       "      <td>0.133789</td>\n",
       "      <td>3.894292e+06</td>\n",
       "      <td>1.146775e+06</td>\n",
       "      <td>2143.480990</td>\n",
       "      <td>979.076923</td>\n",
       "    </tr>\n",
       "  </tbody>\n",
       "</table>\n",
       "<p>2050484 rows × 19 columns</p>\n",
       "</div>"
      ],
      "text/plain": [
       "         task_name_x  inst_num  status  start_time   end_time  plan_cpu  \\\n",
       "0                 14       1.0       1   2693235.0  2695847.0     600.0   \n",
       "1                 14       1.0       1   3399583.0  3399732.0     600.0   \n",
       "2                 14       1.0       1   2152271.0  2158213.0     600.0   \n",
       "99                19       1.0       1   2359994.0  2360345.0    1000.0   \n",
       "100               14       1.0       1   2362291.0  2362331.0     600.0   \n",
       "...              ...       ...     ...         ...        ...       ...   \n",
       "4934584           11       1.0       1   4725805.0  4726611.0    1600.0   \n",
       "4934585           11       1.0       1   4787176.0  4790407.0    1800.0   \n",
       "4934586           14       1.0       1   4795471.0  4796254.0     600.0   \n",
       "4934587           14       1.0       1   4725236.0  4727490.0     100.0   \n",
       "4934590           14       1.0       1   4732036.0  4739163.0     600.0   \n",
       "\n",
       "          plan_mem  plan_gpu  gpu_type  task_name_y  gpu_name  gpu_wrk_util  \\\n",
       "0        29.296875      50.0         0           14         6     77.468451   \n",
       "1        29.296875     100.0         0           14         7      0.333333   \n",
       "2        29.296875      50.0         0           14         0      4.408403   \n",
       "99       19.550781      50.0         2           19         0     35.070423   \n",
       "100      29.296875      25.0         0           14         0      0.666667   \n",
       "...            ...       ...       ...          ...       ...           ...   \n",
       "4934584  29.296875     100.0         4           11         6     25.341772   \n",
       "4934585  58.593750     100.0         1           11         0     55.527446   \n",
       "4934586  29.296875      25.0         2           14         1      3.986667   \n",
       "4934587  29.296875      25.0         0           14         0      0.000000   \n",
       "4934590  29.296875      10.0         0           14         4      0.000000   \n",
       "\n",
       "           avg_mem    max_mem  max_gpu_wrk_mem          read         write  \\\n",
       "0        24.306558  30.613281         4.354492  3.515053e+08  2.545430e+06   \n",
       "1         1.870295   2.862305         0.836914  8.321684e+08  1.448389e+09   \n",
       "2        12.811959  13.503906         4.258789  8.437303e+06  5.633549e+07   \n",
       "99        4.682727   5.905273         2.268555  3.759049e+07  3.823712e+07   \n",
       "100       0.438477   1.080078         0.235352  7.681769e+07  7.509876e+07   \n",
       "...            ...        ...              ...           ...           ...   \n",
       "4934584  16.935255  23.245117         1.077148  1.658300e+09  3.489628e+08   \n",
       "4934585   6.313233   7.283203        11.360352  1.072721e+08  1.069322e+08   \n",
       "4934586  18.182559  19.453125         0.291992  2.657259e+07  5.477818e+06   \n",
       "4934587   3.048873   3.234375         0.200195  7.457338e+08  9.979172e+05   \n",
       "4934590  15.379433  38.113281         0.133789  3.894292e+06  1.146775e+06   \n",
       "\n",
       "            read_count   write_count  \n",
       "0         16733.320000   4261.215238  \n",
       "1         39241.307692  65482.538462  \n",
       "2          1812.241611   2192.090604  \n",
       "99         3085.657534   2476.452055  \n",
       "100       12181.090909   5211.727273  \n",
       "...                ...           ...  \n",
       "4934584  228164.836478  88846.830189  \n",
       "4934585   10952.470167   1796.441527  \n",
       "4934586    1169.256579    523.631579  \n",
       "4934587  181462.988987   3993.581498  \n",
       "4934590    2143.480990    979.076923  \n",
       "\n",
       "[2050484 rows x 19 columns]"
      ]
     },
     "execution_count": 69,
     "metadata": {},
     "output_type": "execute_result"
    }
   ],
   "source": [
    "x"
   ]
  },
  {
   "cell_type": "code",
   "execution_count": 70,
   "metadata": {},
   "outputs": [],
   "source": [
    "y=pd.DataFrame(data, columns=['avg_gpu_wrk_mem'])\n",
    "#y=data.columns['cpu_usage', 'memory_usage']"
   ]
  },
  {
   "cell_type": "code",
   "execution_count": 71,
   "metadata": {},
   "outputs": [
    {
     "data": {
      "text/html": [
       "<div>\n",
       "<style scoped>\n",
       "    .dataframe tbody tr th:only-of-type {\n",
       "        vertical-align: middle;\n",
       "    }\n",
       "\n",
       "    .dataframe tbody tr th {\n",
       "        vertical-align: top;\n",
       "    }\n",
       "\n",
       "    .dataframe thead th {\n",
       "        text-align: right;\n",
       "    }\n",
       "</style>\n",
       "<table border=\"1\" class=\"dataframe\">\n",
       "  <thead>\n",
       "    <tr style=\"text-align: right;\">\n",
       "      <th></th>\n",
       "      <th>avg_gpu_wrk_mem</th>\n",
       "    </tr>\n",
       "  </thead>\n",
       "  <tbody>\n",
       "    <tr>\n",
       "      <th>0</th>\n",
       "      <td>4.184025</td>\n",
       "    </tr>\n",
       "    <tr>\n",
       "      <th>1</th>\n",
       "      <td>0.069743</td>\n",
       "    </tr>\n",
       "    <tr>\n",
       "      <th>2</th>\n",
       "      <td>4.212840</td>\n",
       "    </tr>\n",
       "    <tr>\n",
       "      <th>99</th>\n",
       "      <td>1.727704</td>\n",
       "    </tr>\n",
       "    <tr>\n",
       "      <th>100</th>\n",
       "      <td>0.183051</td>\n",
       "    </tr>\n",
       "    <tr>\n",
       "      <th>...</th>\n",
       "      <td>...</td>\n",
       "    </tr>\n",
       "    <tr>\n",
       "      <th>4934584</th>\n",
       "      <td>1.053903</td>\n",
       "    </tr>\n",
       "    <tr>\n",
       "      <th>4934585</th>\n",
       "      <td>10.578787</td>\n",
       "    </tr>\n",
       "    <tr>\n",
       "      <th>4934586</th>\n",
       "      <td>0.287865</td>\n",
       "    </tr>\n",
       "    <tr>\n",
       "      <th>4934587</th>\n",
       "      <td>0.198406</td>\n",
       "    </tr>\n",
       "    <tr>\n",
       "      <th>4934590</th>\n",
       "      <td>0.133434</td>\n",
       "    </tr>\n",
       "  </tbody>\n",
       "</table>\n",
       "<p>2050484 rows × 1 columns</p>\n",
       "</div>"
      ],
      "text/plain": [
       "         avg_gpu_wrk_mem\n",
       "0               4.184025\n",
       "1               0.069743\n",
       "2               4.212840\n",
       "99              1.727704\n",
       "100             0.183051\n",
       "...                  ...\n",
       "4934584         1.053903\n",
       "4934585        10.578787\n",
       "4934586         0.287865\n",
       "4934587         0.198406\n",
       "4934590         0.133434\n",
       "\n",
       "[2050484 rows x 1 columns]"
      ]
     },
     "execution_count": 71,
     "metadata": {},
     "output_type": "execute_result"
    }
   ],
   "source": [
    "y"
   ]
  },
  {
   "cell_type": "code",
   "execution_count": 72,
   "metadata": {},
   "outputs": [],
   "source": [
    "from sklearn.model_selection import train_test_split"
   ]
  },
  {
   "cell_type": "code",
   "execution_count": 73,
   "metadata": {},
   "outputs": [],
   "source": [
    "x_train, x_test, y_train, y_test = train_test_split(x,y,test_size=0.2)"
   ]
  },
  {
   "cell_type": "code",
   "execution_count": 74,
   "metadata": {},
   "outputs": [
    {
     "data": {
      "text/plain": [
       "(1640387, 19)"
      ]
     },
     "execution_count": 74,
     "metadata": {},
     "output_type": "execute_result"
    }
   ],
   "source": [
    "x_train.shape"
   ]
  },
  {
   "cell_type": "code",
   "execution_count": 75,
   "metadata": {},
   "outputs": [
    {
     "data": {
      "text/plain": [
       "(410097, 19)"
      ]
     },
     "execution_count": 75,
     "metadata": {},
     "output_type": "execute_result"
    }
   ],
   "source": [
    "x_test.shape"
   ]
  },
  {
   "cell_type": "code",
   "execution_count": 76,
   "metadata": {},
   "outputs": [
    {
     "data": {
      "text/plain": [
       "(1640387, 1)"
      ]
     },
     "execution_count": 76,
     "metadata": {},
     "output_type": "execute_result"
    }
   ],
   "source": [
    "y_train.shape"
   ]
  },
  {
   "cell_type": "code",
   "execution_count": 77,
   "metadata": {},
   "outputs": [
    {
     "data": {
      "text/plain": [
       "(410097, 1)"
      ]
     },
     "execution_count": 77,
     "metadata": {},
     "output_type": "execute_result"
    }
   ],
   "source": [
    "y_test.shape"
   ]
  },
  {
   "cell_type": "code",
   "execution_count": 78,
   "metadata": {},
   "outputs": [
    {
     "data": {
      "text/html": [
       "<div>\n",
       "<style scoped>\n",
       "    .dataframe tbody tr th:only-of-type {\n",
       "        vertical-align: middle;\n",
       "    }\n",
       "\n",
       "    .dataframe tbody tr th {\n",
       "        vertical-align: top;\n",
       "    }\n",
       "\n",
       "    .dataframe thead th {\n",
       "        text-align: right;\n",
       "    }\n",
       "</style>\n",
       "<table border=\"1\" class=\"dataframe\">\n",
       "  <thead>\n",
       "    <tr style=\"text-align: right;\">\n",
       "      <th></th>\n",
       "      <th>avg_gpu_wrk_mem</th>\n",
       "    </tr>\n",
       "  </thead>\n",
       "  <tbody>\n",
       "    <tr>\n",
       "      <th>4129365</th>\n",
       "      <td>1.220465</td>\n",
       "    </tr>\n",
       "    <tr>\n",
       "      <th>1295589</th>\n",
       "      <td>0.387285</td>\n",
       "    </tr>\n",
       "    <tr>\n",
       "      <th>682202</th>\n",
       "      <td>0.229042</td>\n",
       "    </tr>\n",
       "    <tr>\n",
       "      <th>3934764</th>\n",
       "      <td>0.274247</td>\n",
       "    </tr>\n",
       "    <tr>\n",
       "      <th>76219</th>\n",
       "      <td>0.529555</td>\n",
       "    </tr>\n",
       "    <tr>\n",
       "      <th>...</th>\n",
       "      <td>...</td>\n",
       "    </tr>\n",
       "    <tr>\n",
       "      <th>3872841</th>\n",
       "      <td>2.487072</td>\n",
       "    </tr>\n",
       "    <tr>\n",
       "      <th>152489</th>\n",
       "      <td>0.401967</td>\n",
       "    </tr>\n",
       "    <tr>\n",
       "      <th>3273695</th>\n",
       "      <td>1.941579</td>\n",
       "    </tr>\n",
       "    <tr>\n",
       "      <th>4430406</th>\n",
       "      <td>0.000000</td>\n",
       "    </tr>\n",
       "    <tr>\n",
       "      <th>2169042</th>\n",
       "      <td>2.256132</td>\n",
       "    </tr>\n",
       "  </tbody>\n",
       "</table>\n",
       "<p>410097 rows × 1 columns</p>\n",
       "</div>"
      ],
      "text/plain": [
       "         avg_gpu_wrk_mem\n",
       "4129365         1.220465\n",
       "1295589         0.387285\n",
       "682202          0.229042\n",
       "3934764         0.274247\n",
       "76219           0.529555\n",
       "...                  ...\n",
       "3872841         2.487072\n",
       "152489          0.401967\n",
       "3273695         1.941579\n",
       "4430406         0.000000\n",
       "2169042         2.256132\n",
       "\n",
       "[410097 rows x 1 columns]"
      ]
     },
     "execution_count": 78,
     "metadata": {},
     "output_type": "execute_result"
    }
   ],
   "source": [
    "y_test"
   ]
  },
  {
   "cell_type": "code",
   "execution_count": 79,
   "metadata": {},
   "outputs": [],
   "source": [
    "from sklearn.preprocessing import QuantileTransformer"
   ]
  },
  {
   "cell_type": "code",
   "execution_count": 80,
   "metadata": {},
   "outputs": [],
   "source": [
    "qt = QuantileTransformer()"
   ]
  },
  {
   "cell_type": "code",
   "execution_count": 81,
   "metadata": {},
   "outputs": [],
   "source": [
    "x_train = qt.fit_transform(x_train)"
   ]
  },
  {
   "cell_type": "code",
   "execution_count": 82,
   "metadata": {},
   "outputs": [],
   "source": [
    "x_test = qt.fit_transform(x_test)"
   ]
  },
  {
   "cell_type": "code",
   "execution_count": 83,
   "metadata": {},
   "outputs": [],
   "source": [
    "y_train = qt.fit_transform(y_train)\n",
    "y_test = qt.fit_transform(y_test)"
   ]
  },
  {
   "cell_type": "code",
   "execution_count": 84,
   "metadata": {},
   "outputs": [],
   "source": [
    "from sklearn.ensemble import RandomForestRegressor"
   ]
  },
  {
   "cell_type": "code",
   "execution_count": 85,
   "metadata": {},
   "outputs": [],
   "source": [
    "RFclassifier = RandomForestRegressor(n_estimators=20, random_state=0)"
   ]
  },
  {
   "cell_type": "code",
   "execution_count": 86,
   "metadata": {},
   "outputs": [
    {
     "name": "stderr",
     "output_type": "stream",
     "text": [
      "<ipython-input-86-26fe8bfdaa4f>:1: DataConversionWarning: A column-vector y was passed when a 1d array was expected. Please change the shape of y to (n_samples,), for example using ravel().\n",
      "  RFclassifier.fit(x_train, y_train)\n"
     ]
    },
    {
     "data": {
      "text/html": [
       "<style>#sk-container-id-1 {color: black;background-color: white;}#sk-container-id-1 pre{padding: 0;}#sk-container-id-1 div.sk-toggleable {background-color: white;}#sk-container-id-1 label.sk-toggleable__label {cursor: pointer;display: block;width: 100%;margin-bottom: 0;padding: 0.3em;box-sizing: border-box;text-align: center;}#sk-container-id-1 label.sk-toggleable__label-arrow:before {content: \"▸\";float: left;margin-right: 0.25em;color: #696969;}#sk-container-id-1 label.sk-toggleable__label-arrow:hover:before {color: black;}#sk-container-id-1 div.sk-estimator:hover label.sk-toggleable__label-arrow:before {color: black;}#sk-container-id-1 div.sk-toggleable__content {max-height: 0;max-width: 0;overflow: hidden;text-align: left;background-color: #f0f8ff;}#sk-container-id-1 div.sk-toggleable__content pre {margin: 0.2em;color: black;border-radius: 0.25em;background-color: #f0f8ff;}#sk-container-id-1 input.sk-toggleable__control:checked~div.sk-toggleable__content {max-height: 200px;max-width: 100%;overflow: auto;}#sk-container-id-1 input.sk-toggleable__control:checked~label.sk-toggleable__label-arrow:before {content: \"▾\";}#sk-container-id-1 div.sk-estimator input.sk-toggleable__control:checked~label.sk-toggleable__label {background-color: #d4ebff;}#sk-container-id-1 div.sk-label input.sk-toggleable__control:checked~label.sk-toggleable__label {background-color: #d4ebff;}#sk-container-id-1 input.sk-hidden--visually {border: 0;clip: rect(1px 1px 1px 1px);clip: rect(1px, 1px, 1px, 1px);height: 1px;margin: -1px;overflow: hidden;padding: 0;position: absolute;width: 1px;}#sk-container-id-1 div.sk-estimator {font-family: monospace;background-color: #f0f8ff;border: 1px dotted black;border-radius: 0.25em;box-sizing: border-box;margin-bottom: 0.5em;}#sk-container-id-1 div.sk-estimator:hover {background-color: #d4ebff;}#sk-container-id-1 div.sk-parallel-item::after {content: \"\";width: 100%;border-bottom: 1px solid gray;flex-grow: 1;}#sk-container-id-1 div.sk-label:hover label.sk-toggleable__label {background-color: #d4ebff;}#sk-container-id-1 div.sk-serial::before {content: \"\";position: absolute;border-left: 1px solid gray;box-sizing: border-box;top: 0;bottom: 0;left: 50%;z-index: 0;}#sk-container-id-1 div.sk-serial {display: flex;flex-direction: column;align-items: center;background-color: white;padding-right: 0.2em;padding-left: 0.2em;position: relative;}#sk-container-id-1 div.sk-item {position: relative;z-index: 1;}#sk-container-id-1 div.sk-parallel {display: flex;align-items: stretch;justify-content: center;background-color: white;position: relative;}#sk-container-id-1 div.sk-item::before, #sk-container-id-1 div.sk-parallel-item::before {content: \"\";position: absolute;border-left: 1px solid gray;box-sizing: border-box;top: 0;bottom: 0;left: 50%;z-index: -1;}#sk-container-id-1 div.sk-parallel-item {display: flex;flex-direction: column;z-index: 1;position: relative;background-color: white;}#sk-container-id-1 div.sk-parallel-item:first-child::after {align-self: flex-end;width: 50%;}#sk-container-id-1 div.sk-parallel-item:last-child::after {align-self: flex-start;width: 50%;}#sk-container-id-1 div.sk-parallel-item:only-child::after {width: 0;}#sk-container-id-1 div.sk-dashed-wrapped {border: 1px dashed gray;margin: 0 0.4em 0.5em 0.4em;box-sizing: border-box;padding-bottom: 0.4em;background-color: white;}#sk-container-id-1 div.sk-label label {font-family: monospace;font-weight: bold;display: inline-block;line-height: 1.2em;}#sk-container-id-1 div.sk-label-container {text-align: center;}#sk-container-id-1 div.sk-container {/* jupyter's `normalize.less` sets `[hidden] { display: none; }` but bootstrap.min.css set `[hidden] { display: none !important; }` so we also need the `!important` here to be able to override the default hidden behavior on the sphinx rendered scikit-learn.org. See: https://github.com/scikit-learn/scikit-learn/issues/21755 */display: inline-block !important;position: relative;}#sk-container-id-1 div.sk-text-repr-fallback {display: none;}</style><div id=\"sk-container-id-1\" class=\"sk-top-container\"><div class=\"sk-text-repr-fallback\"><pre>RandomForestRegressor(n_estimators=20, random_state=0)</pre><b>In a Jupyter environment, please rerun this cell to show the HTML representation or trust the notebook. <br />On GitHub, the HTML representation is unable to render, please try loading this page with nbviewer.org.</b></div><div class=\"sk-container\" hidden><div class=\"sk-item\"><div class=\"sk-estimator sk-toggleable\"><input class=\"sk-toggleable__control sk-hidden--visually\" id=\"sk-estimator-id-1\" type=\"checkbox\" checked><label for=\"sk-estimator-id-1\" class=\"sk-toggleable__label sk-toggleable__label-arrow\">RandomForestRegressor</label><div class=\"sk-toggleable__content\"><pre>RandomForestRegressor(n_estimators=20, random_state=0)</pre></div></div></div></div></div>"
      ],
      "text/plain": [
       "RandomForestRegressor(n_estimators=20, random_state=0)"
      ]
     },
     "execution_count": 86,
     "metadata": {},
     "output_type": "execute_result"
    }
   ],
   "source": [
    "RFclassifier.fit(x_train, y_train)"
   ]
  },
  {
   "cell_type": "code",
   "execution_count": 87,
   "metadata": {},
   "outputs": [],
   "source": [
    "y_pred = RFclassifier.predict(x_test)"
   ]
  },
  {
   "cell_type": "code",
   "execution_count": 88,
   "metadata": {},
   "outputs": [
    {
     "data": {
      "text/plain": [
       "array([0.61671129, 0.34900874, 0.23509758, ..., 0.70616542, 0.        ,\n",
       "       0.75625378])"
      ]
     },
     "execution_count": 88,
     "metadata": {},
     "output_type": "execute_result"
    }
   ],
   "source": [
    "y_pred"
   ]
  },
  {
   "cell_type": "code",
   "execution_count": 89,
   "metadata": {},
   "outputs": [
    {
     "data": {
      "text/plain": [
       "array([[0.61946492],\n",
       "       [0.37247759],\n",
       "       [0.2333955 ],\n",
       "       ...,\n",
       "       [0.71164982],\n",
       "       [0.        ],\n",
       "       [0.75794224]])"
      ]
     },
     "execution_count": 89,
     "metadata": {},
     "output_type": "execute_result"
    }
   ],
   "source": [
    "y_test"
   ]
  },
  {
   "cell_type": "code",
   "execution_count": 90,
   "metadata": {},
   "outputs": [
    {
     "data": {
      "text/plain": [
       "0.9939064513270593"
      ]
     },
     "execution_count": 90,
     "metadata": {},
     "output_type": "execute_result"
    }
   ],
   "source": [
    "RFclassifier.score(x_test, y_test)"
   ]
  },
  {
   "cell_type": "code",
   "execution_count": 91,
   "metadata": {},
   "outputs": [],
   "source": [
    "from sklearn.metrics import mean_squared_error"
   ]
  },
  {
   "cell_type": "code",
   "execution_count": 92,
   "metadata": {},
   "outputs": [],
   "source": [
    "# Calculate mean squared error\n",
    "mse = mean_squared_error(y_test, y_pred)"
   ]
  },
  {
   "cell_type": "code",
   "execution_count": 93,
   "metadata": {},
   "outputs": [
    {
     "data": {
      "text/plain": [
       "0.0005253594202626307"
      ]
     },
     "execution_count": 93,
     "metadata": {},
     "output_type": "execute_result"
    }
   ],
   "source": [
    "mse"
   ]
  },
  {
   "cell_type": "code",
   "execution_count": 94,
   "metadata": {},
   "outputs": [
    {
     "name": "stdout",
     "output_type": "stream",
     "text": [
      "Mean Squared Error: 0.0005253594202626307\n"
     ]
    }
   ],
   "source": [
    "print(\"Mean Squared Error:\", mse)"
   ]
  },
  {
   "cell_type": "code",
   "execution_count": null,
   "metadata": {},
   "outputs": [],
   "source": []
  },
  {
   "cell_type": "code",
   "execution_count": 95,
   "metadata": {},
   "outputs": [],
   "source": [
    "from sklearn.neighbors import KNeighborsRegressor"
   ]
  },
  {
   "cell_type": "code",
   "execution_count": 96,
   "metadata": {},
   "outputs": [],
   "source": [
    "KNNclassifier = KNeighborsRegressor(n_neighbors=5)"
   ]
  },
  {
   "cell_type": "code",
   "execution_count": 97,
   "metadata": {},
   "outputs": [
    {
     "data": {
      "text/html": [
       "<style>#sk-container-id-2 {color: black;background-color: white;}#sk-container-id-2 pre{padding: 0;}#sk-container-id-2 div.sk-toggleable {background-color: white;}#sk-container-id-2 label.sk-toggleable__label {cursor: pointer;display: block;width: 100%;margin-bottom: 0;padding: 0.3em;box-sizing: border-box;text-align: center;}#sk-container-id-2 label.sk-toggleable__label-arrow:before {content: \"▸\";float: left;margin-right: 0.25em;color: #696969;}#sk-container-id-2 label.sk-toggleable__label-arrow:hover:before {color: black;}#sk-container-id-2 div.sk-estimator:hover label.sk-toggleable__label-arrow:before {color: black;}#sk-container-id-2 div.sk-toggleable__content {max-height: 0;max-width: 0;overflow: hidden;text-align: left;background-color: #f0f8ff;}#sk-container-id-2 div.sk-toggleable__content pre {margin: 0.2em;color: black;border-radius: 0.25em;background-color: #f0f8ff;}#sk-container-id-2 input.sk-toggleable__control:checked~div.sk-toggleable__content {max-height: 200px;max-width: 100%;overflow: auto;}#sk-container-id-2 input.sk-toggleable__control:checked~label.sk-toggleable__label-arrow:before {content: \"▾\";}#sk-container-id-2 div.sk-estimator input.sk-toggleable__control:checked~label.sk-toggleable__label {background-color: #d4ebff;}#sk-container-id-2 div.sk-label input.sk-toggleable__control:checked~label.sk-toggleable__label {background-color: #d4ebff;}#sk-container-id-2 input.sk-hidden--visually {border: 0;clip: rect(1px 1px 1px 1px);clip: rect(1px, 1px, 1px, 1px);height: 1px;margin: -1px;overflow: hidden;padding: 0;position: absolute;width: 1px;}#sk-container-id-2 div.sk-estimator {font-family: monospace;background-color: #f0f8ff;border: 1px dotted black;border-radius: 0.25em;box-sizing: border-box;margin-bottom: 0.5em;}#sk-container-id-2 div.sk-estimator:hover {background-color: #d4ebff;}#sk-container-id-2 div.sk-parallel-item::after {content: \"\";width: 100%;border-bottom: 1px solid gray;flex-grow: 1;}#sk-container-id-2 div.sk-label:hover label.sk-toggleable__label {background-color: #d4ebff;}#sk-container-id-2 div.sk-serial::before {content: \"\";position: absolute;border-left: 1px solid gray;box-sizing: border-box;top: 0;bottom: 0;left: 50%;z-index: 0;}#sk-container-id-2 div.sk-serial {display: flex;flex-direction: column;align-items: center;background-color: white;padding-right: 0.2em;padding-left: 0.2em;position: relative;}#sk-container-id-2 div.sk-item {position: relative;z-index: 1;}#sk-container-id-2 div.sk-parallel {display: flex;align-items: stretch;justify-content: center;background-color: white;position: relative;}#sk-container-id-2 div.sk-item::before, #sk-container-id-2 div.sk-parallel-item::before {content: \"\";position: absolute;border-left: 1px solid gray;box-sizing: border-box;top: 0;bottom: 0;left: 50%;z-index: -1;}#sk-container-id-2 div.sk-parallel-item {display: flex;flex-direction: column;z-index: 1;position: relative;background-color: white;}#sk-container-id-2 div.sk-parallel-item:first-child::after {align-self: flex-end;width: 50%;}#sk-container-id-2 div.sk-parallel-item:last-child::after {align-self: flex-start;width: 50%;}#sk-container-id-2 div.sk-parallel-item:only-child::after {width: 0;}#sk-container-id-2 div.sk-dashed-wrapped {border: 1px dashed gray;margin: 0 0.4em 0.5em 0.4em;box-sizing: border-box;padding-bottom: 0.4em;background-color: white;}#sk-container-id-2 div.sk-label label {font-family: monospace;font-weight: bold;display: inline-block;line-height: 1.2em;}#sk-container-id-2 div.sk-label-container {text-align: center;}#sk-container-id-2 div.sk-container {/* jupyter's `normalize.less` sets `[hidden] { display: none; }` but bootstrap.min.css set `[hidden] { display: none !important; }` so we also need the `!important` here to be able to override the default hidden behavior on the sphinx rendered scikit-learn.org. See: https://github.com/scikit-learn/scikit-learn/issues/21755 */display: inline-block !important;position: relative;}#sk-container-id-2 div.sk-text-repr-fallback {display: none;}</style><div id=\"sk-container-id-2\" class=\"sk-top-container\"><div class=\"sk-text-repr-fallback\"><pre>KNeighborsRegressor()</pre><b>In a Jupyter environment, please rerun this cell to show the HTML representation or trust the notebook. <br />On GitHub, the HTML representation is unable to render, please try loading this page with nbviewer.org.</b></div><div class=\"sk-container\" hidden><div class=\"sk-item\"><div class=\"sk-estimator sk-toggleable\"><input class=\"sk-toggleable__control sk-hidden--visually\" id=\"sk-estimator-id-2\" type=\"checkbox\" checked><label for=\"sk-estimator-id-2\" class=\"sk-toggleable__label sk-toggleable__label-arrow\">KNeighborsRegressor</label><div class=\"sk-toggleable__content\"><pre>KNeighborsRegressor()</pre></div></div></div></div></div>"
      ],
      "text/plain": [
       "KNeighborsRegressor()"
      ]
     },
     "execution_count": 97,
     "metadata": {},
     "output_type": "execute_result"
    }
   ],
   "source": [
    "KNNclassifier.fit(x_train, y_train)"
   ]
  },
  {
   "cell_type": "code",
   "execution_count": 98,
   "metadata": {},
   "outputs": [],
   "source": [
    "y_pred = KNNclassifier.predict(x_test)"
   ]
  },
  {
   "cell_type": "code",
   "execution_count": 99,
   "metadata": {},
   "outputs": [
    {
     "data": {
      "text/plain": [
       "array([[0.61941888],\n",
       "       [0.35454871],\n",
       "       [0.22775679],\n",
       "       ...,\n",
       "       [0.70153947],\n",
       "       [0.        ],\n",
       "       [0.7577489 ]])"
      ]
     },
     "execution_count": 99,
     "metadata": {},
     "output_type": "execute_result"
    }
   ],
   "source": [
    "y_pred"
   ]
  },
  {
   "cell_type": "code",
   "execution_count": 100,
   "metadata": {},
   "outputs": [
    {
     "data": {
      "text/plain": [
       "0.9892482379689101"
      ]
     },
     "execution_count": 100,
     "metadata": {},
     "output_type": "execute_result"
    }
   ],
   "source": [
    "KNNclassifier.score(x_test, y_test)"
   ]
  },
  {
   "cell_type": "code",
   "execution_count": 101,
   "metadata": {},
   "outputs": [],
   "source": [
    "# Calculate mean squared error\n",
    "mse = mean_squared_error(y_test, y_pred)"
   ]
  },
  {
   "cell_type": "code",
   "execution_count": 102,
   "metadata": {},
   "outputs": [
    {
     "name": "stdout",
     "output_type": "stream",
     "text": [
      "Mean Squared Error: 0.0009269704355589006\n"
     ]
    }
   ],
   "source": [
    "print(\"Mean Squared Error:\", mse)"
   ]
  },
  {
   "cell_type": "code",
   "execution_count": null,
   "metadata": {},
   "outputs": [],
   "source": []
  },
  {
   "cell_type": "code",
   "execution_count": 103,
   "metadata": {},
   "outputs": [],
   "source": [
    "from sklearn.neural_network import MLPRegressor"
   ]
  },
  {
   "cell_type": "code",
   "execution_count": 104,
   "metadata": {},
   "outputs": [
    {
     "name": "stderr",
     "output_type": "stream",
     "text": [
      "C:\\Users\\Dell\\anaconda3\\lib\\site-packages\\sklearn\\neural_network\\_multilayer_perceptron.py:1607: DataConversionWarning: A column-vector y was passed when a 1d array was expected. Please change the shape of y to (n_samples, ), for example using ravel().\n",
      "  y = column_or_1d(y, warn=True)\n"
     ]
    },
    {
     "name": "stdout",
     "output_type": "stream",
     "text": [
      "Wall time: 1min 59s\n"
     ]
    }
   ],
   "source": [
    "%%time\n",
    "MLPclassifier = MLPRegressor(hidden_layer_sizes=(11,11,11), max_iter=500, activation='relu', batch_size='auto', learning_rate_init=0.001).fit(x_train, y_train)"
   ]
  },
  {
   "cell_type": "code",
   "execution_count": 105,
   "metadata": {},
   "outputs": [
    {
     "name": "stderr",
     "output_type": "stream",
     "text": [
      "C:\\Users\\Dell\\anaconda3\\lib\\site-packages\\sklearn\\neural_network\\_multilayer_perceptron.py:1607: DataConversionWarning: A column-vector y was passed when a 1d array was expected. Please change the shape of y to (n_samples, ), for example using ravel().\n",
      "  y = column_or_1d(y, warn=True)\n"
     ]
    },
    {
     "data": {
      "text/html": [
       "<style>#sk-container-id-3 {color: black;background-color: white;}#sk-container-id-3 pre{padding: 0;}#sk-container-id-3 div.sk-toggleable {background-color: white;}#sk-container-id-3 label.sk-toggleable__label {cursor: pointer;display: block;width: 100%;margin-bottom: 0;padding: 0.3em;box-sizing: border-box;text-align: center;}#sk-container-id-3 label.sk-toggleable__label-arrow:before {content: \"▸\";float: left;margin-right: 0.25em;color: #696969;}#sk-container-id-3 label.sk-toggleable__label-arrow:hover:before {color: black;}#sk-container-id-3 div.sk-estimator:hover label.sk-toggleable__label-arrow:before {color: black;}#sk-container-id-3 div.sk-toggleable__content {max-height: 0;max-width: 0;overflow: hidden;text-align: left;background-color: #f0f8ff;}#sk-container-id-3 div.sk-toggleable__content pre {margin: 0.2em;color: black;border-radius: 0.25em;background-color: #f0f8ff;}#sk-container-id-3 input.sk-toggleable__control:checked~div.sk-toggleable__content {max-height: 200px;max-width: 100%;overflow: auto;}#sk-container-id-3 input.sk-toggleable__control:checked~label.sk-toggleable__label-arrow:before {content: \"▾\";}#sk-container-id-3 div.sk-estimator input.sk-toggleable__control:checked~label.sk-toggleable__label {background-color: #d4ebff;}#sk-container-id-3 div.sk-label input.sk-toggleable__control:checked~label.sk-toggleable__label {background-color: #d4ebff;}#sk-container-id-3 input.sk-hidden--visually {border: 0;clip: rect(1px 1px 1px 1px);clip: rect(1px, 1px, 1px, 1px);height: 1px;margin: -1px;overflow: hidden;padding: 0;position: absolute;width: 1px;}#sk-container-id-3 div.sk-estimator {font-family: monospace;background-color: #f0f8ff;border: 1px dotted black;border-radius: 0.25em;box-sizing: border-box;margin-bottom: 0.5em;}#sk-container-id-3 div.sk-estimator:hover {background-color: #d4ebff;}#sk-container-id-3 div.sk-parallel-item::after {content: \"\";width: 100%;border-bottom: 1px solid gray;flex-grow: 1;}#sk-container-id-3 div.sk-label:hover label.sk-toggleable__label {background-color: #d4ebff;}#sk-container-id-3 div.sk-serial::before {content: \"\";position: absolute;border-left: 1px solid gray;box-sizing: border-box;top: 0;bottom: 0;left: 50%;z-index: 0;}#sk-container-id-3 div.sk-serial {display: flex;flex-direction: column;align-items: center;background-color: white;padding-right: 0.2em;padding-left: 0.2em;position: relative;}#sk-container-id-3 div.sk-item {position: relative;z-index: 1;}#sk-container-id-3 div.sk-parallel {display: flex;align-items: stretch;justify-content: center;background-color: white;position: relative;}#sk-container-id-3 div.sk-item::before, #sk-container-id-3 div.sk-parallel-item::before {content: \"\";position: absolute;border-left: 1px solid gray;box-sizing: border-box;top: 0;bottom: 0;left: 50%;z-index: -1;}#sk-container-id-3 div.sk-parallel-item {display: flex;flex-direction: column;z-index: 1;position: relative;background-color: white;}#sk-container-id-3 div.sk-parallel-item:first-child::after {align-self: flex-end;width: 50%;}#sk-container-id-3 div.sk-parallel-item:last-child::after {align-self: flex-start;width: 50%;}#sk-container-id-3 div.sk-parallel-item:only-child::after {width: 0;}#sk-container-id-3 div.sk-dashed-wrapped {border: 1px dashed gray;margin: 0 0.4em 0.5em 0.4em;box-sizing: border-box;padding-bottom: 0.4em;background-color: white;}#sk-container-id-3 div.sk-label label {font-family: monospace;font-weight: bold;display: inline-block;line-height: 1.2em;}#sk-container-id-3 div.sk-label-container {text-align: center;}#sk-container-id-3 div.sk-container {/* jupyter's `normalize.less` sets `[hidden] { display: none; }` but bootstrap.min.css set `[hidden] { display: none !important; }` so we also need the `!important` here to be able to override the default hidden behavior on the sphinx rendered scikit-learn.org. See: https://github.com/scikit-learn/scikit-learn/issues/21755 */display: inline-block !important;position: relative;}#sk-container-id-3 div.sk-text-repr-fallback {display: none;}</style><div id=\"sk-container-id-3\" class=\"sk-top-container\"><div class=\"sk-text-repr-fallback\"><pre>MLPRegressor(hidden_layer_sizes=(11, 11, 11), max_iter=500)</pre><b>In a Jupyter environment, please rerun this cell to show the HTML representation or trust the notebook. <br />On GitHub, the HTML representation is unable to render, please try loading this page with nbviewer.org.</b></div><div class=\"sk-container\" hidden><div class=\"sk-item\"><div class=\"sk-estimator sk-toggleable\"><input class=\"sk-toggleable__control sk-hidden--visually\" id=\"sk-estimator-id-3\" type=\"checkbox\" checked><label for=\"sk-estimator-id-3\" class=\"sk-toggleable__label sk-toggleable__label-arrow\">MLPRegressor</label><div class=\"sk-toggleable__content\"><pre>MLPRegressor(hidden_layer_sizes=(11, 11, 11), max_iter=500)</pre></div></div></div></div></div>"
      ],
      "text/plain": [
       "MLPRegressor(hidden_layer_sizes=(11, 11, 11), max_iter=500)"
      ]
     },
     "execution_count": 105,
     "metadata": {},
     "output_type": "execute_result"
    }
   ],
   "source": [
    "MLPclassifier.fit(x_train, y_train)"
   ]
  },
  {
   "cell_type": "code",
   "execution_count": 106,
   "metadata": {},
   "outputs": [],
   "source": [
    "y_pred = MLPclassifier.predict(x_test)"
   ]
  },
  {
   "cell_type": "code",
   "execution_count": 107,
   "metadata": {},
   "outputs": [
    {
     "data": {
      "text/plain": [
       "0.9792402897566651"
      ]
     },
     "execution_count": 107,
     "metadata": {},
     "output_type": "execute_result"
    }
   ],
   "source": [
    "MLPclassifier.score(x_test, y_test)"
   ]
  },
  {
   "cell_type": "code",
   "execution_count": 108,
   "metadata": {},
   "outputs": [],
   "source": [
    "# Calculate mean squared error\n",
    "mse = mean_squared_error(y_test, y_pred)"
   ]
  },
  {
   "cell_type": "code",
   "execution_count": 109,
   "metadata": {},
   "outputs": [
    {
     "name": "stdout",
     "output_type": "stream",
     "text": [
      "Mean Squared Error: 0.001789812459641103\n"
     ]
    }
   ],
   "source": [
    "print(\"Mean Squared Error:\", mse)"
   ]
  },
  {
   "cell_type": "code",
   "execution_count": null,
   "metadata": {},
   "outputs": [],
   "source": []
  },
  {
   "cell_type": "code",
   "execution_count": null,
   "metadata": {},
   "outputs": [],
   "source": []
  },
  {
   "cell_type": "code",
   "execution_count": null,
   "metadata": {},
   "outputs": [],
   "source": []
  },
  {
   "cell_type": "code",
   "execution_count": null,
   "metadata": {},
   "outputs": [],
   "source": []
  },
  {
   "cell_type": "code",
   "execution_count": null,
   "metadata": {},
   "outputs": [],
   "source": []
  },
  {
   "cell_type": "code",
   "execution_count": null,
   "metadata": {},
   "outputs": [],
   "source": []
  }
 ],
 "metadata": {
  "kernelspec": {
   "display_name": "Python 3",
   "language": "python",
   "name": "python3"
  },
  "language_info": {
   "codemirror_mode": {
    "name": "ipython",
    "version": 3
   },
   "file_extension": ".py",
   "mimetype": "text/x-python",
   "name": "python",
   "nbconvert_exporter": "python",
   "pygments_lexer": "ipython3",
   "version": "3.8.3"
  },
  "toc": {
   "base_numbering": 1,
   "nav_menu": {},
   "number_sections": true,
   "sideBar": true,
   "skip_h1_title": false,
   "title_cell": "Table of Contents",
   "title_sidebar": "Contents",
   "toc_cell": false,
   "toc_position": {
    "height": "calc(100% - 180px)",
    "left": "10px",
    "top": "150px",
    "width": "165px"
   },
   "toc_section_display": true,
   "toc_window_display": false
  }
 },
 "nbformat": 4,
 "nbformat_minor": 4
}
